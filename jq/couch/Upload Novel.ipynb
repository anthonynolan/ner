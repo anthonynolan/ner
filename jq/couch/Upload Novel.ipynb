{
 "cells": [
  {
   "cell_type": "code",
   "execution_count": 3,
   "id": "delayed-freeware",
   "metadata": {},
   "outputs": [
    {
     "name": "stdout",
     "output_type": "stream",
     "text": [
      "<!DOCTYPE html PUBLIC \"-//W3C//DTD XHTML 1.0 Strict//EN\" \"http://www.w3.org/TR/xhtml1/DTD/xhtml1-str\n"
     ]
    }
   ],
   "source": [
    "from cloudant.client import CouchDB\n",
    "\n",
    "import bs4\n",
    "\n",
    "with open('../../data/bleak.htm', encoding='ISO-8859-1') as f:\n",
    "    content = f.read()\n",
    "    \n",
    "print(content[:100])\n",
    "bs = bs4.BeautifulSoup(content)\n",
    "paragraphs = bs.find_all('p')"
   ]
  },
  {
   "cell_type": "code",
   "execution_count": 12,
   "id": "hired-prospect",
   "metadata": {},
   "outputs": [],
   "source": [
    "cleaned_paragraphs = [paragraph.text.strip().replace('\\n', ' ') for paragraph in paragraphs if len(paragraph.text.strip())>0]"
   ]
  },
  {
   "cell_type": "code",
   "execution_count": 16,
   "id": "computational-story",
   "metadata": {},
   "outputs": [
    {
     "data": {
      "text/plain": [
       "5419"
      ]
     },
     "execution_count": 16,
     "metadata": {},
     "output_type": "execute_result"
    }
   ],
   "source": [
    "len(cleaned_paragraphs)"
   ]
  },
  {
   "cell_type": "code",
   "execution_count": 13,
   "id": "brutal-stopping",
   "metadata": {},
   "outputs": [],
   "source": [
    "client = CouchDB('admin', 'password1', url='http://127.0.0.1:5984', connect=True)  \n",
    "db = client['novel']    "
   ]
  },
  {
   "cell_type": "code",
   "execution_count": 19,
   "id": "exempt-domestic",
   "metadata": {},
   "outputs": [],
   "source": [
    "docs = []\n",
    "\n",
    "for id, content in enumerate(cleaned_paragraphs):\n",
    "    docs.append({\"id\": id, \"content\": content})\n",
    "    \n",
    "db.bulk_docs(docs)"
   ]
  },
  {
   "cell_type": "code",
   "execution_count": null,
   "id": "horizontal-karen",
   "metadata": {},
   "outputs": [],
   "source": []
  }
 ],
 "metadata": {
  "kernelspec": {
   "display_name": "Python 3",
   "language": "python",
   "name": "python3"
  },
  "language_info": {
   "codemirror_mode": {
    "name": "ipython",
    "version": 3
   },
   "file_extension": ".py",
   "mimetype": "text/x-python",
   "name": "python",
   "nbconvert_exporter": "python",
   "pygments_lexer": "ipython3",
   "version": "3.8.7"
  }
 },
 "nbformat": 4,
 "nbformat_minor": 5
}
