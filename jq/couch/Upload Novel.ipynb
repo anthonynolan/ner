{
 "cells": [
  {
   "cell_type": "code",
   "execution_count": 3,
   "id": "delayed-freeware",
   "metadata": {},
   "outputs": [
    {
     "name": "stdout",
     "output_type": "stream",
     "text": [
      "<!DOCTYPE html PUBLIC \"-//W3C//DTD XHTML 1.0 Strict//EN\" \"http://www.w3.org/TR/xhtml1/DTD/xhtml1-str\n"
     ]
    }
   ],
   "source": [
    "from cloudant.client import CouchDB\n",
    "\n",
    "import bs4\n",
    "\n",
    "with open('../../data/bleak.htm', encoding='ISO-8859-1') as f:\n",
    "    content = f.read()\n",
    "    \n",
    "print(content[:100])\n",
    "bs = bs4.BeautifulSoup(content)\n",
    "paragraphs = bs.find_all('p')"
   ]
  },
  {
   "cell_type": "code",
   "execution_count": 12,
   "id": "hired-prospect",
   "metadata": {},
   "outputs": [],
   "source": [
    "cleaned_paragraphs = [paragraph.text.strip().replace('\\n', ' ') for paragraph in paragraphs if len(paragraph.text.strip())>0]"
   ]
  },
  {
   "cell_type": "code",
   "execution_count": 16,
   "id": "computational-story",
   "metadata": {},
   "outputs": [
    {
     "data": {
      "text/plain": [
       "5419"
      ]
     },
     "execution_count": 16,
     "metadata": {},
     "output_type": "execute_result"
    }
   ],
   "source": [
    "len(cleaned_paragraphs)"
   ]
  },
  {
   "cell_type": "code",
   "execution_count": 13,
   "id": "brutal-stopping",
   "metadata": {},
   "outputs": [],
   "source": [
    "client = CouchDB('admin', 'password1', url='http://127.0.0.1:5984', connect=True)  \n",
    "db = client['novel']    "
   ]
  },
  {
   "cell_type": "code",
   "execution_count": 19,
   "id": "exempt-domestic",
   "metadata": {},
   "outputs": [],
   "source": [
    "docs = []\n",
    "\n",
    "for id, content in enumerate(cleaned_paragraphs):\n",
    "    docs.append({\"id\": id, \"content\": content})\n",
    "    \n",
    "db.bulk_docs(docs)"
   ]
  },
  {
   "cell_type": "code",
   "execution_count": 11,
   "id": "horizontal-karen",
   "metadata": {},
   "outputs": [
    {
     "name": "stdout",
     "output_type": "stream",
     "text": [
      "{'_id': '986e82e4dc9b35d67a1c24e3450007b0', '_rev': '1-0e9ffaa4132b6c7239fd799496327fb4', 'name': 'stuff'}\n",
      "{'_id': '986e82e4dc9b35d67a1c24e345002e20', '_rev': '1-c61e635a2ece8c537ed79339444c9c22', 'stuff': 'even more stuff'}\n"
     ]
    }
   ],
   "source": [
    "import requests\n",
    "DB_URL = 'http://127.0.0.1:5984'\n",
    "\n",
    "book_list = requests.get(DB_URL+'/books/_all_docs', auth=('admin', 'password1')).json()\n",
    "\n",
    "books = []\n",
    "for book in book_list['rows']:\n",
    "    books.append(requests.get(DB_URL+'/books/'+book['id'], auth=('admin', 'password1')).json())\n",
    "return books"
   ]
  },
  {
   "cell_type": "code",
   "execution_count": null,
   "id": "regulated-detection",
   "metadata": {},
   "outputs": [],
   "source": []
  }
 ],
 "metadata": {
  "kernelspec": {
   "display_name": "Python 3",
   "language": "python",
   "name": "python3"
  },
  "language_info": {
   "codemirror_mode": {
    "name": "ipython",
    "version": 3
   },
   "file_extension": ".py",
   "mimetype": "text/x-python",
   "name": "python",
   "nbconvert_exporter": "python",
   "pygments_lexer": "ipython3",
   "version": "3.8.7"
  }
 },
 "nbformat": 4,
 "nbformat_minor": 5
}
