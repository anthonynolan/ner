{
 "cells": [
  {
   "cell_type": "code",
   "execution_count": 8,
   "id": "romance-circuit",
   "metadata": {},
   "outputs": [],
   "source": [
    "import pandas as pd\n",
    "import tensorflow as tf\n",
    "from tensorflow import keras\n",
    "from tensorflow.keras import layers\n",
    "import matplotlib.pyplot as plt\n",
    "import numpy as np\n",
    "import re\n",
    "\n",
    "from collections import defaultdict"
   ]
  },
  {
   "cell_type": "code",
   "execution_count": 9,
   "id": "assumed-enlargement",
   "metadata": {},
   "outputs": [],
   "source": [
    "UNK = '<UNK>'\n",
    "PAD = '<PAD>'"
   ]
  },
  {
   "cell_type": "code",
   "execution_count": 10,
   "id": "hairy-sheep",
   "metadata": {},
   "outputs": [
    {
     "data": {
      "text/html": [
       "<div>\n",
       "<style scoped>\n",
       "    .dataframe tbody tr th:only-of-type {\n",
       "        vertical-align: middle;\n",
       "    }\n",
       "\n",
       "    .dataframe tbody tr th {\n",
       "        vertical-align: top;\n",
       "    }\n",
       "\n",
       "    .dataframe thead th {\n",
       "        text-align: right;\n",
       "    }\n",
       "</style>\n",
       "<table border=\"1\" class=\"dataframe\">\n",
       "  <thead>\n",
       "    <tr style=\"text-align: right;\">\n",
       "      <th></th>\n",
       "      <th>review</th>\n",
       "      <th>sentiment</th>\n",
       "    </tr>\n",
       "  </thead>\n",
       "  <tbody>\n",
       "    <tr>\n",
       "      <th>0</th>\n",
       "      <td>One of the other reviewers has mentioned that ...</td>\n",
       "      <td>positive</td>\n",
       "    </tr>\n",
       "    <tr>\n",
       "      <th>1</th>\n",
       "      <td>A wonderful little production. &lt;br /&gt;&lt;br /&gt;The...</td>\n",
       "      <td>positive</td>\n",
       "    </tr>\n",
       "    <tr>\n",
       "      <th>2</th>\n",
       "      <td>I thought this was a wonderful way to spend ti...</td>\n",
       "      <td>positive</td>\n",
       "    </tr>\n",
       "    <tr>\n",
       "      <th>3</th>\n",
       "      <td>Basically there's a family where a little boy ...</td>\n",
       "      <td>negative</td>\n",
       "    </tr>\n",
       "    <tr>\n",
       "      <th>4</th>\n",
       "      <td>Petter Mattei's \"Love in the Time of Money\" is...</td>\n",
       "      <td>positive</td>\n",
       "    </tr>\n",
       "  </tbody>\n",
       "</table>\n",
       "</div>"
      ],
      "text/plain": [
       "                                              review sentiment\n",
       "0  One of the other reviewers has mentioned that ...  positive\n",
       "1  A wonderful little production. <br /><br />The...  positive\n",
       "2  I thought this was a wonderful way to spend ti...  positive\n",
       "3  Basically there's a family where a little boy ...  negative\n",
       "4  Petter Mattei's \"Love in the Time of Money\" is...  positive"
      ]
     },
     "execution_count": 10,
     "metadata": {},
     "output_type": "execute_result"
    }
   ],
   "source": [
    "data = pd.read_csv('data/IMDB Dataset.csv')\n",
    "data.head()"
   ]
  },
  {
   "cell_type": "code",
   "execution_count": 11,
   "id": "answering-duncan",
   "metadata": {},
   "outputs": [
    {
     "data": {
      "text/plain": [
       "25000"
      ]
     },
     "execution_count": 11,
     "metadata": {},
     "output_type": "execute_result"
    }
   ],
   "source": [
    "# Check if the data is balanced. ok\n",
    "\n",
    "len(data[data['sentiment']=='positive'])"
   ]
  },
  {
   "cell_type": "code",
   "execution_count": 12,
   "id": "celtic-tolerance",
   "metadata": {},
   "outputs": [
    {
     "name": "stdout",
     "output_type": "stream",
     "text": [
      "encoded 76846 numbers\n"
     ]
    }
   ],
   "source": [
    "# create the vocabulary\n",
    "\n",
    "long_string = ' '.join(data['review'].values).lower()\n",
    "chars_to_drop = list('.')\n",
    "for c in chars_to_drop:\n",
    "    long_string = long_string.replace(c, '')\n",
    "\n",
    "chars_to_replace = list(' ,\\'<>\\/*\"()!?$#@+-%=&_;:{}`[]^')\n",
    "for c in chars_to_replace:\n",
    "    long_string = long_string.replace(c, ' ')\n",
    "\n",
    "long_string, num_stripped = re.subn('[0-9]+', '<NUM> ', long_string)\n",
    "print(f'encoded {num_stripped} numbers')"
   ]
  },
  {
   "cell_type": "code",
   "execution_count": 13,
   "id": "british-mailing",
   "metadata": {},
   "outputs": [
    {
     "data": {
      "text/plain": [
       "114642"
      ]
     },
     "execution_count": 13,
     "metadata": {},
     "output_type": "execute_result"
    }
   ],
   "source": [
    "vocab = set([UNK])\n",
    "vocab.update(long_string.split())\n",
    "len(vocab)"
   ]
  },
  {
   "cell_type": "code",
   "execution_count": 15,
   "id": "impossible-ministry",
   "metadata": {},
   "outputs": [],
   "source": [
    "# Create the lookup tables for encoding the words and stuff PAD in there at 0\n",
    "\n",
    "index_to_word = {k+1:v for k, v in enumerate(vocab)}\n",
    "index_to_word[0] = PAD\n",
    "word_to_index = defaultdict(None, {v:k for k, v in index_to_word.items()})"
   ]
  },
  {
   "cell_type": "code",
   "execution_count": 16,
   "id": "variable-female",
   "metadata": {},
   "outputs": [
    {
     "data": {
      "text/plain": [
       "'<PAD>'"
      ]
     },
     "execution_count": 16,
     "metadata": {},
     "output_type": "execute_result"
    }
   ],
   "source": [
    "index_to_word[0]"
   ]
  },
  {
   "cell_type": "code",
   "execution_count": 17,
   "id": "limited-encounter",
   "metadata": {},
   "outputs": [
    {
     "name": "stdout",
     "output_type": "stream",
     "text": [
      "Match 1: Tag Team Table Match Bubba Ray and Spike Dudley vs Eddie Guerrero and Chris Benoit Bubba Ray and Spike Dudley started things off with a Tag Team Table Match against Eddie Guerrero and Chris Benoit. According to the rules of the match, both opponents have to go through tables in order to get the win. Benoit and Guerrero heated up early on by taking turns hammering first Spike and then Bubba Ray. A German suplex by Benoit to Bubba took the wind out of the Dudley brother. Spike tried to help his brother, but the referee restrained him while Benoit and Guerrero ganged up on him in the corner. With Benoit stomping away on Bubba, Guerrero set up a table outside. Spike dashed into the ring and somersaulted over the top rope onto Guerrero on the outside! After recovering and taking care of Spike, Guerrero slipped a table into the ring and helped the Wolverine set it up. The tandem then set up for a double superplex from the middle rope which would have put Bubba through the table, but Spike knocked the table over right before his brother came crashing down! Guerrero and Benoit propped another table in the corner and tried to Irish Whip Spike through it, but Bubba dashed in and blocked his brother. Bubba caught fire and lifted both opponents into back body drops! Bubba slammed Guerrero and Spike stomped on the Wolverine from off the top rope. Bubba held Benoit at bay for Spike to soar into the Wassup! headbutt! Shortly after, Benoit latched Spike in the Crossface, but the match continued even after Spike tapped out. Bubba came to his brother's rescue and managed to sprawl Benoit on a table. Bubba leapt from the middle rope, but Benoit moved and sent Bubba crashing through the wood! But because his opponents didn't force him through the table, Bubba was allowed to stay in the match. The first man was eliminated shortly after, though, as Spike put Eddie through a table with a Dudley Dawg from the ring apron to the outside! Benoit put Spike through a table moments later to even the score. Within seconds, Bubba nailed a Bubba Bomb that put Benoit through a table and gave the Dudleys the win! Winner: Bubba Ray and Spike Dudley<br /><br />Match 2: Cruiserweight Championship Jamie Noble vs Billy Kidman Billy Kidman challenged Jamie Noble, who brought Nidia with him to the ring, for the Cruiserweight Championship. Noble and Kidman locked up and tumbled over the ring, but raced back inside and grappled some more. When Kidman thwarted all Noble's moves, Noble fled outside the ring where Nidia gave him some encouragement. The fight spread outside the ring and Noble threw his girlfriend into the challenger. Kidman tossed Nidia aside but was taken down with a modified arm bar. Noble continued to attack Kidman's injured arm back in the ring. Kidman's injured harm hampered his offense, but he continued to battle hard. Noble tried to put Kidman away with a powerbomb but the challenger countered into a facebuster. Kidman went to finish things with a Shooting Star Press, but Noble broke up the attempt. Kidman went for the Shooting Star Press again, but this time Noble just rolled out of harm's way. Noble flipped Kidman into a power bomb soon after and got the pin to retain his WWE Cruiserweight Championship! Winner: Jamie Noble<br /><br />Match 3: European Championship William Regal vs Jeff Hardy William Regal took on Jeff Hardy next in an attempt to win back the European Championship. Jeff catapulted Regal over the top rope then took him down with a hurracanrana off the ring apron. Back in the ring, Jeff hit the Whisper in the wind to knock Regal for a loop. Jeff went for the Swanton Bomb, but Regal got his knees up to hit Jeff with a devastating shot. Jeff managed to surprise Regal with a quick rollup though and got the pin to keep the European Championship! Regal started bawling at seeing Hardy celebrate on his way back up the ramp. Winner: Jeff Hardy<br /><br />Match 4: Chris Jericho vs John Cena Chris Jericho had promised to end John Cena's career in their match at Vengeance, which came up next. Jericho tried to teach Cena a lesson as their match began by suplexing him to the mat. Jericho continued to knock Cena around the ring until his cockiness got the better of him. While on the top rope, Jericho began to showboat and allowed Cena to grab him for a superplex! Cena followed with a tilt-a-whirl slam but was taken down with a nasty dropkick to the gut. The rookie recovered and hit a belly to belly suplex but couldn't put Y2J away. Jericho launched into the Lionsault but Cena dodged the move. Jericho nailed a bulldog and then connected on the Lionsault, but did not go for the cover. He goaded Cena to his feet so he could put on the Walls of Jericho. Cena had other ideas, reversing the move into a pin attempt and getting the 1-2-3! Jericho went berserk after the match. Winner: John Cena<br /><br />Match 5: Intercontinental Championship RVD vs Brock Lesnar via disqualification The Next Big Thing and Mr. Pay-Per-View tangled with the Intercontinental Championship on the line. Brock grabbed the title from the ref and draped it over his shoulder momentarily while glaring at RVD. Van Dam 's quickness gave Brock fits early on. The big man rolled out of the ring and kicked the steel steps out of frustration. Brock pulled himself together and began to take charge. With Paul Heyman beaming at ringside, Brock slammed RVD to the hard floor outside the ring. From there, Brock began to overpower RVD, throwing him with ease over the top rope. RVD landed painfully on his back, then had to suffer from having his spine cracked against the steel ring steps. The fight returned to the ring with Brock squeezing RVD around the ribs. RVD broke away and soon after leveled Brock with a kick to the temple. RVD followed with the Rolling Thunder but Brock managed to kick out after a two-count. The fight looked like it might be over soon as RVD went for a Five-Star Frog Splash. Brock, though, hoisted Van Dam onto his shoulder and went for the F-5, but RVD whirled Brock into a DDT and followed with the Frog Splash! He went for the pin, but Heyman pulled the ref from the ring! The ref immediately called for a disqualification and soon traded blows with Heyman! After, RVD leapt onto Brock from the top rope and then threatened to hit the Van Terminator! Heyman grabbed RVD's leg and Brock picked up the champ and this time connected with the F-5 onto a steel chair! Winner: RVD<br /><br />Match 6: Booker T vs the Big Show Booker T faced the Big Show one-on-one next. Show withstood Booker T's kicks and punches and slapped Booker into the corner. After being thrown from the ring, Booker picked up a chair at ringside, but Big Show punched it back into Booker's face. Booker tried to get back into the game by choking Show with a camera cable at ringside. Booker smashed a TV monitor from the Spanish announcers' position into Show's skull, then delivered a scissors kick that put both men through the table! Booker crawled back into the ring and Big Show staggered in moments later. Show grabbed Booker's throat but was met by a low blow and a kick to the face. Booker climbed the top rope and nailed a somersaulting leg drop to get the pin! Winner: Booker T<br /><br />Announcement: Triple H entered the ring to a thunderous ovation as fans hoped to learn where The Game would end up competing. Before he could speak, Eric Bishoff stopped The Game to apologize for getting involved in his personal business. If Triple H signed with RAW, Bischoff promised his personal life would never come into play again. Bischoff said he's spent the past two years networking in Hollywood. He said everyone was looking for the next breakout WWE Superstar, and they were all talking about Triple H. Bischoff guaranteed that if Triple H signed with RAW, he'd be getting top opportunities coming his way. Stephanie McMahon stepped out to issue her own pitch. She said that because of her personal history with Triple H, the two of them know each other very well. She said the two of them were once unstoppable and they can be again. Bischoff cut her off and begged her to stop. Stephanie cited that Triple H once told her how Bischoff said Triple H had no talent and no charisma. Bischoff said he was young at the time and didn't know what he had, but he still has a lot more experience that Stephanie. The two continued to bicker back and forth, until Triple H stepped up with his microphone. The Game said it would be easy to say \"screw you\" to either one of them. Triple H went to shake Bischoff's hand, but pulled it away. He said he would rather go with the devil he knows, rather than the one he doesn't know. Before he could go any further, though, Shawn Michaels came out to shake things up. HBK said the last thing he wanted to do was cause any trouble. He didn't want to get involved, but he remembered pledging to bring Triple H to the nWo. HBK said there's nobody in the world that Triple H is better friends with. HBK told his friend to imagine the two back together again, making Bischoff's life a living hell. Triple H said that was a tempting offer. He then turned and hugged HBK, making official his switch to RAW! Triple H and HBK left, and Bischoff gloated over his victory. Bischoff said the difference between the two of them is that he's got testicles and she doesn't. Stephanie whacked Bischoff on the side of the head and left!<br /><br />Match 7: Tag Team Championship Match Christian and Lance Storm vs Hollywood Hogan and Edge The match started with loud \"USA\" chants and with Hogan shoving Christian through the ropes and out of the ring. The Canadians took over from there. But Edge scored a kick to Christian's head and planted a facebuster on Storm to get the tag to Hogan. Hogan began to Hulk up and soon caught Christian with a big boot and a leg drop! Storm broke up the count and Christian tossed Hogan from the ring where Storm superkicked the icon. Edge tagged in soon after and dropped both opponents. He speared both of them into the corner turnbuckles, but missed a spear on Strom and hit the ref hard instead. Edge nailed a DDT, but the ref was down and could not count. Test raced down and took down Hogan then leveled Edge with a boot. Storm tried to get the pin, but Edge kicked out after two. Riksihi sprinted in to fend off Test, allowing Edge to recover and spear Storm. Christian distracted the ref, though, and Y2J dashed in and clocked Edge with the Tag Team Championship! Storm rolled over and got the pinfall to win the title! Winners and New Tag Team Champions: Christian and Lance Storm<br /><br />Match 8: WWE Undisputed Championship Triple Threat Match. The Rock vs Kurt Angle and the Undertaker Three of WWE's most successful superstars lined up against each other in a Triple Threat Match with the Undisputed Championship hanging in the balance. Taker and The Rock got face to face with Kurt Angle begging for some attention off to the side. He got attention in the form of a beat down form the two other men. Soon after, Taker spilled out of the ring and The Rock brawled with Angle. Angle gave a series of suplexes that took down Rock, but the Great One countered with a DDT that managed a two-count. The fight continued outside the ring with Taker coming to life and clotheslining Angle and repeatedly smacking The Rock. Taker and Rock got into it back into the ring, and Taker dropped The Rock with a sidewalk slam to get a two-count. Rock rebounded, grabbed Taker by the throat and chokeslammed him! Angle broke up the pin attempt that likely would have given The Rock the title. The Rock retaliated by latching on the ankle lock to Kurt Angle. Angle reversed the move and Rock Bottomed the People's Champion. Soon after, The Rock disposed of Angle and hit the People's Elbow on the Undertaker. Angle tried to take advantage by disabling the Great One outside the ring and covering Taker, who kicked out after a two count. Outside the ring, Rock took a big swig from a nearby water bottle and spewed the liquid into Taker's face to blind the champion. Taker didn't stay disabled for long, and managed to overpower Rock and turn his attention to Angle. Taker landed a guillotine leg drop onto Angle, laying on the ring apron. The Rock picked himself up just in time to break up a pin attempt on Kurt Angle. Taker nailed Rock with a DDT and set him up for a chokeslam. ANgle tried sneaking up with a steel chair, but Taker caught on to that tomfoolery and smacked it out of his hands. The referee got caught in the ensuing fire and didn't see Angle knock Taker silly with a steel chair. Angle went to cover Taker as The Rock lay prone, but the Dead Man somehow got his shoulder up. Angle tried to pin Rock, but he too kicked out. The Rock got up and landed Angle in the sharpshooter! Angle looked like he was about to tap, but Taker kicked The Rock out of the submission hold. Taker picked Rock up and crashed him with the Last Ride. While the Dead Man covered him for the win, Angle raced in and picked Taker up in the ankle lock! Taker went delirious with pain, but managed to counter. He picked Angle up for the last ride, but Angle put on a triangle choke! It looked like Taker was about to pass out, but The Rock broke Angle's hold only to find himself caught in the ankle lock. Rock got out of the hold and watched Taker chokeslam Angle. Rocky hit the Rock Bottom, but Taker refused to go down and kicked out. Angle whirled Taker up into the Angle Slam but was Rock Bottomed by the Great One and pinned! Winner and New WWE Champion: The Rock<br /><br />~Finally there is a decent PPV! Lately the PPV weren't very good, but this one was a winner. I give this PPV a A-<br /><br />\n"
     ]
    }
   ],
   "source": [
    "# Take a look at the longest review\n",
    "\n",
    "data['max_length'] = data['review'].map(lambda x: len(x.split()))\n",
    "print(data.loc[np.argmax(data['max_length'])].review)"
   ]
  },
  {
   "cell_type": "code",
   "execution_count": 18,
   "id": "assured-prompt",
   "metadata": {},
   "outputs": [
    {
     "data": {
      "image/png": "[encoded data removed]",
      "text/plain": [
       "<Figure size 432x288 with 1 Axes>"
      ]
     },
     "metadata": {
      "needs_background": "light"
     },
     "output_type": "display_data"
    }
   ],
   "source": [
    "# Histogram of review lengths in words\n",
    "# Mostly capped at 1000\n",
    "_ = plt.hist(data['max_length'], bins=100)\n",
    "plt.show()"
   ]
  },
  {
   "cell_type": "code",
   "execution_count": 19,
   "id": "thick-joint",
   "metadata": {},
   "outputs": [
    {
     "data": {
      "text/html": [
       "<div>\n",
       "<style scoped>\n",
       "    .dataframe tbody tr th:only-of-type {\n",
       "        vertical-align: middle;\n",
       "    }\n",
       "\n",
       "    .dataframe tbody tr th {\n",
       "        vertical-align: top;\n",
       "    }\n",
       "\n",
       "    .dataframe thead th {\n",
       "        text-align: right;\n",
       "    }\n",
       "</style>\n",
       "<table border=\"1\" class=\"dataframe\">\n",
       "  <thead>\n",
       "    <tr style=\"text-align: right;\">\n",
       "      <th></th>\n",
       "      <th>review</th>\n",
       "      <th>sentiment</th>\n",
       "      <th>max_length</th>\n",
       "    </tr>\n",
       "  </thead>\n",
       "  <tbody>\n",
       "    <tr>\n",
       "      <th>28629</th>\n",
       "      <td>I have never seen any of Spike Lee's prior fil...</td>\n",
       "      <td>negative</td>\n",
       "      <td>1001</td>\n",
       "    </tr>\n",
       "    <tr>\n",
       "      <th>24578</th>\n",
       "      <td>I read several mixed reviews and several of th...</td>\n",
       "      <td>positive</td>\n",
       "      <td>1001</td>\n",
       "    </tr>\n",
       "    <tr>\n",
       "      <th>20987</th>\n",
       "      <td>This film grabbed me right from its start, whe...</td>\n",
       "      <td>positive</td>\n",
       "      <td>1001</td>\n",
       "    </tr>\n",
       "    <tr>\n",
       "      <th>20429</th>\n",
       "      <td>This review contains spoilers. I didn't have a...</td>\n",
       "      <td>negative</td>\n",
       "      <td>1001</td>\n",
       "    </tr>\n",
       "    <tr>\n",
       "      <th>29604</th>\n",
       "      <td>I really don't think producer George Lucas did...</td>\n",
       "      <td>negative</td>\n",
       "      <td>1001</td>\n",
       "    </tr>\n",
       "    <tr>\n",
       "      <th>...</th>\n",
       "      <td>...</td>\n",
       "      <td>...</td>\n",
       "      <td>...</td>\n",
       "    </tr>\n",
       "    <tr>\n",
       "      <th>12647</th>\n",
       "      <td>Titanic directed by James Cameron presents a f...</td>\n",
       "      <td>positive</td>\n",
       "      <td>1839</td>\n",
       "    </tr>\n",
       "    <tr>\n",
       "      <th>31240</th>\n",
       "      <td>(Some spoilers included:)&lt;br /&gt;&lt;br /&gt;Although,...</td>\n",
       "      <td>positive</td>\n",
       "      <td>2108</td>\n",
       "    </tr>\n",
       "    <tr>\n",
       "      <th>31436</th>\n",
       "      <td>Back in the mid/late 80s, an OAV anime by titl...</td>\n",
       "      <td>positive</td>\n",
       "      <td>2125</td>\n",
       "    </tr>\n",
       "    <tr>\n",
       "      <th>40521</th>\n",
       "      <td>There's a sign on The Lost Highway that says:&lt;...</td>\n",
       "      <td>positive</td>\n",
       "      <td>2278</td>\n",
       "    </tr>\n",
       "    <tr>\n",
       "      <th>31481</th>\n",
       "      <td>Match 1: Tag Team Table Match Bubba Ray and Sp...</td>\n",
       "      <td>positive</td>\n",
       "      <td>2470</td>\n",
       "    </tr>\n",
       "  </tbody>\n",
       "</table>\n",
       "<p>82 rows × 3 columns</p>\n",
       "</div>"
      ],
      "text/plain": [
       "                                                  review sentiment  max_length\n",
       "28629  I have never seen any of Spike Lee's prior fil...  negative        1001\n",
       "24578  I read several mixed reviews and several of th...  positive        1001\n",
       "20987  This film grabbed me right from its start, whe...  positive        1001\n",
       "20429  This review contains spoilers. I didn't have a...  negative        1001\n",
       "29604  I really don't think producer George Lucas did...  negative        1001\n",
       "...                                                  ...       ...         ...\n",
       "12647  Titanic directed by James Cameron presents a f...  positive        1839\n",
       "31240  (Some spoilers included:)<br /><br />Although,...  positive        2108\n",
       "31436  Back in the mid/late 80s, an OAV anime by titl...  positive        2125\n",
       "40521  There's a sign on The Lost Highway that says:<...  positive        2278\n",
       "31481  Match 1: Tag Team Table Match Bubba Ray and Sp...  positive        2470\n",
       "\n",
       "[82 rows x 3 columns]"
      ]
     },
     "execution_count": 19,
     "metadata": {},
     "output_type": "execute_result"
    }
   ],
   "source": [
    "# Only a small number over 1000, so we wil se this as our max length\n",
    "data[data['max_length']>1000].sort_values('max_length')"
   ]
  },
  {
   "cell_type": "code",
   "execution_count": 185,
   "id": "painted-rings",
   "metadata": {},
   "outputs": [],
   "source": [
    "MAX_REVIEW_LENGTH = 150"
   ]
  },
  {
   "cell_type": "code",
   "execution_count": 186,
   "id": "congressional-pocket",
   "metadata": {},
   "outputs": [],
   "source": [
    "# Map all words to indices up to our max length\n",
    "\n",
    "def encode_review(review):\n",
    "    encoded_review = [word_to_index.get(word, word_to_index[UNK]) for word in review.lower().split()[:MAX_REVIEW_LENGTH]]\n",
    "\n",
    "    if len(encoded_review)<MAX_REVIEW_LENGTH:\n",
    "        return (MAX_REVIEW_LENGTH - len(encoded_review))*[word_to_index[PAD]] + encoded_review\n",
    "    else:\n",
    "        return encoded_review\n",
    "\n",
    "encoded_reviews = [encode_review(line) for line in data['review'].to_list() ]"
   ]
  },
  {
   "cell_type": "code",
   "execution_count": 187,
   "id": "ranking-current",
   "metadata": {},
   "outputs": [],
   "source": [
    "# Create X and y\n",
    "\n",
    "X = np.array(encoded_reviews)\n",
    "y = np.array([1 if x=='positive' else 0 for x in data['sentiment'].to_list() ])"
   ]
  },
  {
   "cell_type": "code",
   "execution_count": 188,
   "id": "daily-giant",
   "metadata": {},
   "outputs": [
    {
     "data": {
      "text/plain": [
       "[(37500, 150), (12500, 150), (37500,), (12500,)]"
      ]
     },
     "execution_count": 188,
     "metadata": {},
     "output_type": "execute_result"
    }
   ],
   "source": [
    "# split to train and test data\n",
    "\n",
    "from sklearn.model_selection import train_test_split\n",
    "X_train, X_test, y_train, y_test = train_test_split(X, y)\n",
    "list(map(np.shape, [X_train, X_test, y_train, y_test]))"
   ]
  },
  {
   "cell_type": "code",
   "execution_count": 189,
   "id": "pending-florida",
   "metadata": {},
   "outputs": [
    {
     "data": {
      "text/plain": [
       "LogisticRegression()"
      ]
     },
     "execution_count": 189,
     "metadata": {},
     "output_type": "execute_result"
    }
   ],
   "source": [
    "# Try fit a linear model for unprocessed features (very unlikely, 1000 features)\n",
    "\n",
    "from sklearn.linear_model import LogisticRegression\n",
    "lr = LogisticRegression()\n",
    "lr.fit(X_train, y_train)"
   ]
  },
  {
   "cell_type": "code",
   "execution_count": 190,
   "id": "brief-lemon",
   "metadata": {},
   "outputs": [],
   "source": [
    "# Use PCA to limit to 50 components\n",
    "\n",
    "from sklearn.decomposition import PCA\n",
    "p = PCA(n_components=50)\n",
    "X_transformed = p.fit_transform(X)"
   ]
  },
  {
   "cell_type": "code",
   "execution_count": 191,
   "id": "appropriate-farmer",
   "metadata": {},
   "outputs": [
    {
     "data": {
      "text/plain": [
       "array([0.14351566, 0.03754634, 0.01532895, 0.01071348, 0.00838333,\n",
       "       0.00730967, 0.00688362, 0.0063805 , 0.00624199, 0.00622566,\n",
       "       0.00619256, 0.00617198, 0.00614467, 0.00611184, 0.00609883,\n",
       "       0.00609719, 0.00605999, 0.00604571, 0.00603751, 0.00602384,\n",
       "       0.00600549, 0.00597596, 0.00596294, 0.0059366 , 0.00592594,\n",
       "       0.00589388, 0.00588525, 0.00587486, 0.00585435, 0.00584114,\n",
       "       0.00580475, 0.00579097, 0.00578794, 0.00576764, 0.00574243,\n",
       "       0.00572959, 0.00571637, 0.00571461, 0.00568206, 0.00566234,\n",
       "       0.00565111, 0.0056328 , 0.00561183, 0.00558248, 0.00556844,\n",
       "       0.0055388 , 0.00552857, 0.00550524, 0.00548935, 0.00546776])"
      ]
     },
     "execution_count": 191,
     "metadata": {},
     "output_type": "execute_result"
    }
   ],
   "source": [
    "# The explained variance is spread pretty widely. We are unlikely to get anything out of this\n",
    "\n",
    "p.explained_variance_ratio_"
   ]
  },
  {
   "cell_type": "code",
   "execution_count": 192,
   "id": "burning-implement",
   "metadata": {},
   "outputs": [
    {
     "data": {
      "text/plain": [
       "(50000, 50)"
      ]
     },
     "execution_count": 192,
     "metadata": {},
     "output_type": "execute_result"
    }
   ],
   "source": [
    "X_transformed.shape"
   ]
  },
  {
   "cell_type": "code",
   "execution_count": 193,
   "id": "driving-table",
   "metadata": {},
   "outputs": [
    {
     "data": {
      "text/plain": [
       "[(37500, 50), (12500, 50), (37500,), (12500,)]"
      ]
     },
     "execution_count": 193,
     "metadata": {},
     "output_type": "execute_result"
    }
   ],
   "source": [
    "X_pca_train, X_pca_test, y_pca_train, y_pca_test = train_test_split(X_transformed, y)\n",
    "list(map(np.shape, [X_pca_train, X_pca_test, y_pca_train, y_pca_test]))"
   ]
  },
  {
   "cell_type": "code",
   "execution_count": 194,
   "id": "mexican-tobacco",
   "metadata": {},
   "outputs": [
    {
     "data": {
      "text/plain": [
       "LogisticRegression()"
      ]
     },
     "execution_count": 194,
     "metadata": {},
     "output_type": "execute_result"
    }
   ],
   "source": [
    "lr.fit(X_pca_train, y_pca_train)"
   ]
  },
  {
   "cell_type": "code",
   "execution_count": 195,
   "id": "medieval-harassment",
   "metadata": {},
   "outputs": [
    {
     "data": {
      "text/plain": [
       "0.51344"
      ]
     },
     "execution_count": 195,
     "metadata": {},
     "output_type": "execute_result"
    }
   ],
   "source": [
    "# A linear model on the 50 'best' PCA components is pretty much random guessing\n",
    "lr.score(X_pca_test, y_pca_test)"
   ]
  },
  {
   "cell_type": "code",
   "execution_count": 32,
   "id": "comfortable-expert",
   "metadata": {},
   "outputs": [
    {
     "name": "stdout",
     "output_type": "stream",
     "text": [
      "Model: \"sequential\"\n",
      "_________________________________________________________________\n",
      "Layer (type)                 Output Shape              Param #   \n",
      "=================================================================\n",
      "embedding (Embedding)        (None, 1000, 256)         29348352  \n",
      "_________________________________________________________________\n",
      "flatten (Flatten)            (None, 256000)            0         \n",
      "_________________________________________________________________\n",
      "dense (Dense)                (None, 200)               51200200  \n",
      "_________________________________________________________________\n",
      "dense_1 (Dense)              (None, 2)                 402       \n",
      "=================================================================\n",
      "Total params: 80,548,954\n",
      "Trainable params: 80,548,954\n",
      "Non-trainable params: 0\n",
      "_________________________________________________________________\n"
     ]
    }
   ],
   "source": [
    "# Simple network\n",
    "\n",
    "def get_model():\n",
    "    model = keras.models.Sequential()\n",
    "    model.add(layers.Embedding(input_dim=len(vocab), output_dim=256, input_length=X.shape[1]))\n",
    "    model.add(layers.Flatten())    \n",
    "    model.add(layers.Dense(200, activation='relu'))\n",
    "    model.add(layers.Dense(2, activation='softmax'))\n",
    "    \n",
    "    return model"
   ]
  },
  {
   "cell_type": "code",
   "execution_count": 173,
   "id": "alien-decrease",
   "metadata": {},
   "outputs": [],
   "source": [
    "def get_sequence_model():\n",
    "    model = keras.models.Sequential()\n",
    "    model.add(layers.Embedding(input_dim=len(vocab), output_dim=16, input_length=X.shape[1]))\n",
    "#     model.add(layers.Flatten())    \n",
    "    model.add(layers.Bidirectional(layers.LSTM(32)))\n",
    "    model.add(layers.Dense(6, activation='relu'))\n",
    "    model.add(layers.Dense(2, activation='softmax'))\n",
    "    \n",
    "    return model"
   ]
  },
  {
   "cell_type": "code",
   "execution_count": 206,
   "id": "boring-floating",
   "metadata": {},
   "outputs": [
    {
     "name": "stdout",
     "output_type": "stream",
     "text": [
      "Model: \"sequential_10\"\n",
      "_________________________________________________________________\n",
      "Layer (type)                 Output Shape              Param #   \n",
      "=================================================================\n",
      "embedding_10 (Embedding)     (None, 150, 16)           1834272   \n",
      "_________________________________________________________________\n",
      "bidirectional_6 (Bidirection (None, 64)                12544     \n",
      "_________________________________________________________________\n",
      "dense_16 (Dense)             (None, 6)                 390       \n",
      "_________________________________________________________________\n",
      "dense_17 (Dense)             (None, 2)                 14        \n",
      "=================================================================\n",
      "Total params: 1,847,220\n",
      "Trainable params: 1,847,220\n",
      "Non-trainable params: 0\n",
      "_________________________________________________________________\n"
     ]
    }
   ],
   "source": [
    "model = get_sequence_model()\n",
    "model.summary()"
   ]
  },
  {
   "cell_type": "code",
   "execution_count": 207,
   "id": "colonial-hardwood",
   "metadata": {},
   "outputs": [],
   "source": [
    "model.compile(loss=keras.losses.CategoricalCrossentropy(), \n",
    "              optimizer=keras.optimizers.Adam(), \n",
    "              metrics=[keras.metrics.CategoricalAccuracy()])"
   ]
  },
  {
   "cell_type": "code",
   "execution_count": 208,
   "id": "activated-better",
   "metadata": {},
   "outputs": [],
   "source": [
    "# max_train_size = 10000\n",
    "\n",
    "# X_train = X[:max_train_size]\n",
    "# X_test = X[max_train_size:max_train_size+int(.1*max_train_size)]\n",
    "\n",
    "# y_train = y[:max_train_size]\n",
    "# y_test = y[max_train_size:max_train_size+int(.1*max_train_size)]"
   ]
  },
  {
   "cell_type": "code",
   "execution_count": 209,
   "id": "governmental-efficiency",
   "metadata": {},
   "outputs": [],
   "source": [
    "X_train, X_test, y_train, y_test = train_test_split(X, y)"
   ]
  },
  {
   "cell_type": "code",
   "execution_count": 210,
   "id": "minimal-auckland",
   "metadata": {},
   "outputs": [],
   "source": [
    "CHECKPOINT_DIR = 'data/model/sentiment'"
   ]
  },
  {
   "cell_type": "code",
   "execution_count": 211,
   "id": "organizational-validation",
   "metadata": {},
   "outputs": [
    {
     "name": "stdout",
     "output_type": "stream",
     "text": [
      "Epoch 1/50\n",
      "1172/1172 [==============================] - 57s 47ms/step - loss: 0.5645 - categorical_accuracy: 0.6712 - val_loss: 0.3830 - val_categorical_accuracy: 0.8380\n"
     ]
    },
    {
     "name": "stderr",
     "output_type": "stream",
     "text": [
      "WARNING:absl:Found untraced functions such as lstm_cell_21_layer_call_and_return_conditional_losses, lstm_cell_21_layer_call_fn, lstm_cell_22_layer_call_and_return_conditional_losses, lstm_cell_22_layer_call_fn, lstm_cell_21_layer_call_fn while saving (showing 5 of 10). These functions will not be directly callable after loading.\n",
      "WARNING:absl:Found untraced functions such as lstm_cell_21_layer_call_and_return_conditional_losses, lstm_cell_21_layer_call_fn, lstm_cell_22_layer_call_and_return_conditional_losses, lstm_cell_22_layer_call_fn, lstm_cell_21_layer_call_fn while saving (showing 5 of 10). These functions will not be directly callable after loading.\n"
     ]
    },
    {
     "name": "stdout",
     "output_type": "stream",
     "text": [
      "INFO:tensorflow:Assets written to: data/model/sentiment/assets\n"
     ]
    },
    {
     "name": "stderr",
     "output_type": "stream",
     "text": [
      "INFO:tensorflow:Assets written to: data/model/sentiment/assets\n"
     ]
    },
    {
     "name": "stdout",
     "output_type": "stream",
     "text": [
      "Epoch 2/50\n",
      "1172/1172 [==============================] - 53s 46ms/step - loss: 0.2673 - categorical_accuracy: 0.8957 - val_loss: 0.3737 - val_categorical_accuracy: 0.8494\n"
     ]
    },
    {
     "name": "stderr",
     "output_type": "stream",
     "text": [
      "WARNING:absl:Found untraced functions such as lstm_cell_21_layer_call_and_return_conditional_losses, lstm_cell_21_layer_call_fn, lstm_cell_22_layer_call_and_return_conditional_losses, lstm_cell_22_layer_call_fn, lstm_cell_21_layer_call_fn while saving (showing 5 of 10). These functions will not be directly callable after loading.\n",
      "WARNING:absl:Found untraced functions such as lstm_cell_21_layer_call_and_return_conditional_losses, lstm_cell_21_layer_call_fn, lstm_cell_22_layer_call_and_return_conditional_losses, lstm_cell_22_layer_call_fn, lstm_cell_21_layer_call_fn while saving (showing 5 of 10). These functions will not be directly callable after loading.\n"
     ]
    },
    {
     "name": "stdout",
     "output_type": "stream",
     "text": [
      "INFO:tensorflow:Assets written to: data/model/sentiment/assets\n"
     ]
    },
    {
     "name": "stderr",
     "output_type": "stream",
     "text": [
      "INFO:tensorflow:Assets written to: data/model/sentiment/assets\n"
     ]
    },
    {
     "name": "stdout",
     "output_type": "stream",
     "text": [
      "Epoch 3/50\n",
      "1172/1172 [==============================] - 55s 47ms/step - loss: 0.1695 - categorical_accuracy: 0.9369 - val_loss: 0.4172 - val_categorical_accuracy: 0.8385\n"
     ]
    },
    {
     "name": "stderr",
     "output_type": "stream",
     "text": [
      "WARNING:absl:Found untraced functions such as lstm_cell_21_layer_call_and_return_conditional_losses, lstm_cell_21_layer_call_fn, lstm_cell_22_layer_call_and_return_conditional_losses, lstm_cell_22_layer_call_fn, lstm_cell_21_layer_call_fn while saving (showing 5 of 10). These functions will not be directly callable after loading.\n",
      "WARNING:absl:Found untraced functions such as lstm_cell_21_layer_call_and_return_conditional_losses, lstm_cell_21_layer_call_fn, lstm_cell_22_layer_call_and_return_conditional_losses, lstm_cell_22_layer_call_fn, lstm_cell_21_layer_call_fn while saving (showing 5 of 10). These functions will not be directly callable after loading.\n"
     ]
    },
    {
     "name": "stdout",
     "output_type": "stream",
     "text": [
      "INFO:tensorflow:Assets written to: data/model/sentiment/assets\n"
     ]
    },
    {
     "name": "stderr",
     "output_type": "stream",
     "text": [
      "INFO:tensorflow:Assets written to: data/model/sentiment/assets\n"
     ]
    },
    {
     "name": "stdout",
     "output_type": "stream",
     "text": [
      "Epoch 4/50\n",
      "1172/1172 [==============================] - 56s 48ms/step - loss: 0.1088 - categorical_accuracy: 0.9619 - val_loss: 0.6070 - val_categorical_accuracy: 0.8307\n"
     ]
    },
    {
     "name": "stderr",
     "output_type": "stream",
     "text": [
      "WARNING:absl:Found untraced functions such as lstm_cell_21_layer_call_and_return_conditional_losses, lstm_cell_21_layer_call_fn, lstm_cell_22_layer_call_and_return_conditional_losses, lstm_cell_22_layer_call_fn, lstm_cell_21_layer_call_fn while saving (showing 5 of 10). These functions will not be directly callable after loading.\n",
      "WARNING:absl:Found untraced functions such as lstm_cell_21_layer_call_and_return_conditional_losses, lstm_cell_21_layer_call_fn, lstm_cell_22_layer_call_and_return_conditional_losses, lstm_cell_22_layer_call_fn, lstm_cell_21_layer_call_fn while saving (showing 5 of 10). These functions will not be directly callable after loading.\n"
     ]
    },
    {
     "name": "stdout",
     "output_type": "stream",
     "text": [
      "INFO:tensorflow:Assets written to: data/model/sentiment/assets\n"
     ]
    },
    {
     "name": "stderr",
     "output_type": "stream",
     "text": [
      "INFO:tensorflow:Assets written to: data/model/sentiment/assets\n"
     ]
    },
    {
     "name": "stdout",
     "output_type": "stream",
     "text": [
      "Epoch 5/50\n",
      "1172/1172 [==============================] - 56s 48ms/step - loss: 0.0706 - categorical_accuracy: 0.9756 - val_loss: 0.6420 - val_categorical_accuracy: 0.8309\n"
     ]
    },
    {
     "name": "stderr",
     "output_type": "stream",
     "text": [
      "WARNING:absl:Found untraced functions such as lstm_cell_21_layer_call_and_return_conditional_losses, lstm_cell_21_layer_call_fn, lstm_cell_22_layer_call_and_return_conditional_losses, lstm_cell_22_layer_call_fn, lstm_cell_21_layer_call_fn while saving (showing 5 of 10). These functions will not be directly callable after loading.\n",
      "WARNING:absl:Found untraced functions such as lstm_cell_21_layer_call_and_return_conditional_losses, lstm_cell_21_layer_call_fn, lstm_cell_22_layer_call_and_return_conditional_losses, lstm_cell_22_layer_call_fn, lstm_cell_21_layer_call_fn while saving (showing 5 of 10). These functions will not be directly callable after loading.\n"
     ]
    },
    {
     "name": "stdout",
     "output_type": "stream",
     "text": [
      "INFO:tensorflow:Assets written to: data/model/sentiment/assets\n"
     ]
    },
    {
     "name": "stderr",
     "output_type": "stream",
     "text": [
      "INFO:tensorflow:Assets written to: data/model/sentiment/assets\n"
     ]
    },
    {
     "name": "stdout",
     "output_type": "stream",
     "text": [
      "Epoch 6/50\n",
      "1172/1172 [==============================] - 56s 48ms/step - loss: 0.0483 - categorical_accuracy: 0.9835 - val_loss: 0.6708 - val_categorical_accuracy: 0.8287\n"
     ]
    },
    {
     "name": "stderr",
     "output_type": "stream",
     "text": [
      "WARNING:absl:Found untraced functions such as lstm_cell_21_layer_call_and_return_conditional_losses, lstm_cell_21_layer_call_fn, lstm_cell_22_layer_call_and_return_conditional_losses, lstm_cell_22_layer_call_fn, lstm_cell_21_layer_call_fn while saving (showing 5 of 10). These functions will not be directly callable after loading.\n",
      "WARNING:absl:Found untraced functions such as lstm_cell_21_layer_call_and_return_conditional_losses, lstm_cell_21_layer_call_fn, lstm_cell_22_layer_call_and_return_conditional_losses, lstm_cell_22_layer_call_fn, lstm_cell_21_layer_call_fn while saving (showing 5 of 10). These functions will not be directly callable after loading.\n"
     ]
    },
    {
     "name": "stdout",
     "output_type": "stream",
     "text": [
      "INFO:tensorflow:Assets written to: data/model/sentiment/assets\n"
     ]
    },
    {
     "name": "stderr",
     "output_type": "stream",
     "text": [
      "INFO:tensorflow:Assets written to: data/model/sentiment/assets\n"
     ]
    },
    {
     "name": "stdout",
     "output_type": "stream",
     "text": [
      "Epoch 7/50\n",
      "1172/1172 [==============================] - 54s 46ms/step - loss: 0.0358 - categorical_accuracy: 0.9880 - val_loss: 0.7923 - val_categorical_accuracy: 0.8212\n"
     ]
    },
    {
     "name": "stderr",
     "output_type": "stream",
     "text": [
      "WARNING:absl:Found untraced functions such as lstm_cell_21_layer_call_and_return_conditional_losses, lstm_cell_21_layer_call_fn, lstm_cell_22_layer_call_and_return_conditional_losses, lstm_cell_22_layer_call_fn, lstm_cell_21_layer_call_fn while saving (showing 5 of 10). These functions will not be directly callable after loading.\n",
      "WARNING:absl:Found untraced functions such as lstm_cell_21_layer_call_and_return_conditional_losses, lstm_cell_21_layer_call_fn, lstm_cell_22_layer_call_and_return_conditional_losses, lstm_cell_22_layer_call_fn, lstm_cell_21_layer_call_fn while saving (showing 5 of 10). These functions will not be directly callable after loading.\n"
     ]
    },
    {
     "name": "stdout",
     "output_type": "stream",
     "text": [
      "INFO:tensorflow:Assets written to: data/model/sentiment/assets\n"
     ]
    },
    {
     "name": "stderr",
     "output_type": "stream",
     "text": [
      "INFO:tensorflow:Assets written to: data/model/sentiment/assets\n"
     ]
    },
    {
     "data": {
      "image/png": "[encoded data removed]",
      "text/plain": [
       "<Figure size 432x288 with 1 Axes>"
      ]
     },
     "metadata": {
      "needs_background": "light"
     },
     "output_type": "display_data"
    }
   ],
   "source": [
    "history = model.fit(X_train, keras.utils.to_categorical(y_train),\n",
    "                    validation_data=(X_test, keras.utils.to_categorical(y_test)), \n",
    "                    batch_size=32, \n",
    "                    epochs=50, \n",
    "                    callbacks=[keras.callbacks.EarlyStopping(monitor=\"val_categorical_accuracy\", patience=5),\n",
    "                              keras.callbacks.ModelCheckpoint(CHECKPOINT_DIR, monitor=\"val_categorical_accuracy\", save_only_best=True)])\n",
    "\n",
    "plt.plot(history.history['categorical_accuracy'], label='categorical_accuracy')\n",
    "plt.plot(history.history['val_categorical_accuracy'], label='val_categorical_accuracy')\n",
    "plt.legend()\n",
    "plt.show()"
   ]
  },
  {
   "cell_type": "code",
   "execution_count": 170,
   "id": "endless-orchestra",
   "metadata": {},
   "outputs": [
    {
     "data": {
      "text/plain": [
       "0.49"
      ]
     },
     "execution_count": 170,
     "metadata": {},
     "output_type": "execute_result"
    }
   ],
   "source": [
    "(np.argmax(model.predict(X_test[:100].reshape(1,-1)), axis = 1)==y_test[:100]).mean()"
   ]
  },
  {
   "cell_type": "code",
   "execution_count": 2,
   "id": "contained-dollar",
   "metadata": {},
   "outputs": [],
   "source": [
    "model = keras.models.load_model('data/model/sentiment')\n",
    "model.summary()"
   ]
  },
  {
   "cell_type": "code",
   "execution_count": 166,
   "id": "incorrect-cruise",
   "metadata": {},
   "outputs": [],
   "source": [
    "predictions = []"
   ]
  },
  {
   "cell_type": "code",
   "execution_count": 167,
   "id": "sonic-january",
   "metadata": {},
   "outputs": [
    {
     "data": {
      "text/plain": [
       "[array([[0.50145644]], dtype=float32)]"
      ]
     },
     "execution_count": 167,
     "metadata": {},
     "output_type": "execute_result"
    }
   ],
   "source": [
    "predictions.append(model.predict(np.array(encode_review(data['review'][3])).reshape(1,-1)))\n",
    "predictions"
   ]
  },
  {
   "cell_type": "code",
   "execution_count": 72,
   "id": "minute-percentage",
   "metadata": {},
   "outputs": [
    {
     "data": {
      "text/plain": [
       "array([1, 0, 1, 0, 1, 1, 1, 1, 1, 1])"
      ]
     },
     "execution_count": 72,
     "metadata": {},
     "output_type": "execute_result"
    }
   ],
   "source": [
    "y_test[:10]"
   ]
  },
  {
   "cell_type": "code",
   "execution_count": 78,
   "id": "private-rhythm",
   "metadata": {},
   "outputs": [
    {
     "data": {
      "text/plain": [
       "\"Basically there's a family where a little boy (Jake) thinks there's a zombie in his closet & his parents are fighting all the time.<br /><br />This movie is slower than a soap opera... and suddenly, Jake decides to become Rambo and kill the zombie.<br /><br />OK, first of all when you're going to make a film you must Decide if its a thriller or a drama! As a drama the movie is watchable. Parents are divorcing & arguing like in real life. And then we have Jake with his closet which totally ruins all the film! I expected to see a BOOGEYMAN similar movie, and instead i watched a drama with some meaningless thriller spots.<br /><br />3 out of 10 just for the well playing parents & descent dialogs. As for the shots with Jake: just ignore them.\""
      ]
     },
     "execution_count": 78,
     "metadata": {},
     "output_type": "execute_result"
    }
   ],
   "source": [
    "data['review'][3]"
   ]
  },
  {
   "cell_type": "code",
   "execution_count": 109,
   "id": "detailed-interaction",
   "metadata": {},
   "outputs": [],
   "source": []
  },
  {
   "cell_type": "code",
   "execution_count": null,
   "id": "further-promise",
   "metadata": {},
   "outputs": [],
   "source": []
  }
 ],
 "metadata": {
  "kernelspec": {
   "display_name": "Python 3",
   "language": "python",
   "name": "python3"
  },
  "language_info": {
   "codemirror_mode": {
    "name": "ipython",
    "version": 3
   },
   "file_extension": ".py",
   "mimetype": "text/x-python",
   "name": "python",
   "nbconvert_exporter": "python",
   "pygments_lexer": "ipython3",
   "version": "3.8.7"
  }
 },
 "nbformat": 4,
 "nbformat_minor": 5
}
