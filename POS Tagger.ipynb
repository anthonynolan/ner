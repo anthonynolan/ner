{
 "cells": [
  {
   "cell_type": "code",
   "execution_count": 2,
   "id": "settled-brain",
   "metadata": {},
   "outputs": [],
   "source": [
    "import pandas as pd\n",
    "import numpy as np\n",
    "import tensorflow as tf\n",
    "import itertools\n",
    "from tensorflow import keras\n",
    "from tensorflow.keras import layers\n",
    "from sklearn.model_selection import train_test_split\n",
    "import matplotlib.pyplot as plt\n",
    "from collections import Counter, defaultdict"
   ]
  },
  {
   "cell_type": "code",
   "execution_count": 3,
   "id": "comic-football",
   "metadata": {},
   "outputs": [
    {
     "data": {
      "text/html": [
       "<div>\n",
       "<style scoped>\n",
       "    .dataframe tbody tr th:only-of-type {\n",
       "        vertical-align: middle;\n",
       "    }\n",
       "\n",
       "    .dataframe tbody tr th {\n",
       "        vertical-align: top;\n",
       "    }\n",
       "\n",
       "    .dataframe thead th {\n",
       "        text-align: right;\n",
       "    }\n",
       "</style>\n",
       "<table border=\"1\" class=\"dataframe\">\n",
       "  <thead>\n",
       "    <tr style=\"text-align: right;\">\n",
       "      <th></th>\n",
       "      <th>word</th>\n",
       "      <th>pos</th>\n",
       "    </tr>\n",
       "  </thead>\n",
       "  <tbody>\n",
       "    <tr>\n",
       "      <th>0</th>\n",
       "      <td>an</td>\n",
       "      <td>DT</td>\n",
       "    </tr>\n",
       "    <tr>\n",
       "      <th>1</th>\n",
       "      <td>Oct.</td>\n",
       "      <td>NNP</td>\n",
       "    </tr>\n",
       "    <tr>\n",
       "      <th>2</th>\n",
       "      <td>19</td>\n",
       "      <td>CD</td>\n",
       "    </tr>\n",
       "    <tr>\n",
       "      <th>3</th>\n",
       "      <td>review</td>\n",
       "      <td>NN</td>\n",
       "    </tr>\n",
       "    <tr>\n",
       "      <th>4</th>\n",
       "      <td>of</td>\n",
       "      <td>IN</td>\n",
       "    </tr>\n",
       "  </tbody>\n",
       "</table>\n",
       "</div>"
      ],
      "text/plain": [
       "     word  pos\n",
       "0      an   DT\n",
       "1    Oct.  NNP\n",
       "2      19   CD\n",
       "3  review   NN\n",
       "4      of   IN"
      ]
     },
     "execution_count": 3,
     "metadata": {},
     "output_type": "execute_result"
    }
   ],
   "source": [
    "train = pd.read_csv('data/WSJ_02-21.pos', sep='\\t', header=0, names=['word', 'pos'])\n",
    "test = pd.read_csv('data/WSJ_24.pos', sep='\\t', header=0, names=['word', 'pos'])\n",
    "train.head()"
   ]
  },
  {
   "cell_type": "code",
   "execution_count": 4,
   "id": "defensive-narrow",
   "metadata": {},
   "outputs": [
    {
     "data": {
      "text/plain": [
       "[('NN', 132935)]"
      ]
     },
     "execution_count": 4,
     "metadata": {},
     "output_type": "execute_result"
    }
   ],
   "source": [
    "# find most common pos to apply to unk words in feature creation\n",
    "Counter(train['pos']).most_common(1)"
   ]
  },
  {
   "cell_type": "code",
   "execution_count": 5,
   "id": "wrapped-crisis",
   "metadata": {},
   "outputs": [
    {
     "name": "stdout",
     "output_type": "stream",
     "text": [
      "tags in training, but not in the original treebank set: {'$', '.', '(', ',', '``', \"''\", '#', ')', ':'}\n"
     ]
    }
   ],
   "source": [
    "# Strip some non pos tags from the input data\n",
    "with open('data/penn_trebank.txt', 'tr') as f:\n",
    "    content = f.readlines()\n",
    "\n",
    "tidy = {}\n",
    "for i in range(0, len(content)-1, 2):\n",
    "    tidy[content[i].strip()] = content[i+1].strip()\n",
    "    \n",
    "tags_for_removal = set(train.pos.values)- set(tidy.keys())\n",
    "print(f'tags in training, but not in the original treebank set: {tags_for_removal}')"
   ]
  },
  {
   "cell_type": "code",
   "execution_count": 6,
   "id": "assigned-grill",
   "metadata": {},
   "outputs": [],
   "source": [
    "train = train[train['pos'].map(lambda x: x not in tags_for_removal)]"
   ]
  },
  {
   "cell_type": "code",
   "execution_count": 7,
   "id": "horizontal-influence",
   "metadata": {},
   "outputs": [],
   "source": [
    "#Counter(train.itertuples(index=False, name=None)).most_common()"
   ]
  },
  {
   "cell_type": "code",
   "execution_count": 8,
   "id": "about-conviction",
   "metadata": {},
   "outputs": [],
   "source": [
    "sequence_length = 5 # centre word, 2 before and 2 afer"
   ]
  },
  {
   "cell_type": "code",
   "execution_count": 9,
   "id": "civic-denmark",
   "metadata": {},
   "outputs": [
    {
     "data": {
      "text/plain": [
       "[('an', 'DT'),\n",
       " ('Oct.', 'NNP'),\n",
       " ('19', 'CD'),\n",
       " ('review', 'NN'),\n",
       " ('of', 'IN'),\n",
       " ('The', 'DT'),\n",
       " ('Misanthrope', 'NN'),\n",
       " ('at', 'IN'),\n",
       " ('Chicago', 'NNP'),\n",
       " (\"'s\", 'POS'),\n",
       " ('Goodman', 'NNP'),\n",
       " ('Theatre', 'NNP'),\n",
       " ('Revitalized', 'VBN'),\n",
       " ('Classics', 'NNS'),\n",
       " ('Take', 'VBP'),\n",
       " ('the', 'DT'),\n",
       " ('Stage', 'NN'),\n",
       " ('in', 'IN'),\n",
       " ('Windy', 'NNP'),\n",
       " ('City', 'NNP')]"
      ]
     },
     "execution_count": 9,
     "metadata": {},
     "output_type": "execute_result"
    }
   ],
   "source": [
    "input_data = []\n",
    "for tup in train.itertuples(index=False, name=None):\n",
    "    input_data.append(tup)\n",
    "input_data[:20]"
   ]
  },
  {
   "cell_type": "code",
   "execution_count": 10,
   "id": "coral-captain",
   "metadata": {},
   "outputs": [],
   "source": [
    "def create_windowed_dataset(input_dat, sequence_length=5, mode='train'):\n",
    "    matrix = []\n",
    "    for index in range(len(input_dat)):\n",
    "        if index+sequence_length>len(input_dat):\n",
    "            break\n",
    "        if mode=='train':\n",
    "            matrix.append(input_dat[index:index+sequence_length])\n",
    "        else:\n",
    "            matrix.append([(a, None) for a in input_dat[index:index+sequence_length]])\n",
    "        index+=sequence_length\n",
    "    return matrix"
   ]
  },
  {
   "cell_type": "code",
   "execution_count": 11,
   "id": "vocational-nashville",
   "metadata": {},
   "outputs": [
    {
     "data": {
      "text/plain": [
       "[[('an', 'DT'), ('Oct.', 'NNP'), ('19', 'CD'), ('review', 'NN'), ('of', 'IN')],\n",
       " [('Oct.', 'NNP'),\n",
       "  ('19', 'CD'),\n",
       "  ('review', 'NN'),\n",
       "  ('of', 'IN'),\n",
       "  ('The', 'DT')],\n",
       " [('19', 'CD'),\n",
       "  ('review', 'NN'),\n",
       "  ('of', 'IN'),\n",
       "  ('The', 'DT'),\n",
       "  ('Misanthrope', 'NN')],\n",
       " [('review', 'NN'),\n",
       "  ('of', 'IN'),\n",
       "  ('The', 'DT'),\n",
       "  ('Misanthrope', 'NN'),\n",
       "  ('at', 'IN')],\n",
       " [('of', 'IN'),\n",
       "  ('The', 'DT'),\n",
       "  ('Misanthrope', 'NN'),\n",
       "  ('at', 'IN'),\n",
       "  ('Chicago', 'NNP')]]"
      ]
     },
     "execution_count": 11,
     "metadata": {},
     "output_type": "execute_result"
    }
   ],
   "source": [
    "train_matrix = create_windowed_dataset(input_data, mode='train')\n",
    "train_matrix[:5]"
   ]
  },
  {
   "cell_type": "code",
   "execution_count": 12,
   "id": "instrumental-capacity",
   "metadata": {},
   "outputs": [
    {
     "name": "stdout",
     "output_type": "stream",
     "text": [
      "44364\n",
      "47525\n",
      "47546\n",
      "47546 36\n"
     ]
    }
   ],
   "source": [
    "suffixes = []\n",
    "for item in set(train['word']):\n",
    "    suffixes.append(item[-3:])\n",
    "    \n",
    "initial_letters = []\n",
    "for item in set(train['word']):\n",
    "    initial_letters.append(item[0])\n",
    "    \n",
    "pos_vocab = set(train['pos'])\n",
    "index_to_pos = {k:v for k, v in enumerate(pos_vocab)}\n",
    "pos_to_index = {v:k for k, v in index_to_pos.items()}\n",
    "\n",
    "UNK = 0\n",
    "\n",
    "word_vocab = set([UNK])\n",
    "word_vocab.update(train['word'])\n",
    "print(len(word_vocab))\n",
    "\n",
    "word_vocab.update(suffixes)\n",
    "print(len(word_vocab))\n",
    "\n",
    "word_vocab.update(initial_letters)\n",
    "print(len(word_vocab))\n",
    "\n",
    "index_to_word = {k+len(pos_vocab): v for k, v in enumerate(word_vocab)}\n",
    "word_to_index = defaultdict(None, {v:k for k, v in index_to_word.items()})\n",
    "\n",
    "print(len(word_vocab), len(pos_vocab))"
   ]
  },
  {
   "cell_type": "code",
   "execution_count": 14,
   "id": "hollywood-thong",
   "metadata": {},
   "outputs": [
    {
     "data": {
      "text/plain": [
       "36"
      ]
     },
     "execution_count": 14,
     "metadata": {},
     "output_type": "execute_result"
    }
   ],
   "source": [
    "len(sorted(list(pos_vocab)))"
   ]
  },
  {
   "cell_type": "code",
   "execution_count": 25,
   "id": "initial-alignment",
   "metadata": {},
   "outputs": [
    {
     "name": "stdout",
     "output_type": "stream",
     "text": [
      "There are 44363 tuples in the dict\n",
      "an DT\n",
      "Oct. NNP\n",
      "19 CD\n",
      "review VBP\n",
      "of RP\n"
     ]
    }
   ],
   "source": [
    "winners = defaultdict()\n",
    "\n",
    "for row in Counter(list(train.itertuples(index=False, name=None))):\n",
    "    if row[0] not in winners:\n",
    "        winners[row[0]] = row[1]\n",
    "    elif winners[row[0]]< row[1]:\n",
    "        winners[row[0]] = row[1]\n",
    "        \n",
    "print(f'There are {len(winners)} tuples in the dict')\n",
    "\n",
    "for key in list(winners.keys())[:5]:\n",
    "    print(key, winners[key])"
   ]
  },
  {
   "cell_type": "code",
   "execution_count": 26,
   "id": "smooth-boundary",
   "metadata": {},
   "outputs": [],
   "source": [
    "import json\n",
    "with open('jq/word_to_index.json', 'wt') as f:\n",
    "    f.write(json.dumps(word_to_index))\n",
    "    \n",
    "with open('jq/pos_to_index.json', 'wt') as f:\n",
    "    f.write(json.dumps(pos_to_index))\n",
    "    \n",
    "with open('jq/index_to_pos.json', 'wt') as f:\n",
    "    f.write(json.dumps(index_to_pos))    \n",
    "    \n",
    "with open('jq/most_common_tag_for_word.json', 'wt') as f:\n",
    "    f.write(json.dumps(winners))"
   ]
  },
  {
   "cell_type": "code",
   "execution_count": 28,
   "id": "crazy-packaging",
   "metadata": {},
   "outputs": [],
   "source": [
    "def build_features(matrix, mode='train'):\n",
    "    transformed_matrix = []\n",
    "\n",
    "    for row in matrix:\n",
    "        features = []\n",
    "\n",
    "        if mode=='train':\n",
    "            features.append(pos_to_index[row[1][1]])\n",
    "            features.append(pos_to_index[row[0][1]])\n",
    "        else:\n",
    "            features.append(pos_to_index[winners.get(row[1][0], 'NN')])\n",
    "            features.append(pos_to_index[winners.get(row[0][0], 'NN')])\n",
    "            \n",
    "        features.append(word_to_index.get(row[2][0][-3:], UNK))\n",
    "        features.append(word_to_index.get(row[2][0][0], UNK))\n",
    "\n",
    "        features.append(word_to_index.get(row[2][0], UNK))\n",
    "\n",
    "        features.append(word_to_index.get(row[1][0], UNK))\n",
    "\n",
    "        features.append(word_to_index.get(row[1][0][-3:], UNK))\n",
    "\n",
    "        features.append(word_to_index.get(row[0][0], UNK))\n",
    "        features.append(word_to_index.get(row[3][0], UNK))    \n",
    "        features.append(word_to_index.get(row[3][0][-3:], UNK))\n",
    "        features.append(word_to_index.get(row[4][0], UNK))\n",
    "        \n",
    "        if mode=='train':\n",
    "            features.append(pos_to_index[row[2][1]])\n",
    "        \n",
    "        transformed_matrix.append(features)\n",
    "    return transformed_matrix"
   ]
  },
  {
   "cell_type": "code",
   "execution_count": 29,
   "id": "dutch-honduras",
   "metadata": {},
   "outputs": [
    {
     "data": {
      "text/plain": [
       "[[22, 28, 21743, 12906, 21743, 13275, 10011, 4760, 47374, 28343, 20172, 7],\n",
       " [7, 22, 28343, 9597, 47374, 21743, 21743, 13275, 20172, 20172, 27230, 19],\n",
       " [19, 7, 20172, 32990, 20172, 47374, 28343, 21743, 27230, 27230, 10359, 32],\n",
       " [32, 19, 27230, 24316, 27230, 20172, 20172, 47374, 10359, 12262, 14705, 28],\n",
       " [28, 32, 12262, 32693, 10359, 27230, 27230, 20172, 14705, 14705, 14115, 19]]"
      ]
     },
     "execution_count": 29,
     "metadata": {},
     "output_type": "execute_result"
    }
   ],
   "source": [
    "transformed_matrix = build_features(train_matrix, mode='train')\n",
    "transformed_matrix[:5]"
   ]
  },
  {
   "cell_type": "code",
   "execution_count": 30,
   "id": "analyzed-classification",
   "metadata": {},
   "outputs": [],
   "source": [
    "def get_model(vocab_size, d_model):\n",
    "\n",
    "    model = keras.Sequential()\n",
    "    model.add(layers.Embedding(input_dim=vocab_size, output_dim=d_model, input_length=11))\n",
    "    model.add(layers.Flatten())\n",
    "    model.add(layers.Dense(100, activation='relu'))\n",
    "    model.add(layers.Dropout(.1))\n",
    "    model.add(layers.Dense(len(pos_vocab), activation='sigmoid'))\n",
    "\n",
    "    return model"
   ]
  },
  {
   "cell_type": "code",
   "execution_count": 31,
   "id": "remarkable-electronics",
   "metadata": {},
   "outputs": [
    {
     "name": "stdout",
     "output_type": "stream",
     "text": [
      "Model: \"sequential\"\n",
      "_________________________________________________________________\n",
      "Layer (type)                 Output Shape              Param #   \n",
      "=================================================================\n",
      "embedding (Embedding)        (None, 11, 100)           4758200   \n",
      "_________________________________________________________________\n",
      "flatten (Flatten)            (None, 1100)              0         \n",
      "_________________________________________________________________\n",
      "dense (Dense)                (None, 100)               110100    \n",
      "_________________________________________________________________\n",
      "dropout (Dropout)            (None, 100)               0         \n",
      "_________________________________________________________________\n",
      "dense_1 (Dense)              (None, 36)                3636      \n",
      "=================================================================\n",
      "Total params: 4,871,936\n",
      "Trainable params: 4,871,936\n",
      "Non-trainable params: 0\n",
      "_________________________________________________________________\n"
     ]
    }
   ],
   "source": [
    "model = get_model(len(word_vocab)+len(pos_vocab), 100)\n",
    "model.summary()"
   ]
  },
  {
   "cell_type": "code",
   "execution_count": 32,
   "id": "premium-yeast",
   "metadata": {},
   "outputs": [],
   "source": [
    "model.compile(optimizer=keras.optimizers.Adam(), loss=keras.losses.CategoricalCrossentropy()\n",
    "              , metrics=[keras.metrics.CategoricalAccuracy()])"
   ]
  },
  {
   "cell_type": "code",
   "execution_count": 33,
   "id": "supposed-arbitration",
   "metadata": {},
   "outputs": [
    {
     "data": {
      "text/plain": [
       "((832779, 11), (832779, 36))"
      ]
     },
     "execution_count": 33,
     "metadata": {},
     "output_type": "execute_result"
    }
   ],
   "source": [
    "X, y = np.array(transformed_matrix)[:, :-1], keras.utils.to_categorical(np.array(transformed_matrix)[:, -1], num_classes=len(pos_vocab))\n",
    "X.shape, y.shape"
   ]
  },
  {
   "cell_type": "code",
   "execution_count": 34,
   "id": "rough-internet",
   "metadata": {},
   "outputs": [],
   "source": [
    "max_train_size = 50000\n",
    "X_train = X[:max_train_size]\n",
    "X_test = X[max_train_size:max_train_size+int(.1*max_train_size)]\n",
    "\n",
    "y_train = y[:max_train_size]\n",
    "y_test = y[max_train_size:max_train_size+int(.1*max_train_size)]"
   ]
  },
  {
   "cell_type": "code",
   "execution_count": 37,
   "id": "continued-marketplace",
   "metadata": {},
   "outputs": [],
   "source": [
    "CHECKPOINT_DIR = 'data/model/checkpoints'"
   ]
  },
  {
   "cell_type": "code",
   "execution_count": 39,
   "id": "trained-straight",
   "metadata": {},
   "outputs": [
    {
     "name": "stdout",
     "output_type": "stream",
     "text": [
      "Epoch 1/10\n",
      "1563/1563 [==============================] - 67s 43ms/step - loss: 0.0075 - categorical_accuracy: 0.9978 - val_loss: 0.2807 - val_categorical_accuracy: 0.9392\n",
      "INFO:tensorflow:Assets written to: data/model/checkpoints/assets\n",
      "Epoch 2/10\n",
      "1563/1563 [==============================] - 62s 40ms/step - loss: 0.0046 - categorical_accuracy: 0.9987 - val_loss: 0.3098 - val_categorical_accuracy: 0.9388\n",
      "Epoch 3/10\n",
      "1563/1563 [==============================] - 62s 39ms/step - loss: 0.0035 - categorical_accuracy: 0.9990 - val_loss: 0.3309 - val_categorical_accuracy: 0.9352\n"
     ]
    },
    {
     "data": {
      "image/png": "[encoded data removed]",
      "text/plain": [
       "<Figure size 432x288 with 1 Axes>"
      ]
     },
     "metadata": {
      "needs_background": "light"
     },
     "output_type": "display_data"
    }
   ],
   "source": [
    "history = model.fit(X_train, \n",
    "                    y_train, \n",
    "                    validation_data=(X_test, y_test), \n",
    "                    batch_size=32, \n",
    "                    epochs=10, \n",
    "                    callbacks=[tf.keras.callbacks.EarlyStopping(monitor='val_categorical_accuracy', patience=2),\n",
    "                              tf.keras.callbacks.ModelCheckpoint(CHECKPOINT_DIR, monitor='val_categorical_accuracy',\n",
    "                                                                save_best_only=True)])\n",
    "\n",
    "for key in ['categorical_accuracy', 'val_categorical_accuracy']:\n",
    "    plt.plot(history.history[key], label=key)\n",
    "plt.legend()\n",
    "plt.show()"
   ]
  },
  {
   "cell_type": "code",
   "execution_count": 36,
   "id": "damaged-track",
   "metadata": {},
   "outputs": [
    {
     "name": "stdout",
     "output_type": "stream",
     "text": [
      "INFO:tensorflow:Assets written to: data/model/assets\n"
     ]
    }
   ],
   "source": [
    "#model.save('data/model')"
   ]
  },
  {
   "cell_type": "code",
   "execution_count": 40,
   "id": "perfect-electron",
   "metadata": {},
   "outputs": [
    {
     "name": "stdout",
     "output_type": "stream",
     "text": [
      "1.0\n",
      "0.8910891089108911\n",
      "0.9104477611940298\n",
      "0.9136212624584718\n",
      "0.9152119700748129\n",
      "0.9221556886227545\n",
      "0.930116472545757\n",
      "0.9358059914407989\n",
      "0.9375780274656679\n",
      "0.9334073251942286\n"
     ]
    }
   ],
   "source": [
    "results = []\n",
    "for a in range(1000):\n",
    "    results.append(np.argmax(model.predict(X_test[a].reshape(1,-1)))==np.argmax(y_test[a]))\n",
    "    if not a%100:\n",
    "        print(np.mean(results))"
   ]
  },
  {
   "cell_type": "code",
   "execution_count": 41,
   "id": "three-wyoming",
   "metadata": {},
   "outputs": [],
   "source": [
    "model = tf.keras.models.load_model('data/model/checkpoints')"
   ]
  },
  {
   "cell_type": "code",
   "execution_count": 42,
   "id": "blank-stevens",
   "metadata": {},
   "outputs": [
    {
     "data": {
      "text/plain": [
       "5"
      ]
     },
     "execution_count": 42,
     "metadata": {},
     "output_type": "execute_result"
    }
   ],
   "source": [
    "np.argmax(model.predict(np.array([1,2,3,4,5,6,7,8,9,0,11]).reshape(1,-1)))"
   ]
  },
  {
   "cell_type": "code",
   "execution_count": 58,
   "id": "molecular-steal",
   "metadata": {},
   "outputs": [],
   "source": [
    "it = train.itertuples(index=False, name=None)\n",
    "row = []\n",
    "for a in range (5):\n",
    "    row.append(next(it))"
   ]
  },
  {
   "cell_type": "code",
   "execution_count": 59,
   "id": "powered-buffalo",
   "metadata": {},
   "outputs": [
    {
     "data": {
      "text/plain": [
       "[('an', 'DT'), ('Oct.', 'NNP'), ('19', 'CD'), ('review', 'NN'), ('of', 'IN')]"
      ]
     },
     "execution_count": 59,
     "metadata": {},
     "output_type": "execute_result"
    }
   ],
   "source": [
    "row"
   ]
  },
  {
   "cell_type": "code",
   "execution_count": 62,
   "id": "latest-literature",
   "metadata": {},
   "outputs": [
    {
     "data": {
      "text/plain": [
       "21743"
      ]
     },
     "execution_count": 62,
     "metadata": {},
     "output_type": "execute_result"
    }
   ],
   "source": [
    "word_to_index.get(row[2][0][-3:])"
   ]
  },
  {
   "cell_type": "code",
   "execution_count": 65,
   "id": "relevant-sterling",
   "metadata": {},
   "outputs": [
    {
     "data": {
      "text/plain": [
       "[[22, 28, 21743, 12906, 21743, 13275, 10011, 4760, 47374, 28343, 20172]]"
      ]
     },
     "execution_count": 65,
     "metadata": {},
     "output_type": "execute_result"
    }
   ],
   "source": [
    "features = build_features([row], mode='predict')\n",
    "features"
   ]
  },
  {
   "cell_type": "code",
   "execution_count": 66,
   "id": "negative-effect",
   "metadata": {},
   "outputs": [
    {
     "data": {
      "text/plain": [
       "array([[1.12113616e-04, 1.91256404e-03, 2.20805407e-04, 7.51197338e-04,\n",
       "        9.04930651e-01, 4.24202790e-06, 4.64832519e-05, 9.99998510e-01,\n",
       "        4.26965952e-03, 4.86189783e-05, 9.74017382e-03, 2.08109617e-04,\n",
       "        2.33739614e-04, 7.53270209e-01, 2.70333886e-02, 5.02672791e-03,\n",
       "        8.19615722e-02, 2.05039561e-01, 1.25606375e-05, 5.99734187e-02,\n",
       "        1.53848231e-02, 6.12073243e-02, 5.02325654e-01, 6.78394426e-05,\n",
       "        8.23019862e-01, 9.53614712e-04, 1.45196915e-03, 4.45395708e-04,\n",
       "        1.65224314e-01, 8.26805830e-04, 5.08755445e-03, 4.28003073e-03,\n",
       "        6.75513446e-02, 1.18012758e-04, 5.32925478e-05, 6.58847193e-06]],\n",
       "      dtype=float32)"
      ]
     },
     "execution_count": 66,
     "metadata": {},
     "output_type": "execute_result"
    }
   ],
   "source": [
    "prediction = model.predict(np.array(features).reshape(1,-1))\n",
    "prediction"
   ]
  },
  {
   "cell_type": "markdown",
   "id": "alive-amount",
   "metadata": {},
   "source": [
    "# Make predictions on large body of text"
   ]
  },
  {
   "cell_type": "code",
   "execution_count": 67,
   "id": "swiss-bronze",
   "metadata": {},
   "outputs": [
    {
     "name": "stdout",
     "output_type": "stream",
     "text": [
      "﻿CHAPTER I\n",
      "\n",
      "In Chancery\n",
      "\n",
      "\n",
      "London. Michaelmas term lately over, and the Lord Chancellor sitting\n",
      "in Li\n"
     ]
    }
   ],
   "source": [
    "from nltk import word_tokenize\n",
    "\n",
    "with open('data/bleak.txt', 'rt') as f:\n",
    "    content = f.read()\n",
    "print(content[:100])"
   ]
  },
  {
   "cell_type": "code",
   "execution_count": 68,
   "id": "operational-noise",
   "metadata": {},
   "outputs": [],
   "source": [
    "# strip some punctuation\n",
    "tokens = word_tokenize(content)\n",
    "tokens = [token for token in tokens if token not in list(',.;()\\'!?')+['--']+['\\'\\'']+['``']]"
   ]
  },
  {
   "cell_type": "code",
   "execution_count": 69,
   "id": "harmful-ontario",
   "metadata": {},
   "outputs": [
    {
     "data": {
      "text/plain": [
       "['\\ufeffCHAPTER',\n",
       " 'I',\n",
       " 'In',\n",
       " 'Chancery',\n",
       " 'London',\n",
       " 'Michaelmas',\n",
       " 'term',\n",
       " 'lately',\n",
       " 'over',\n",
       " 'and',\n",
       " 'the',\n",
       " 'Lord',\n",
       " 'Chancellor',\n",
       " 'sitting',\n",
       " 'in',\n",
       " 'Lincoln',\n",
       " \"'s\",\n",
       " 'Inn',\n",
       " 'Hall',\n",
       " 'Implacable']"
      ]
     },
     "execution_count": 69,
     "metadata": {},
     "output_type": "execute_result"
    }
   ],
   "source": [
    "tokens[:20]"
   ]
  },
  {
   "cell_type": "code",
   "execution_count": 70,
   "id": "developing-trust",
   "metadata": {},
   "outputs": [
    {
     "data": {
      "text/plain": [
       "[[('\\ufeffCHAPTER', None),\n",
       "  ('I', None),\n",
       "  ('In', None),\n",
       "  ('Chancery', None),\n",
       "  ('London', None)],\n",
       " [('I', None),\n",
       "  ('In', None),\n",
       "  ('Chancery', None),\n",
       "  ('London', None),\n",
       "  ('Michaelmas', None)],\n",
       " [('In', None),\n",
       "  ('Chancery', None),\n",
       "  ('London', None),\n",
       "  ('Michaelmas', None),\n",
       "  ('term', None)],\n",
       " [('Chancery', None),\n",
       "  ('London', None),\n",
       "  ('Michaelmas', None),\n",
       "  ('term', None),\n",
       "  ('lately', None)],\n",
       " [('London', None),\n",
       "  ('Michaelmas', None),\n",
       "  ('term', None),\n",
       "  ('lately', None),\n",
       "  ('over', None)]]"
      ]
     },
     "execution_count": 70,
     "metadata": {},
     "output_type": "execute_result"
    }
   ],
   "source": [
    "predict_matrix = create_windowed_dataset(tokens, mode='predict')\n",
    "predict_matrix[:5]"
   ]
  },
  {
   "cell_type": "code",
   "execution_count": 71,
   "id": "initial-sailing",
   "metadata": {},
   "outputs": [],
   "source": [
    "transformed_matrix = build_features(predict_matrix, mode='predict')"
   ]
  },
  {
   "cell_type": "code",
   "execution_count": 72,
   "id": "scenic-blocking",
   "metadata": {},
   "outputs": [
    {
     "data": {
      "text/plain": [
       "[[12, 19, 37443, 32664, 37443, 32664, 32664, 0, 29356, 41318, 39455],\n",
       " [2, 12, 41318, 29788, 29356, 37443, 37443, 32664, 39455, 34215, 0],\n",
       " [22, 2, 34215, 8179, 39455, 29356, 41318, 37443, 0, 6879, 18152],\n",
       " [22, 22, 6879, 32693, 0, 39455, 34215, 29356, 18152, 11338, 19580],\n",
       " [19, 22, 11338, 26469, 18152, 0, 6879, 39455, 19580, 18722, 33921]]"
      ]
     },
     "execution_count": 72,
     "metadata": {},
     "output_type": "execute_result"
    }
   ],
   "source": [
    "transformed_matrix[:5]"
   ]
  },
  {
   "cell_type": "code",
   "execution_count": 107,
   "id": "beginning-cookbook",
   "metadata": {},
   "outputs": [],
   "source": [
    "parts_of_speech = [index_to_pos[a] for a in np.argmax(model.predict(np.array(transformed_matrix)), axis=1)]"
   ]
  },
  {
   "cell_type": "code",
   "execution_count": 119,
   "id": "elect-louisiana",
   "metadata": {},
   "outputs": [
    {
     "data": {
      "text/plain": [
       "[('In', 'IN'),\n",
       " ('Chancery', 'NNP'),\n",
       " ('London', 'NNP'),\n",
       " ('Michaelmas', 'NNP'),\n",
       " ('term', 'NN'),\n",
       " ('lately', 'RB'),\n",
       " ('over', 'IN'),\n",
       " ('and', 'CC'),\n",
       " ('the', 'DT'),\n",
       " ('Lord', 'NNP')]"
      ]
     },
     "execution_count": 119,
     "metadata": {},
     "output_type": "execute_result"
    }
   ],
   "source": [
    "results = []\n",
    "for a in zip(tokens[2:-2], parts_of_speech):\n",
    "    results.append(a)\n",
    "results[:10]"
   ]
  },
  {
   "cell_type": "code",
   "execution_count": 120,
   "id": "realistic-tower",
   "metadata": {},
   "outputs": [
    {
     "data": {
      "text/plain": [
       "358608"
      ]
     },
     "execution_count": 120,
     "metadata": {},
     "output_type": "execute_result"
    }
   ],
   "source": [
    "len(results)"
   ]
  },
  {
   "cell_type": "code",
   "execution_count": 118,
   "id": "alleged-curve",
   "metadata": {},
   "outputs": [],
   "source": [
    "pd.DataFrame(results, columns = ['word', 'pos']).to_csv('data/pos_tagged_bleak_house_FULL.csv')"
   ]
  },
  {
   "cell_type": "code",
   "execution_count": 74,
   "id": "cosmetic-magic",
   "metadata": {},
   "outputs": [
    {
     "data": {
      "text/plain": [
       "['\\ufeffCHAPTER',\n",
       " 'I',\n",
       " 'In',\n",
       " 'Chancery',\n",
       " 'London',\n",
       " 'Michaelmas',\n",
       " 'term',\n",
       " 'lately',\n",
       " 'over',\n",
       " 'and',\n",
       " 'the',\n",
       " 'Lord',\n",
       " 'Chancellor',\n",
       " 'sitting',\n",
       " 'in',\n",
       " 'Lincoln',\n",
       " \"'s\",\n",
       " 'Inn',\n",
       " 'Hall',\n",
       " 'Implacable']"
      ]
     },
     "execution_count": 74,
     "metadata": {},
     "output_type": "execute_result"
    }
   ],
   "source": [
    "tokens[:20]"
   ]
  },
  {
   "cell_type": "code",
   "execution_count": 75,
   "id": "brutal-horse",
   "metadata": {},
   "outputs": [
    {
     "data": {
      "text/plain": [
       "(358612, 358608)"
      ]
     },
     "execution_count": 75,
     "metadata": {},
     "output_type": "execute_result"
    }
   ],
   "source": [
    "len(tokens), len(transformed_matrix)"
   ]
  },
  {
   "cell_type": "code",
   "execution_count": 123,
   "id": "turned-happening",
   "metadata": {},
   "outputs": [
    {
     "data": {
      "text/html": [
       "<div>\n",
       "<style scoped>\n",
       "    .dataframe tbody tr th:only-of-type {\n",
       "        vertical-align: middle;\n",
       "    }\n",
       "\n",
       "    .dataframe tbody tr th {\n",
       "        vertical-align: top;\n",
       "    }\n",
       "\n",
       "    .dataframe thead th {\n",
       "        text-align: right;\n",
       "    }\n",
       "</style>\n",
       "<table border=\"1\" class=\"dataframe\">\n",
       "  <thead>\n",
       "    <tr style=\"text-align: right;\">\n",
       "      <th></th>\n",
       "      <th>Unnamed: 0</th>\n",
       "      <th>word</th>\n",
       "      <th>pos</th>\n",
       "    </tr>\n",
       "  </thead>\n",
       "  <tbody>\n",
       "    <tr>\n",
       "      <th>9623</th>\n",
       "      <td>9623</td>\n",
       "      <td>Thank</td>\n",
       "      <td>LS</td>\n",
       "    </tr>\n",
       "    <tr>\n",
       "      <th>31465</th>\n",
       "      <td>31465</td>\n",
       "      <td>Thank</td>\n",
       "      <td>NNP</td>\n",
       "    </tr>\n",
       "    <tr>\n",
       "      <th>50759</th>\n",
       "      <td>50759</td>\n",
       "      <td>Thank</td>\n",
       "      <td>NNP</td>\n",
       "    </tr>\n",
       "    <tr>\n",
       "      <th>55522</th>\n",
       "      <td>55522</td>\n",
       "      <td>Thank</td>\n",
       "      <td>LS</td>\n",
       "    </tr>\n",
       "    <tr>\n",
       "      <th>55545</th>\n",
       "      <td>55545</td>\n",
       "      <td>Thank</td>\n",
       "      <td>CC</td>\n",
       "    </tr>\n",
       "    <tr>\n",
       "      <th>70938</th>\n",
       "      <td>70938</td>\n",
       "      <td>Thank</td>\n",
       "      <td>LS</td>\n",
       "    </tr>\n",
       "    <tr>\n",
       "      <th>75044</th>\n",
       "      <td>75044</td>\n",
       "      <td>Thank</td>\n",
       "      <td>NNP</td>\n",
       "    </tr>\n",
       "    <tr>\n",
       "      <th>79375</th>\n",
       "      <td>79375</td>\n",
       "      <td>Thank</td>\n",
       "      <td>NNP</td>\n",
       "    </tr>\n",
       "    <tr>\n",
       "      <th>84754</th>\n",
       "      <td>84754</td>\n",
       "      <td>Thank</td>\n",
       "      <td>VBP</td>\n",
       "    </tr>\n",
       "    <tr>\n",
       "      <th>112777</th>\n",
       "      <td>112777</td>\n",
       "      <td>Thank</td>\n",
       "      <td>NNP</td>\n",
       "    </tr>\n",
       "    <tr>\n",
       "      <th>112881</th>\n",
       "      <td>112881</td>\n",
       "      <td>Thank</td>\n",
       "      <td>NNP</td>\n",
       "    </tr>\n",
       "    <tr>\n",
       "      <th>113021</th>\n",
       "      <td>113021</td>\n",
       "      <td>Thank</td>\n",
       "      <td>VBP</td>\n",
       "    </tr>\n",
       "    <tr>\n",
       "      <th>114761</th>\n",
       "      <td>114761</td>\n",
       "      <td>Thank</td>\n",
       "      <td>NN</td>\n",
       "    </tr>\n",
       "    <tr>\n",
       "      <th>121327</th>\n",
       "      <td>121327</td>\n",
       "      <td>Thank</td>\n",
       "      <td>NNP</td>\n",
       "    </tr>\n",
       "    <tr>\n",
       "      <th>124670</th>\n",
       "      <td>124670</td>\n",
       "      <td>Thank</td>\n",
       "      <td>NNP</td>\n",
       "    </tr>\n",
       "    <tr>\n",
       "      <th>128513</th>\n",
       "      <td>128513</td>\n",
       "      <td>Thank</td>\n",
       "      <td>NNP</td>\n",
       "    </tr>\n",
       "    <tr>\n",
       "      <th>128733</th>\n",
       "      <td>128733</td>\n",
       "      <td>Thank</td>\n",
       "      <td>NNP</td>\n",
       "    </tr>\n",
       "    <tr>\n",
       "      <th>133053</th>\n",
       "      <td>133053</td>\n",
       "      <td>Thank</td>\n",
       "      <td>NNP</td>\n",
       "    </tr>\n",
       "    <tr>\n",
       "      <th>137295</th>\n",
       "      <td>137295</td>\n",
       "      <td>Thank</td>\n",
       "      <td>LS</td>\n",
       "    </tr>\n",
       "    <tr>\n",
       "      <th>141777</th>\n",
       "      <td>141777</td>\n",
       "      <td>Thank</td>\n",
       "      <td>LS</td>\n",
       "    </tr>\n",
       "    <tr>\n",
       "      <th>164045</th>\n",
       "      <td>164045</td>\n",
       "      <td>Thank</td>\n",
       "      <td>NNP</td>\n",
       "    </tr>\n",
       "    <tr>\n",
       "      <th>164166</th>\n",
       "      <td>164166</td>\n",
       "      <td>Thank</td>\n",
       "      <td>NNP</td>\n",
       "    </tr>\n",
       "    <tr>\n",
       "      <th>172375</th>\n",
       "      <td>172375</td>\n",
       "      <td>Thank</td>\n",
       "      <td>NNP</td>\n",
       "    </tr>\n",
       "    <tr>\n",
       "      <th>173159</th>\n",
       "      <td>173159</td>\n",
       "      <td>Thank</td>\n",
       "      <td>NNP</td>\n",
       "    </tr>\n",
       "    <tr>\n",
       "      <th>190357</th>\n",
       "      <td>190357</td>\n",
       "      <td>Thank</td>\n",
       "      <td>NNP</td>\n",
       "    </tr>\n",
       "    <tr>\n",
       "      <th>190983</th>\n",
       "      <td>190983</td>\n",
       "      <td>Thank</td>\n",
       "      <td>NNP</td>\n",
       "    </tr>\n",
       "    <tr>\n",
       "      <th>221177</th>\n",
       "      <td>221177</td>\n",
       "      <td>Thank</td>\n",
       "      <td>NNP</td>\n",
       "    </tr>\n",
       "    <tr>\n",
       "      <th>221300</th>\n",
       "      <td>221300</td>\n",
       "      <td>Thank</td>\n",
       "      <td>VBP</td>\n",
       "    </tr>\n",
       "    <tr>\n",
       "      <th>222340</th>\n",
       "      <td>222340</td>\n",
       "      <td>Thank</td>\n",
       "      <td>VBP</td>\n",
       "    </tr>\n",
       "    <tr>\n",
       "      <th>222369</th>\n",
       "      <td>222369</td>\n",
       "      <td>Thank</td>\n",
       "      <td>NNP</td>\n",
       "    </tr>\n",
       "    <tr>\n",
       "      <th>235565</th>\n",
       "      <td>235565</td>\n",
       "      <td>Thank</td>\n",
       "      <td>RB</td>\n",
       "    </tr>\n",
       "    <tr>\n",
       "      <th>244221</th>\n",
       "      <td>244221</td>\n",
       "      <td>Thank</td>\n",
       "      <td>NNP</td>\n",
       "    </tr>\n",
       "    <tr>\n",
       "      <th>254579</th>\n",
       "      <td>254579</td>\n",
       "      <td>Thank</td>\n",
       "      <td>VB</td>\n",
       "    </tr>\n",
       "    <tr>\n",
       "      <th>255590</th>\n",
       "      <td>255590</td>\n",
       "      <td>Thank</td>\n",
       "      <td>NNP</td>\n",
       "    </tr>\n",
       "    <tr>\n",
       "      <th>265841</th>\n",
       "      <td>265841</td>\n",
       "      <td>Thank</td>\n",
       "      <td>NNP</td>\n",
       "    </tr>\n",
       "    <tr>\n",
       "      <th>266844</th>\n",
       "      <td>266844</td>\n",
       "      <td>Thank</td>\n",
       "      <td>VBP</td>\n",
       "    </tr>\n",
       "    <tr>\n",
       "      <th>273946</th>\n",
       "      <td>273946</td>\n",
       "      <td>Thank</td>\n",
       "      <td>NN</td>\n",
       "    </tr>\n",
       "    <tr>\n",
       "      <th>275092</th>\n",
       "      <td>275092</td>\n",
       "      <td>Thank</td>\n",
       "      <td>NNP</td>\n",
       "    </tr>\n",
       "    <tr>\n",
       "      <th>286271</th>\n",
       "      <td>286271</td>\n",
       "      <td>Thank</td>\n",
       "      <td>NNP</td>\n",
       "    </tr>\n",
       "    <tr>\n",
       "      <th>292800</th>\n",
       "      <td>292800</td>\n",
       "      <td>Thank</td>\n",
       "      <td>NNP</td>\n",
       "    </tr>\n",
       "    <tr>\n",
       "      <th>307576</th>\n",
       "      <td>307576</td>\n",
       "      <td>Thank</td>\n",
       "      <td>NNP</td>\n",
       "    </tr>\n",
       "    <tr>\n",
       "      <th>310310</th>\n",
       "      <td>310310</td>\n",
       "      <td>Thank</td>\n",
       "      <td>NNP</td>\n",
       "    </tr>\n",
       "    <tr>\n",
       "      <th>322379</th>\n",
       "      <td>322379</td>\n",
       "      <td>Thank</td>\n",
       "      <td>IN</td>\n",
       "    </tr>\n",
       "    <tr>\n",
       "      <th>322910</th>\n",
       "      <td>322910</td>\n",
       "      <td>Thank</td>\n",
       "      <td>NNP</td>\n",
       "    </tr>\n",
       "    <tr>\n",
       "      <th>322925</th>\n",
       "      <td>322925</td>\n",
       "      <td>Thank</td>\n",
       "      <td>LS</td>\n",
       "    </tr>\n",
       "    <tr>\n",
       "      <th>323263</th>\n",
       "      <td>323263</td>\n",
       "      <td>Thank</td>\n",
       "      <td>NNP</td>\n",
       "    </tr>\n",
       "    <tr>\n",
       "      <th>341746</th>\n",
       "      <td>341746</td>\n",
       "      <td>Thank</td>\n",
       "      <td>NNP</td>\n",
       "    </tr>\n",
       "    <tr>\n",
       "      <th>346533</th>\n",
       "      <td>346533</td>\n",
       "      <td>Thank</td>\n",
       "      <td>NNP</td>\n",
       "    </tr>\n",
       "    <tr>\n",
       "      <th>346568</th>\n",
       "      <td>346568</td>\n",
       "      <td>Thank</td>\n",
       "      <td>LS</td>\n",
       "    </tr>\n",
       "    <tr>\n",
       "      <th>346570</th>\n",
       "      <td>346570</td>\n",
       "      <td>Thank</td>\n",
       "      <td>VBP</td>\n",
       "    </tr>\n",
       "    <tr>\n",
       "      <th>350861</th>\n",
       "      <td>350861</td>\n",
       "      <td>Thank</td>\n",
       "      <td>NNP</td>\n",
       "    </tr>\n",
       "    <tr>\n",
       "      <th>351117</th>\n",
       "      <td>351117</td>\n",
       "      <td>Thank</td>\n",
       "      <td>VBP</td>\n",
       "    </tr>\n",
       "    <tr>\n",
       "      <th>354763</th>\n",
       "      <td>354763</td>\n",
       "      <td>Thank</td>\n",
       "      <td>NNP</td>\n",
       "    </tr>\n",
       "  </tbody>\n",
       "</table>\n",
       "</div>"
      ],
      "text/plain": [
       "        Unnamed: 0   word  pos\n",
       "9623          9623  Thank   LS\n",
       "31465        31465  Thank  NNP\n",
       "50759        50759  Thank  NNP\n",
       "55522        55522  Thank   LS\n",
       "55545        55545  Thank   CC\n",
       "70938        70938  Thank   LS\n",
       "75044        75044  Thank  NNP\n",
       "79375        79375  Thank  NNP\n",
       "84754        84754  Thank  VBP\n",
       "112777      112777  Thank  NNP\n",
       "112881      112881  Thank  NNP\n",
       "113021      113021  Thank  VBP\n",
       "114761      114761  Thank   NN\n",
       "121327      121327  Thank  NNP\n",
       "124670      124670  Thank  NNP\n",
       "128513      128513  Thank  NNP\n",
       "128733      128733  Thank  NNP\n",
       "133053      133053  Thank  NNP\n",
       "137295      137295  Thank   LS\n",
       "141777      141777  Thank   LS\n",
       "164045      164045  Thank  NNP\n",
       "164166      164166  Thank  NNP\n",
       "172375      172375  Thank  NNP\n",
       "173159      173159  Thank  NNP\n",
       "190357      190357  Thank  NNP\n",
       "190983      190983  Thank  NNP\n",
       "221177      221177  Thank  NNP\n",
       "221300      221300  Thank  VBP\n",
       "222340      222340  Thank  VBP\n",
       "222369      222369  Thank  NNP\n",
       "235565      235565  Thank   RB\n",
       "244221      244221  Thank  NNP\n",
       "254579      254579  Thank   VB\n",
       "255590      255590  Thank  NNP\n",
       "265841      265841  Thank  NNP\n",
       "266844      266844  Thank  VBP\n",
       "273946      273946  Thank   NN\n",
       "275092      275092  Thank  NNP\n",
       "286271      286271  Thank  NNP\n",
       "292800      292800  Thank  NNP\n",
       "307576      307576  Thank  NNP\n",
       "310310      310310  Thank  NNP\n",
       "322379      322379  Thank   IN\n",
       "322910      322910  Thank  NNP\n",
       "322925      322925  Thank   LS\n",
       "323263      323263  Thank  NNP\n",
       "341746      341746  Thank  NNP\n",
       "346533      346533  Thank  NNP\n",
       "346568      346568  Thank   LS\n",
       "346570      346570  Thank  VBP\n",
       "350861      350861  Thank  NNP\n",
       "351117      351117  Thank  VBP\n",
       "354763      354763  Thank  NNP"
      ]
     },
     "execution_count": 123,
     "metadata": {},
     "output_type": "execute_result"
    }
   ],
   "source": [
    "bleak = pd.read_csv('data/pos_tagged_bleak_house_FULL.csv')\n",
    "bleak[bleak['word']=='Thank']"
   ]
  },
  {
   "cell_type": "code",
   "execution_count": null,
   "id": "imported-accreditation",
   "metadata": {},
   "outputs": [],
   "source": []
  }
 ],
 "metadata": {
  "kernelspec": {
   "display_name": "Python 3",
   "language": "python",
   "name": "python3"
  },
  "language_info": {
   "codemirror_mode": {
    "name": "ipython",
    "version": 3
   },
   "file_extension": ".py",
   "mimetype": "text/x-python",
   "name": "python",
   "nbconvert_exporter": "python",
   "pygments_lexer": "ipython3",
   "version": "3.8.7"
  }
 },
 "nbformat": 4,
 "nbformat_minor": 5
}
