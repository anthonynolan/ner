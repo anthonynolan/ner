{
 "cells": [
  {
   "cell_type": "code",
   "execution_count": 37,
   "id": "settled-brain",
   "metadata": {},
   "outputs": [],
   "source": [
    "import pandas as pd\n",
    "import numpy as np\n",
    "import itertools\n",
    "import tensorflow as tf\n",
    "from tensorflow import keras\n",
    "from tensorflow.keras import layers\n",
    "from sklearn.model_selection import train_test_split\n",
    "import matplotlib.pyplot as plt\n",
    "from collections import Counter, defaultdict\n",
    "import json\n",
    "from nltk import word_tokenize\n",
    "\n",
    "from utils import create_windowed_dataset, get_penn_treebank_tags"
   ]
  },
  {
   "cell_type": "code",
   "execution_count": 38,
   "id": "piano-citizen",
   "metadata": {},
   "outputs": [],
   "source": [
    "CHECKPOINT_DIR = 'data/model/pos_checkpoint'\n",
    "sequence_length = 5 # centre word, 2 before and 2 after\n",
    "UNK_WORD = '<UNK_WORD>'"
   ]
  },
  {
   "cell_type": "code",
   "execution_count": 39,
   "id": "comic-football",
   "metadata": {},
   "outputs": [
    {
     "data": {
      "text/html": [
       "<div>\n",
       "<style scoped>\n",
       "    .dataframe tbody tr th:only-of-type {\n",
       "        vertical-align: middle;\n",
       "    }\n",
       "\n",
       "    .dataframe tbody tr th {\n",
       "        vertical-align: top;\n",
       "    }\n",
       "\n",
       "    .dataframe thead th {\n",
       "        text-align: right;\n",
       "    }\n",
       "</style>\n",
       "<table border=\"1\" class=\"dataframe\">\n",
       "  <thead>\n",
       "    <tr style=\"text-align: right;\">\n",
       "      <th></th>\n",
       "      <th>word</th>\n",
       "      <th>pos</th>\n",
       "    </tr>\n",
       "  </thead>\n",
       "  <tbody>\n",
       "    <tr>\n",
       "      <th>0</th>\n",
       "      <td>an</td>\n",
       "      <td>DT</td>\n",
       "    </tr>\n",
       "    <tr>\n",
       "      <th>1</th>\n",
       "      <td>Oct.</td>\n",
       "      <td>NNP</td>\n",
       "    </tr>\n",
       "    <tr>\n",
       "      <th>2</th>\n",
       "      <td>19</td>\n",
       "      <td>CD</td>\n",
       "    </tr>\n",
       "    <tr>\n",
       "      <th>3</th>\n",
       "      <td>review</td>\n",
       "      <td>NN</td>\n",
       "    </tr>\n",
       "    <tr>\n",
       "      <th>4</th>\n",
       "      <td>of</td>\n",
       "      <td>IN</td>\n",
       "    </tr>\n",
       "  </tbody>\n",
       "</table>\n",
       "</div>"
      ],
      "text/plain": [
       "     word  pos\n",
       "0      an   DT\n",
       "1    Oct.  NNP\n",
       "2      19   CD\n",
       "3  review   NN\n",
       "4      of   IN"
      ]
     },
     "execution_count": 39,
     "metadata": {},
     "output_type": "execute_result"
    }
   ],
   "source": [
    "train = pd.read_csv('data/WSJ_02-21.pos', sep='\\t', header=0, names=['word', 'pos'])\n",
    "train.head()"
   ]
  },
  {
   "cell_type": "code",
   "execution_count": 40,
   "id": "defensive-narrow",
   "metadata": {},
   "outputs": [],
   "source": [
    "# find most common pos to apply to unk words in feature creation\n",
    "MOST_COMMON_POS = Counter(train['pos']).most_common(1)"
   ]
  },
  {
   "cell_type": "code",
   "execution_count": 41,
   "id": "wrapped-crisis",
   "metadata": {},
   "outputs": [
    {
     "name": "stdout",
     "output_type": "stream",
     "text": [
      "tags in training, but not in the original treebank set: {'(', \"''\", '.', '$', ')', ',', '#', ':', '``'}\n"
     ]
    }
   ],
   "source": [
    "# Strip some non pos tags from the input data\n",
    "tidy = get_penn_treebank_tags()\n",
    "\n",
    "tags_for_removal = set(train.pos.values)- set(tidy.keys())\n",
    "print(f'tags in training, but not in the original treebank set: {tags_for_removal}')\n",
    "train = train[train['pos'].map(lambda x: x not in tags_for_removal)]"
   ]
  },
  {
   "cell_type": "code",
   "execution_count": 42,
   "id": "civic-denmark",
   "metadata": {},
   "outputs": [
    {
     "data": {
      "text/plain": [
       "[('an', 'DT'), ('Oct.', 'NNP'), ('19', 'CD'), ('review', 'NN'), ('of', 'IN')]"
      ]
     },
     "execution_count": 42,
     "metadata": {},
     "output_type": "execute_result"
    }
   ],
   "source": [
    "input_data = []\n",
    "for tup in train.itertuples(index=False, name=None):\n",
    "    input_data.append(tup)\n",
    "input_data[:5]"
   ]
  },
  {
   "cell_type": "code",
   "execution_count": 43,
   "id": "vocational-nashville",
   "metadata": {},
   "outputs": [
    {
     "data": {
      "text/plain": [
       "[[('an', 'DT'), ('Oct.', 'NNP'), ('19', 'CD'), ('review', 'NN'), ('of', 'IN')],\n",
       " [('Oct.', 'NNP'),\n",
       "  ('19', 'CD'),\n",
       "  ('review', 'NN'),\n",
       "  ('of', 'IN'),\n",
       "  ('The', 'DT')],\n",
       " [('19', 'CD'),\n",
       "  ('review', 'NN'),\n",
       "  ('of', 'IN'),\n",
       "  ('The', 'DT'),\n",
       "  ('Misanthrope', 'NN')],\n",
       " [('review', 'NN'),\n",
       "  ('of', 'IN'),\n",
       "  ('The', 'DT'),\n",
       "  ('Misanthrope', 'NN'),\n",
       "  ('at', 'IN')],\n",
       " [('of', 'IN'),\n",
       "  ('The', 'DT'),\n",
       "  ('Misanthrope', 'NN'),\n",
       "  ('at', 'IN'),\n",
       "  ('Chicago', 'NNP')]]"
      ]
     },
     "execution_count": 43,
     "metadata": {},
     "output_type": "execute_result"
    }
   ],
   "source": [
    "train_matrix = create_windowed_dataset(input_data, sequence_length, mode='train')\n",
    "train_matrix[:5]"
   ]
  },
  {
   "cell_type": "code",
   "execution_count": 44,
   "id": "instrumental-capacity",
   "metadata": {},
   "outputs": [
    {
     "name": "stdout",
     "output_type": "stream",
     "text": [
      "44364\n",
      "47525\n",
      "47546\n",
      "47546 36\n"
     ]
    }
   ],
   "source": [
    "suffixes = []\n",
    "for item in set(train['word']):\n",
    "    suffixes.append(item[-3:])\n",
    "    \n",
    "initial_letters = []\n",
    "for item in set(train['word']):\n",
    "    initial_letters.append(item[0])\n",
    "    \n",
    "pos_vocab = set(train['pos'])\n",
    "index_to_pos = {k:v for k, v in enumerate(pos_vocab)}\n",
    "pos_to_index = {v:k for k, v in index_to_pos.items()}\n",
    "\n",
    "\n",
    "\n",
    "word_vocab = set([UNK_WORD])\n",
    "word_vocab.update(train['word'])\n",
    "print(len(word_vocab))\n",
    "\n",
    "word_vocab.update(suffixes)\n",
    "print(len(word_vocab))\n",
    "\n",
    "word_vocab.update(initial_letters)\n",
    "print(len(word_vocab))\n",
    "\n",
    "index_to_word = {k+len(pos_vocab): v for k, v in enumerate(word_vocab)}\n",
    "word_to_index = defaultdict(None, {v:k for k, v in index_to_word.items()})\n",
    "\n",
    "print(len(word_vocab), len(pos_vocab))"
   ]
  },
  {
   "cell_type": "code",
   "execution_count": 45,
   "id": "initial-alignment",
   "metadata": {},
   "outputs": [
    {
     "name": "stdout",
     "output_type": "stream",
     "text": [
      "There are 44363 tuples in the dict\n",
      "an DT\n",
      "Oct. NNP\n",
      "19 CD\n",
      "review VBP\n",
      "of RP\n"
     ]
    }
   ],
   "source": [
    "# For each word in the vocab determine the most common pos tag\n",
    "winners = defaultdict()\n",
    "\n",
    "for row in Counter(list(train.itertuples(index=False, name=None))):\n",
    "    if row[0] not in winners:\n",
    "        winners[row[0]] = row[1]\n",
    "    elif winners[row[0]]< row[1]:\n",
    "        winners[row[0]] = row[1]\n",
    "        \n",
    "print(f'There are {len(winners)} tuples in the dict')\n",
    "\n",
    "for key in list(winners.keys())[:5]:\n",
    "    print(key, winners[key])"
   ]
  },
  {
   "cell_type": "code",
   "execution_count": 10,
   "id": "smooth-boundary",
   "metadata": {},
   "outputs": [],
   "source": [
    "# Dump the dictionaries for use in the js\n",
    "\n",
    "with open('jq/word_to_index.json', 'wt') as f:\n",
    "    f.write(json.dumps(word_to_index))\n",
    "    \n",
    "with open('jq/pos_to_index.json', 'wt') as f:\n",
    "    f.write(json.dumps(pos_to_index))\n",
    "    \n",
    "with open('jq/index_to_pos.json', 'wt') as f:\n",
    "    f.write(json.dumps(index_to_pos))    \n",
    "    \n",
    "with open('jq/most_common_tag_for_word.json', 'wt') as f:\n",
    "    f.write(json.dumps(winners))"
   ]
  },
  {
   "cell_type": "code",
   "execution_count": 46,
   "id": "crazy-packaging",
   "metadata": {},
   "outputs": [],
   "source": [
    "def build_features(matrix, mode='train'):\n",
    "    transformed_matrix = []\n",
    "\n",
    "    for row in matrix:\n",
    "        features = []\n",
    "\n",
    "        if mode=='train':\n",
    "            features.append(pos_to_index[row[1][1]])\n",
    "            features.append(pos_to_index[row[0][1]])\n",
    "        else:\n",
    "            features.append(pos_to_index[winners.get(row[1][0], 'NN')])\n",
    "            features.append(pos_to_index[winners.get(row[0][0], 'NN')])\n",
    "            \n",
    "        features.append(word_to_index.get(row[2][0][-3:], word_to_index[UNK_WORD]))\n",
    "        features.append(word_to_index.get(row[2][0][0], word_to_index[UNK_WORD]))\n",
    "\n",
    "        features.append(word_to_index.get(row[2][0], word_to_index[UNK_WORD]))\n",
    "\n",
    "        features.append(word_to_index.get(row[1][0], word_to_index[UNK_WORD]))\n",
    "\n",
    "        features.append(word_to_index.get(row[1][0][-3:], word_to_index[UNK_WORD]))\n",
    "\n",
    "        features.append(word_to_index.get(row[0][0], word_to_index[UNK_WORD]))\n",
    "        features.append(word_to_index.get(row[3][0], word_to_index[UNK_WORD]))    \n",
    "        features.append(word_to_index.get(row[3][0][-3:], word_to_index[UNK_WORD]))\n",
    "        features.append(word_to_index.get(row[4][0], word_to_index[UNK_WORD]))\n",
    "        \n",
    "        if mode=='train':\n",
    "            features.append(pos_to_index[row[2][1]])\n",
    "        \n",
    "        transformed_matrix.append(features)\n",
    "    return transformed_matrix"
   ]
  },
  {
   "cell_type": "code",
   "execution_count": 47,
   "id": "dutch-honduras",
   "metadata": {},
   "outputs": [
    {
     "data": {
      "text/plain": [
       "[[12, 15, 25731, 15198, 25731, 14147, 15920, 21676, 2380, 31265, 3581, 32],\n",
       " [32, 12, 31265, 35132, 2380, 25731, 25731, 14147, 3581, 3581, 5130, 13],\n",
       " [13, 32, 3581, 41015, 3581, 2380, 31265, 25731, 5130, 5130, 17990, 27],\n",
       " [27, 13, 5130, 40200, 5130, 3581, 3581, 2380, 17990, 22513, 1765, 15],\n",
       " [15, 27, 22513, 21251, 17990, 5130, 5130, 3581, 1765, 1765, 779, 13]]"
      ]
     },
     "execution_count": 47,
     "metadata": {},
     "output_type": "execute_result"
    }
   ],
   "source": [
    "transformed_matrix = build_features(train_matrix, mode='train')\n",
    "transformed_matrix[:5]"
   ]
  },
  {
   "cell_type": "code",
   "execution_count": 13,
   "id": "analyzed-classification",
   "metadata": {},
   "outputs": [],
   "source": [
    "def get_model(vocab_size, d_model):\n",
    "\n",
    "    model = keras.Sequential()\n",
    "    model.add(layers.Embedding(input_dim=vocab_size, output_dim=d_model, input_length=11))\n",
    "    model.add(layers.Flatten())\n",
    "    model.add(layers.Dense(100, activation='relu'))\n",
    "    model.add(layers.Dropout(.1))\n",
    "    model.add(layers.Dense(len(pos_vocab), activation='sigmoid'))\n",
    "\n",
    "    return model"
   ]
  },
  {
   "cell_type": "code",
   "execution_count": 14,
   "id": "remarkable-electronics",
   "metadata": {},
   "outputs": [
    {
     "name": "stdout",
     "output_type": "stream",
     "text": [
      "Model: \"sequential\"\n",
      "_________________________________________________________________\n",
      "Layer (type)                 Output Shape              Param #   \n",
      "=================================================================\n",
      "embedding (Embedding)        (None, 11, 100)           4758200   \n",
      "_________________________________________________________________\n",
      "flatten (Flatten)            (None, 1100)              0         \n",
      "_________________________________________________________________\n",
      "dense (Dense)                (None, 100)               110100    \n",
      "_________________________________________________________________\n",
      "dropout (Dropout)            (None, 100)               0         \n",
      "_________________________________________________________________\n",
      "dense_1 (Dense)              (None, 36)                3636      \n",
      "=================================================================\n",
      "Total params: 4,871,936\n",
      "Trainable params: 4,871,936\n",
      "Non-trainable params: 0\n",
      "_________________________________________________________________\n"
     ]
    }
   ],
   "source": [
    "model = get_model(len(word_vocab)+len(pos_vocab), 100)\n",
    "model.summary()"
   ]
  },
  {
   "cell_type": "code",
   "execution_count": 15,
   "id": "premium-yeast",
   "metadata": {},
   "outputs": [],
   "source": [
    "model.compile(optimizer=keras.optimizers.Adam(), loss=keras.losses.CategoricalCrossentropy()\n",
    "              , metrics=[keras.metrics.CategoricalAccuracy()])"
   ]
  },
  {
   "cell_type": "code",
   "execution_count": 16,
   "id": "rough-internet",
   "metadata": {},
   "outputs": [
    {
     "name": "stdout",
     "output_type": "stream",
     "text": [
      "(832779, 11) (832779, 36)\n"
     ]
    }
   ],
   "source": [
    "X, y = np.array(transformed_matrix)[:, :-1], keras.utils.to_categorical(np.array(transformed_matrix)[:, -1], num_classes=len(pos_vocab))\n",
    "print(X.shape, y.shape)\n",
    "\n",
    "max_train_size = 50000\n",
    "\n",
    "X_train = X[:max_train_size]\n",
    "X_test = X[max_train_size:max_train_size+int(.1*max_train_size)]\n",
    "\n",
    "y_train = y[:max_train_size]\n",
    "y_test = y[max_train_size:max_train_size+int(.1*max_train_size)]"
   ]
  },
  {
   "cell_type": "code",
   "execution_count": 17,
   "id": "trained-straight",
   "metadata": {},
   "outputs": [
    {
     "name": "stdout",
     "output_type": "stream",
     "text": [
      "Epoch 1/10\n",
      "1563/1563 [==============================] - 64s 41ms/step - loss: 1.1298 - categorical_accuracy: 0.7214 - val_loss: 0.1802 - val_categorical_accuracy: 0.9446\n",
      "INFO:tensorflow:Assets written to: data/model/pos_checkpoint/assets\n",
      "Epoch 2/10\n",
      "1563/1563 [==============================] - 60s 39ms/step - loss: 0.0918 - categorical_accuracy: 0.9739 - val_loss: 0.1873 - val_categorical_accuracy: 0.9436\n",
      "Epoch 3/10\n",
      "1563/1563 [==============================] - 60s 39ms/step - loss: 0.0324 - categorical_accuracy: 0.9911 - val_loss: 0.2032 - val_categorical_accuracy: 0.9444\n"
     ]
    },
    {
     "data": {
      "image/png": "[encoded data removed]",
      "text/plain": [
       "<Figure size 432x288 with 1 Axes>"
      ]
     },
     "metadata": {
      "needs_background": "light"
     },
     "output_type": "display_data"
    }
   ],
   "source": [
    "history = model.fit(X_train, \n",
    "                    y_train, \n",
    "                    validation_data=(X_test, y_test), \n",
    "                    batch_size=32, \n",
    "                    epochs=10, \n",
    "                    callbacks=[tf.keras.callbacks.EarlyStopping(monitor='val_categorical_accuracy', patience=2),\n",
    "                              tf.keras.callbacks.ModelCheckpoint(CHECKPOINT_DIR, monitor='val_categorical_accuracy',\n",
    "                                                                save_best_only=True)])\n",
    "\n",
    "for key in ['categorical_accuracy', 'val_categorical_accuracy']:\n",
    "    plt.plot(history.history[key], label=key)\n",
    "plt.legend()\n",
    "plt.show()"
   ]
  },
  {
   "cell_type": "code",
   "execution_count": 24,
   "id": "perfect-electron",
   "metadata": {},
   "outputs": [
    {
     "name": "stdout",
     "output_type": "stream",
     "text": [
      "1.0\n",
      "0.9306930693069307\n",
      "0.9353233830845771\n",
      "0.9435215946843853\n",
      "0.940149625935162\n",
      "0.9441117764471058\n",
      "0.9484193011647255\n",
      "0.9514978601997147\n",
      "0.951310861423221\n",
      "0.9500554938956715\n"
     ]
    }
   ],
   "source": [
    "# Rough test by predicting 1000 test vals against ground truth\n",
    "results = []\n",
    "for a in range(1000):\n",
    "    results.append(np.argmax(model.predict(X_test[a].reshape(1,-1)))==np.argmax(y_test[a]))\n",
    "    if not a%100:\n",
    "        print(np.mean(results))"
   ]
  },
  {
   "cell_type": "code",
   "execution_count": 71,
   "id": "three-wyoming",
   "metadata": {},
   "outputs": [],
   "source": [
    "model = tf.keras.models.load_model('data/model/pos_checkpoint/1')"
   ]
  },
  {
   "cell_type": "markdown",
   "id": "alive-amount",
   "metadata": {},
   "source": [
    "# Make predictions on large body of text"
   ]
  },
  {
   "cell_type": "code",
   "execution_count": 48,
   "id": "swiss-bronze",
   "metadata": {},
   "outputs": [
    {
     "name": "stdout",
     "output_type": "stream",
     "text": [
      "﻿CHAPTER I\n",
      "\n",
      "In Chancery\n",
      "\n",
      "\n",
      "London. Michaelmas term lately over, and the Lord Chancellor sitting\n",
      "in Li\n"
     ]
    }
   ],
   "source": [
    "with open('data/bleak.txt', 'rt') as f:\n",
    "    content = f.read()\n",
    "print(content[:100])"
   ]
  },
  {
   "cell_type": "code",
   "execution_count": 49,
   "id": "operational-noise",
   "metadata": {},
   "outputs": [],
   "source": [
    "# strip some punctuation\n",
    "tokens = word_tokenize(content)\n",
    "tokens = [token for token in tokens if token not in list(',.;()\\'!?')+['--']+['\\'\\'']+['``']]"
   ]
  },
  {
   "cell_type": "code",
   "execution_count": 50,
   "id": "harmful-ontario",
   "metadata": {},
   "outputs": [
    {
     "data": {
      "text/plain": [
       "['\\ufeffCHAPTER',\n",
       " 'I',\n",
       " 'In',\n",
       " 'Chancery',\n",
       " 'London',\n",
       " 'Michaelmas',\n",
       " 'term',\n",
       " 'lately',\n",
       " 'over',\n",
       " 'and',\n",
       " 'the',\n",
       " 'Lord',\n",
       " 'Chancellor',\n",
       " 'sitting',\n",
       " 'in',\n",
       " 'Lincoln',\n",
       " \"'s\",\n",
       " 'Inn',\n",
       " 'Hall',\n",
       " 'Implacable']"
      ]
     },
     "execution_count": 50,
     "metadata": {},
     "output_type": "execute_result"
    }
   ],
   "source": [
    "tokens[:20]"
   ]
  },
  {
   "cell_type": "code",
   "execution_count": 51,
   "id": "developing-trust",
   "metadata": {},
   "outputs": [
    {
     "data": {
      "text/plain": [
       "[[('\\ufeffCHAPTER', None),\n",
       "  ('I', None),\n",
       "  ('In', None),\n",
       "  ('Chancery', None),\n",
       "  ('London', None)],\n",
       " [('I', None),\n",
       "  ('In', None),\n",
       "  ('Chancery', None),\n",
       "  ('London', None),\n",
       "  ('Michaelmas', None)],\n",
       " [('In', None),\n",
       "  ('Chancery', None),\n",
       "  ('London', None),\n",
       "  ('Michaelmas', None),\n",
       "  ('term', None)],\n",
       " [('Chancery', None),\n",
       "  ('London', None),\n",
       "  ('Michaelmas', None),\n",
       "  ('term', None),\n",
       "  ('lately', None)],\n",
       " [('London', None),\n",
       "  ('Michaelmas', None),\n",
       "  ('term', None),\n",
       "  ('lately', None),\n",
       "  ('over', None)]]"
      ]
     },
     "execution_count": 51,
     "metadata": {},
     "output_type": "execute_result"
    }
   ],
   "source": [
    "predict_matrix = create_windowed_dataset(tokens,sequence_length, mode='predict')\n",
    "predict_matrix[:5]"
   ]
  },
  {
   "cell_type": "code",
   "execution_count": 52,
   "id": "initial-sailing",
   "metadata": {},
   "outputs": [],
   "source": [
    "transformed_matrix = build_features(predict_matrix, mode='predict')"
   ]
  },
  {
   "cell_type": "code",
   "execution_count": 53,
   "id": "scenic-blocking",
   "metadata": {},
   "outputs": [
    {
     "data": {
      "text/plain": [
       "[[34, 13, 12291, 24721, 12291, 24721, 24721, 17702, 42990, 2909, 17232],\n",
       " [29, 34, 2909, 17179, 42990, 12291, 12291, 24721, 17232, 18048, 17702],\n",
       " [12, 29, 18048, 11727, 17232, 42990, 2909, 12291, 17702, 8208, 11146],\n",
       " [12, 12, 8208, 21251, 17702, 17232, 18048, 42990, 11146, 42175, 39714],\n",
       " [13, 12, 42175, 32981, 11146, 17702, 8208, 17232, 39714, 656, 10763]]"
      ]
     },
     "execution_count": 53,
     "metadata": {},
     "output_type": "execute_result"
    }
   ],
   "source": [
    "transformed_matrix[:5]"
   ]
  },
  {
   "cell_type": "code",
   "execution_count": 75,
   "id": "beginning-cookbook",
   "metadata": {},
   "outputs": [],
   "source": [
    "parts_of_speech = [index_to_pos[a] for a in np.argmax(model.predict(np.array(transformed_matrix)), axis=1)]"
   ]
  },
  {
   "cell_type": "code",
   "execution_count": 33,
   "id": "elect-louisiana",
   "metadata": {},
   "outputs": [
    {
     "name": "stdout",
     "output_type": "stream",
     "text": [
      "358608\n"
     ]
    },
    {
     "data": {
      "text/plain": [
       "[('In', 'IN'),\n",
       " ('Chancery', 'NNP'),\n",
       " ('London', 'NNP'),\n",
       " ('Michaelmas', 'NNP'),\n",
       " ('term', 'NN'),\n",
       " ('lately', 'RB'),\n",
       " ('over', 'RB'),\n",
       " ('and', 'CC'),\n",
       " ('the', 'DT'),\n",
       " ('Lord', 'NNP')]"
      ]
     },
     "execution_count": 33,
     "metadata": {},
     "output_type": "execute_result"
    }
   ],
   "source": [
    "# Zip predicted parts of speech together with words taking account of missing leading and ending tags\n",
    "results = []\n",
    "for a in zip(tokens[2:-2], parts_of_speech):\n",
    "    results.append(a)\n",
    "print(len(results))\n",
    "results[:10]"
   ]
  },
  {
   "cell_type": "code",
   "execution_count": 34,
   "id": "alleged-curve",
   "metadata": {},
   "outputs": [],
   "source": [
    "pd.DataFrame(results, columns = ['word', 'pos']).to_csv('data/pos_tagged_bleak_house_FULL.csv')"
   ]
  },
  {
   "cell_type": "code",
   "execution_count": 2,
   "id": "postal-environment",
   "metadata": {},
   "outputs": [],
   "source": [
    "import requests\n",
    "import json"
   ]
  },
  {
   "cell_type": "code",
   "execution_count": 66,
   "id": "legitimate-trace",
   "metadata": {},
   "outputs": [],
   "source": [
    "r = requests.post(url='http://localhost:8501/v1/models/pos_checkpoint:predict', \n",
    "              data=json.dumps({\"instances\": transformed_matrix}))\n",
    "preds_from_serving = r.json()['predictions']"
   ]
  },
  {
   "cell_type": "code",
   "execution_count": 80,
   "id": "coral-montgomery",
   "metadata": {},
   "outputs": [
    {
     "data": {
      "text/plain": [
       "['VBD', 'UH', 'VBD', 'CC', 'MD', 'VBD', 'MD', 'MD', 'MD', 'VBD']"
      ]
     },
     "execution_count": 80,
     "metadata": {},
     "output_type": "execute_result"
    }
   ],
   "source": [
    "parts_of_speech_from_serving = [index_to_pos[a] for a in np.argmax(np.array(preds_from_serving), axis=1)]\n",
    "parts_of_speech_from_serving[:10]"
   ]
  },
  {
   "cell_type": "code",
   "execution_count": 79,
   "id": "supreme-worth",
   "metadata": {},
   "outputs": [
    {
     "data": {
      "text/plain": [
       "True"
      ]
     },
     "execution_count": 79,
     "metadata": {},
     "output_type": "execute_result"
    }
   ],
   "source": [
    "parts_of_speech==parts_of_speech_from_serving"
   ]
  }
 ],
 "metadata": {
  "kernelspec": {
   "display_name": "Python 3",
   "language": "python",
   "name": "python3"
  },
  "language_info": {
   "codemirror_mode": {
    "name": "ipython",
    "version": 3
   },
   "file_extension": ".py",
   "mimetype": "text/x-python",
   "name": "python",
   "nbconvert_exporter": "python",
   "pygments_lexer": "ipython3",
   "version": "3.8.7"
  }
 },
 "nbformat": 4,
 "nbformat_minor": 5
}
