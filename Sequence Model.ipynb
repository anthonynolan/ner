{
 "cells": [
  {
   "cell_type": "code",
   "execution_count": 1,
   "id": "related-maximum",
   "metadata": {},
   "outputs": [],
   "source": [
    "import pandas as pd\n",
    "import numpy as np"
   ]
  },
  {
   "cell_type": "code",
   "execution_count": 2,
   "id": "bulgarian-protein",
   "metadata": {},
   "outputs": [],
   "source": [
    "train = pd.read_csv('data/WSJ_02-21.pos', sep='\\t', header=0, names=['word', 'pos'])\n",
    "test = pd.read_csv('data/WSJ_24.pos', sep='\\t', header=0, names=['word', 'pos'])"
   ]
  },
  {
   "cell_type": "code",
   "execution_count": 3,
   "id": "deluxe-broad",
   "metadata": {},
   "outputs": [
    {
     "data": {
      "text/html": [
       "<div>\n",
       "<style scoped>\n",
       "    .dataframe tbody tr th:only-of-type {\n",
       "        vertical-align: middle;\n",
       "    }\n",
       "\n",
       "    .dataframe tbody tr th {\n",
       "        vertical-align: top;\n",
       "    }\n",
       "\n",
       "    .dataframe thead th {\n",
       "        text-align: right;\n",
       "    }\n",
       "</style>\n",
       "<table border=\"1\" class=\"dataframe\">\n",
       "  <thead>\n",
       "    <tr style=\"text-align: right;\">\n",
       "      <th></th>\n",
       "      <th>word</th>\n",
       "      <th>pos</th>\n",
       "    </tr>\n",
       "  </thead>\n",
       "  <tbody>\n",
       "    <tr>\n",
       "      <th>0</th>\n",
       "      <td>an</td>\n",
       "      <td>DT</td>\n",
       "    </tr>\n",
       "    <tr>\n",
       "      <th>1</th>\n",
       "      <td>Oct.</td>\n",
       "      <td>NNP</td>\n",
       "    </tr>\n",
       "    <tr>\n",
       "      <th>2</th>\n",
       "      <td>19</td>\n",
       "      <td>CD</td>\n",
       "    </tr>\n",
       "    <tr>\n",
       "      <th>3</th>\n",
       "      <td>review</td>\n",
       "      <td>NN</td>\n",
       "    </tr>\n",
       "    <tr>\n",
       "      <th>4</th>\n",
       "      <td>of</td>\n",
       "      <td>IN</td>\n",
       "    </tr>\n",
       "  </tbody>\n",
       "</table>\n",
       "</div>"
      ],
      "text/plain": [
       "     word  pos\n",
       "0      an   DT\n",
       "1    Oct.  NNP\n",
       "2      19   CD\n",
       "3  review   NN\n",
       "4      of   IN"
      ]
     },
     "execution_count": 3,
     "metadata": {},
     "output_type": "execute_result"
    }
   ],
   "source": [
    "train.head()"
   ]
  },
  {
   "cell_type": "code",
   "execution_count": 4,
   "id": "manufactured-compression",
   "metadata": {},
   "outputs": [],
   "source": [
    "vocab = list(set(train.itertuples(index=False, name=None)))\n",
    "index_to_pair = {k:v for k, v in enumerate(vocab)}\n",
    "pair_to_index = {v:k for k, v in index_to_pair.items()}"
   ]
  },
  {
   "cell_type": "code",
   "execution_count": 5,
   "id": "demonstrated-seattle",
   "metadata": {},
   "outputs": [
    {
     "data": {
      "text/plain": [
       "[('an', 'DT'),\n",
       " ('Oct.', 'NNP'),\n",
       " ('19', 'CD'),\n",
       " ('review', 'NN'),\n",
       " ('of', 'IN'),\n",
       " ('``', '``'),\n",
       " ('The', 'DT'),\n",
       " ('Misanthrope', 'NN'),\n",
       " (\"''\", \"''\"),\n",
       " ('at', 'IN')]"
      ]
     },
     "execution_count": 5,
     "metadata": {},
     "output_type": "execute_result"
    }
   ],
   "source": [
    "sequence_length = 20\n",
    "input_data = []\n",
    "for tup in train.itertuples(index=False, name=None):\n",
    "    input_data.append(tup)\n",
    "input_data[:10]"
   ]
  },
  {
   "cell_type": "code",
   "execution_count": 6,
   "id": "according-fountain",
   "metadata": {},
   "outputs": [
    {
     "data": {
      "text/plain": [
       "('toured', 'VBD')"
      ]
     },
     "execution_count": 6,
     "metadata": {},
     "output_type": "execute_result"
    }
   ],
   "source": [
    "index_to_pair[23]"
   ]
  },
  {
   "cell_type": "code",
   "execution_count": 7,
   "id": "foster-string",
   "metadata": {},
   "outputs": [
    {
     "data": {
      "text/plain": [
       "51659"
      ]
     },
     "execution_count": 7,
     "metadata": {},
     "output_type": "execute_result"
    }
   ],
   "source": [
    "len(pair_to_index)"
   ]
  },
  {
   "cell_type": "code",
   "execution_count": 8,
   "id": "furnished-coordinator",
   "metadata": {},
   "outputs": [
    {
     "data": {
      "text/plain": [
       "39760"
      ]
     },
     "execution_count": 8,
     "metadata": {},
     "output_type": "execute_result"
    }
   ],
   "source": [
    "pair_to_index[('cripple-maker', 'NN')]"
   ]
  },
  {
   "cell_type": "code",
   "execution_count": 9,
   "id": "suitable-walker",
   "metadata": {},
   "outputs": [
    {
     "data": {
      "text/plain": [
       "('plaintively', 'RB')"
      ]
     },
     "execution_count": 9,
     "metadata": {},
     "output_type": "execute_result"
    }
   ],
   "source": [
    "index_to_pair[0]"
   ]
  },
  {
   "cell_type": "code",
   "execution_count": 10,
   "id": "departmental-registration",
   "metadata": {},
   "outputs": [],
   "source": [
    "index_to_pos = {k:v for k, v in enumerate(list(set(train['pos'])))}\n",
    "pos_to_index = {v:k for k, v in index_to_pos.items()}"
   ]
  },
  {
   "cell_type": "code",
   "execution_count": 11,
   "id": "arranged-playback",
   "metadata": {},
   "outputs": [],
   "source": [
    "index_to_word = {k:v for k, v in enumerate(list(set(train['word'])))}\n",
    "word_to_index = {v:k for k, v in index_to_word.items()}"
   ]
  },
  {
   "cell_type": "code",
   "execution_count": 13,
   "id": "african-dispatch",
   "metadata": {},
   "outputs": [],
   "source": [
    "matrix = []\n",
    "for index in range(len(input_data)):\n",
    "    if index+sequence_length>len(input_data):\n",
    "        break\n",
    "    matrix.append(input_data[index:index+sequence_length])\n",
    "    index+=sequence_length"
   ]
  },
  {
   "cell_type": "code",
   "execution_count": 14,
   "id": "broken-nursing",
   "metadata": {},
   "outputs": [],
   "source": [
    "transformed_matrix = []\n",
    "for row in matrix:\n",
    "    input_data = row[:-1]\n",
    "    target = row[-1]\n",
    "    transformed_matrix.append([pair_to_index[a] for a in input_data]+[word_to_index[target[0]]]+[pos_to_index[target[1]]])"
   ]
  },
  {
   "cell_type": "code",
   "execution_count": 15,
   "id": "established-dining",
   "metadata": {},
   "outputs": [],
   "source": [
    "transformed_input_data = np.array(transformed_matrix)"
   ]
  },
  {
   "cell_type": "code",
   "execution_count": 18,
   "id": "radical-skirt",
   "metadata": {},
   "outputs": [
    {
     "data": {
      "text/plain": [
       "array([48512, 12638, 30363, 48028, 24253,   586, 49429, 32326, 31781,\n",
       "       34222, 15361, 25093, 20621, 43724,  8782,   586,  3361, 30825,\n",
       "       14075,  9429,    42])"
      ]
     },
     "execution_count": 18,
     "metadata": {},
     "output_type": "execute_result"
    }
   ],
   "source": [
    "transformed_input_data[0]"
   ]
  },
  {
   "cell_type": "code",
   "execution_count": 19,
   "id": "environmental-brick",
   "metadata": {},
   "outputs": [],
   "source": [
    "train_proportion = .8\n",
    "cutoff_index = int(len(transformed_input_data) * train_proportion)\n",
    "eval_sequences = transformed_input_data[cutoff_index:]\n",
    "train_sequences = transformed_input_data[:cutoff_index]"
   ]
  },
  {
   "cell_type": "code",
   "execution_count": 20,
   "id": "swiss-transmission",
   "metadata": {},
   "outputs": [],
   "source": [
    "import tensorflow as tf\n",
    "from tensorflow import keras\n",
    "from tensorflow.keras import layers\n",
    "\n",
    "# 2 separate vocab sizes provided here. Targets are POS tags, input are tuples of word+tag\n",
    "def GRULM(pair_vocab_size, pos_vocab_size, d_model=512, n_layers=2, mode='train'):\n",
    "    model = keras.Sequential()\n",
    "\n",
    "    model.add(layers.Embedding(input_dim=pair_vocab_size, output_dim=d_model))\n",
    "\n",
    "    model.add(layers.LSTM(d_model))\n",
    "\n",
    "    model.add(layers.Dense(pos_vocab_size))\n",
    "    model.add(layers.Softmax())\n",
    "\n",
    "    return model"
   ]
  },
  {
   "cell_type": "code",
   "execution_count": 45,
   "id": "burning-booth",
   "metadata": {},
   "outputs": [],
   "source": [
    "X = train_sequences[:, :-1]\n",
    "y = keras.utils.to_categorical(train_sequences[:, -1].reshape(-1,1))\n",
    "\n",
    "X_val = eval_sequences[:, :-1]\n",
    "y_val = keras.utils.to_categorical(eval_sequences[:, -1].reshape(-1,1))"
   ]
  },
  {
   "cell_type": "code",
   "execution_count": 48,
   "id": "earlier-bosnia",
   "metadata": {},
   "outputs": [
    {
     "data": {
      "text/plain": [
       "190002"
      ]
     },
     "execution_count": 48,
     "metadata": {},
     "output_type": "execute_result"
    }
   ],
   "source": [
    "len(y_val)"
   ]
  },
  {
   "cell_type": "code",
   "execution_count": 64,
   "id": "artistic-repository",
   "metadata": {},
   "outputs": [],
   "source": [
    "model = GRULM(len(pair_to_index), len(pos_to_index))\n",
    "model.compile(optimizer=tf.optimizers.Adam(), loss=tf.losses.CategoricalCrossentropy(), metrics=[tf.metrics.CategoricalAccuracy()])\n",
    "# history = model.fit(X, y, validation_data=(X_val, y_val), batch_size=64, epochs=1)"
   ]
  },
  {
   "cell_type": "code",
   "execution_count": 54,
   "id": "objective-vision",
   "metadata": {},
   "outputs": [
    {
     "data": {
      "text/plain": [
       "<function matplotlib.pyplot.show(close=None, block=None)>"
      ]
     },
     "execution_count": 54,
     "metadata": {},
     "output_type": "execute_result"
    },
    {
     "data": {
      "image/png": "[encoded data removed]",
      "text/plain": [
       "<Figure size 432x288 with 1 Axes>"
      ]
     },
     "metadata": {
      "needs_background": "light"
     },
     "output_type": "display_data"
    }
   ],
   "source": [
    "import matplotlib.pyplot as plt\n",
    "plt.plot(history.history['loss'], label='loss')\n",
    "plt.plot(history.history['val_categorical_accuracy'], label='val_categorical_accuracy')\n",
    "plt.legend()\n",
    "plt.show"
   ]
  },
  {
   "cell_type": "code",
   "execution_count": 66,
   "id": "inappropriate-solid",
   "metadata": {},
   "outputs": [],
   "source": [
    "# model.predict(X[0])"
   ]
  },
  {
   "cell_type": "code",
   "execution_count": 65,
   "id": "prompt-argentina",
   "metadata": {},
   "outputs": [],
   "source": [
    "#model.save('data/model')"
   ]
  },
  {
   "cell_type": "code",
   "execution_count": 60,
   "id": "talented-smile",
   "metadata": {},
   "outputs": [],
   "source": [
    "results = []\n",
    "for a in range(100):\n",
    "    output = model.predict(X[a])\n",
    "    results.append((index_to_pos[np.argmax(output[0])]== index_to_pos[transformed_matrix[a+1][-1]]))"
   ]
  },
  {
   "cell_type": "code",
   "execution_count": 61,
   "id": "bizarre-ceramic",
   "metadata": {},
   "outputs": [
    {
     "data": {
      "text/plain": [
       "0.08"
      ]
     },
     "execution_count": 61,
     "metadata": {},
     "output_type": "execute_result"
    }
   ],
   "source": [
    "np.mean(results)"
   ]
  }
 ],
 "metadata": {
  "kernelspec": {
   "display_name": "Python 3",
   "language": "python",
   "name": "python3"
  },
  "language_info": {
   "codemirror_mode": {
    "name": "ipython",
    "version": 3
   },
   "file_extension": ".py",
   "mimetype": "text/x-python",
   "name": "python",
   "nbconvert_exporter": "python",
   "pygments_lexer": "ipython3",
   "version": "3.8.7"
  }
 },
 "nbformat": 4,
 "nbformat_minor": 5
}
