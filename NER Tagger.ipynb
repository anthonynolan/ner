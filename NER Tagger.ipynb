{
 "cells": [
  {
   "cell_type": "code",
   "execution_count": 69,
   "id": "peripheral-collar",
   "metadata": {},
   "outputs": [],
   "source": [
    "import pandas as pd\n",
    "import numpy as np\n",
    "import tensorflow as tf\n",
    "import itertools\n",
    "from tensorflow import keras\n",
    "from tensorflow.keras import layers\n",
    "from sklearn.model_selection import train_test_split\n",
    "import matplotlib.pyplot as plt"
   ]
  },
  {
   "cell_type": "code",
   "execution_count": 70,
   "id": "matched-kenya",
   "metadata": {},
   "outputs": [
    {
     "data": {
      "text/html": [
       "<div>\n",
       "<style scoped>\n",
       "    .dataframe tbody tr th:only-of-type {\n",
       "        vertical-align: middle;\n",
       "    }\n",
       "\n",
       "    .dataframe tbody tr th {\n",
       "        vertical-align: top;\n",
       "    }\n",
       "\n",
       "    .dataframe thead th {\n",
       "        text-align: right;\n",
       "    }\n",
       "</style>\n",
       "<table border=\"1\" class=\"dataframe\">\n",
       "  <thead>\n",
       "    <tr style=\"text-align: right;\">\n",
       "      <th></th>\n",
       "      <th>Sentence #</th>\n",
       "      <th>Word</th>\n",
       "      <th>POS</th>\n",
       "      <th>Tag</th>\n",
       "    </tr>\n",
       "  </thead>\n",
       "  <tbody>\n",
       "    <tr>\n",
       "      <th>0</th>\n",
       "      <td>Sentence: 1</td>\n",
       "      <td>thousands</td>\n",
       "      <td>NNS</td>\n",
       "      <td>O</td>\n",
       "    </tr>\n",
       "    <tr>\n",
       "      <th>1</th>\n",
       "      <td>NaN</td>\n",
       "      <td>of</td>\n",
       "      <td>IN</td>\n",
       "      <td>O</td>\n",
       "    </tr>\n",
       "    <tr>\n",
       "      <th>2</th>\n",
       "      <td>NaN</td>\n",
       "      <td>demonstrators</td>\n",
       "      <td>NNS</td>\n",
       "      <td>O</td>\n",
       "    </tr>\n",
       "    <tr>\n",
       "      <th>3</th>\n",
       "      <td>NaN</td>\n",
       "      <td>have</td>\n",
       "      <td>VBP</td>\n",
       "      <td>O</td>\n",
       "    </tr>\n",
       "    <tr>\n",
       "      <th>4</th>\n",
       "      <td>NaN</td>\n",
       "      <td>marched</td>\n",
       "      <td>VBN</td>\n",
       "      <td>O</td>\n",
       "    </tr>\n",
       "    <tr>\n",
       "      <th>5</th>\n",
       "      <td>NaN</td>\n",
       "      <td>through</td>\n",
       "      <td>IN</td>\n",
       "      <td>O</td>\n",
       "    </tr>\n",
       "    <tr>\n",
       "      <th>6</th>\n",
       "      <td>NaN</td>\n",
       "      <td>london</td>\n",
       "      <td>NNP</td>\n",
       "      <td>B-geo</td>\n",
       "    </tr>\n",
       "    <tr>\n",
       "      <th>7</th>\n",
       "      <td>NaN</td>\n",
       "      <td>to</td>\n",
       "      <td>TO</td>\n",
       "      <td>O</td>\n",
       "    </tr>\n",
       "  </tbody>\n",
       "</table>\n",
       "</div>"
      ],
      "text/plain": [
       "    Sentence #           Word  POS    Tag\n",
       "0  Sentence: 1      thousands  NNS      O\n",
       "1          NaN             of   IN      O\n",
       "2          NaN  demonstrators  NNS      O\n",
       "3          NaN           have  VBP      O\n",
       "4          NaN        marched  VBN      O\n",
       "5          NaN        through   IN      O\n",
       "6          NaN         london  NNP  B-geo\n",
       "7          NaN             to   TO      O"
      ]
     },
     "execution_count": 70,
     "metadata": {},
     "output_type": "execute_result"
    }
   ],
   "source": [
    "train = pd.read_csv('data/ner_dataset.csv')\n",
    "train['Word'] = train['Word'].map(str.lower)\n",
    "train.head(8)"
   ]
  },
  {
   "cell_type": "code",
   "execution_count": 71,
   "id": "classical-promotion",
   "metadata": {},
   "outputs": [],
   "source": [
    "with open('data/penn_trebank.txt', 'tr') as f:\n",
    "    content = f.readlines()\n",
    "\n",
    "tidy = {}\n",
    "for i in range(0, len(content)-1, 2):\n",
    "    tidy[content[i].strip()] = content[i+1].strip()"
   ]
  },
  {
   "cell_type": "code",
   "execution_count": 72,
   "id": "partial-topic",
   "metadata": {},
   "outputs": [
    {
     "name": "stdout",
     "output_type": "stream",
     "text": [
      "tags in training, but not in the original treebank set: {'LRB', ':', '.', ';', '$', '``', ',', 'RRB'}\n"
     ]
    }
   ],
   "source": [
    "tags_for_removal = set(train['POS'].values)- set(tidy.keys())\n",
    "print(f'tags in training, but not in the original treebank set: {tags_for_removal}')"
   ]
  },
  {
   "cell_type": "code",
   "execution_count": 73,
   "id": "intensive-census",
   "metadata": {},
   "outputs": [],
   "source": [
    "train = train[train['POS'].map(lambda x: x not in tags_for_removal)]"
   ]
  },
  {
   "cell_type": "code",
   "execution_count": 74,
   "id": "dramatic-collaboration",
   "metadata": {},
   "outputs": [],
   "source": [
    "UNK = '<UNK>'\n",
    "POS_UNK = '<POS_UNK>'"
   ]
  },
  {
   "cell_type": "code",
   "execution_count": 75,
   "id": "preceding-latin",
   "metadata": {},
   "outputs": [
    {
     "data": {
      "text/plain": [
       "[('thousands', 'NNS', 'O'),\n",
       " ('of', 'IN', 'O'),\n",
       " ('demonstrators', 'NNS', 'O'),\n",
       " ('have', 'VBP', 'O'),\n",
       " ('marched', 'VBN', 'O'),\n",
       " ('through', 'IN', 'O'),\n",
       " ('london', 'NNP', 'B-geo'),\n",
       " ('to', 'TO', 'O'),\n",
       " ('protest', 'VB', 'O'),\n",
       " ('the', 'DT', 'O'),\n",
       " ('war', 'NN', 'O'),\n",
       " ('in', 'IN', 'O'),\n",
       " ('iraq', 'NNP', 'B-geo'),\n",
       " ('and', 'CC', 'O'),\n",
       " ('demand', 'VB', 'O'),\n",
       " ('the', 'DT', 'O'),\n",
       " ('withdrawal', 'NN', 'O'),\n",
       " ('of', 'IN', 'O'),\n",
       " ('british', 'JJ', 'B-gpe'),\n",
       " ('troops', 'NNS', 'O')]"
      ]
     },
     "execution_count": 75,
     "metadata": {},
     "output_type": "execute_result"
    }
   ],
   "source": [
    "# Decide on the features to determine the window size for training\n",
    "input_data = []\n",
    "for tup in train[['Word', 'POS', 'Tag']].itertuples(index = False, name=None):\n",
    "    input_data.append(tup)\n",
    "input_data[:20]"
   ]
  },
  {
   "cell_type": "code",
   "execution_count": 104,
   "id": "center-hacker",
   "metadata": {},
   "outputs": [],
   "source": [
    "sequence_length = 3\n",
    "\n",
    "def create_windowed_dataset(input_dat, sequence_length=3, mode='train'):\n",
    "    matrix = []\n",
    "    for index in range(len(input_dat)):\n",
    "        if index+sequence_length>len(input_dat):\n",
    "            break\n",
    "        if mode=='train':\n",
    "            matrix.append(input_dat[index:index+sequence_length])\n",
    "        else:\n",
    "            matrix.append([(a, None) for a in input_dat[index:index+sequence_length]])\n",
    "        index+=sequence_length\n",
    "    return matrix\n",
    "\n",
    "matrix = create_windowed_dataset(input_data)\n"
   ]
  },
  {
   "cell_type": "code",
   "execution_count": 105,
   "id": "round-wyoming",
   "metadata": {},
   "outputs": [
    {
     "data": {
      "text/plain": [
       "[[('thousands', 'NNS', 'O'), ('of', 'IN', 'O'), ('demonstrators', 'NNS', 'O')],\n",
       " [('of', 'IN', 'O'), ('demonstrators', 'NNS', 'O'), ('have', 'VBP', 'O')],\n",
       " [('demonstrators', 'NNS', 'O'),\n",
       "  ('have', 'VBP', 'O'),\n",
       "  ('marched', 'VBN', 'O')],\n",
       " [('have', 'VBP', 'O'), ('marched', 'VBN', 'O'), ('through', 'IN', 'O')],\n",
       " [('marched', 'VBN', 'O'), ('through', 'IN', 'O'), ('london', 'NNP', 'B-geo')]]"
      ]
     },
     "execution_count": 105,
     "metadata": {},
     "output_type": "execute_result"
    }
   ],
   "source": [
    "matrix[:5]"
   ]
  },
  {
   "cell_type": "code",
   "execution_count": 106,
   "id": "drawn-lithuania",
   "metadata": {},
   "outputs": [],
   "source": [
    "from collections import defaultdict"
   ]
  },
  {
   "cell_type": "code",
   "execution_count": 107,
   "id": "extended-representation",
   "metadata": {},
   "outputs": [
    {
     "name": "stdout",
     "output_type": "stream",
     "text": [
      "31798\n",
      "34751\n",
      "34751 35 17\n"
     ]
    }
   ],
   "source": [
    "suffixes = []\n",
    "for item in set(train['Word']):\n",
    "    suffixes.append(item[-3:])\n",
    "        \n",
    "pos_vocab = set([POS_UNK]) \n",
    "pos_vocab.update(train['POS'])\n",
    "\n",
    "index_to_pos = {k:v for k, v in enumerate(pos_vocab)}\n",
    "pos_to_index = defaultdict(None, {v:k for k, v in index_to_pos.items()})\n",
    "\n",
    "tag_vocab = set(train['Tag'])\n",
    "index_to_tag = {k:v for k, v in enumerate(tag_vocab)}\n",
    "tag_to_index = {v:k for k, v in index_to_tag.items()}\n",
    "\n",
    "word_vocab = set([UNK])\n",
    "word_vocab.update(train['Word'])\n",
    "print(len(word_vocab))\n",
    "\n",
    "word_vocab.update(suffixes)\n",
    "print(len(word_vocab))\n",
    "\n",
    "index_to_word = {k+len(pos_vocab): v for k, v in enumerate(word_vocab)}\n",
    "word_to_index = defaultdict(None, {v:k for k, v in index_to_word.items()})\n",
    "\n",
    "print(len(word_vocab), len(pos_vocab), len(tag_vocab))"
   ]
  },
  {
   "cell_type": "code",
   "execution_count": 108,
   "id": "coastal-alfred",
   "metadata": {},
   "outputs": [
    {
     "data": {
      "text/plain": [
       "defaultdict(None,\n",
       "            {'PRP$': 0,\n",
       "             'WRB': 1,\n",
       "             'VBG': 2,\n",
       "             'EX': 3,\n",
       "             'NNPS': 4,\n",
       "             'UH': 5,\n",
       "             'PDT': 6,\n",
       "             'WP$': 7,\n",
       "             'VBP': 8,\n",
       "             'RBR': 9,\n",
       "             'NNP': 10,\n",
       "             'NN': 11,\n",
       "             'VB': 12,\n",
       "             'JJ': 13,\n",
       "             'CD': 14,\n",
       "             'JJR': 15,\n",
       "             'MD': 16,\n",
       "             'RP': 17,\n",
       "             'VBD': 18,\n",
       "             'CC': 19,\n",
       "             'PRP': 20,\n",
       "             'VBZ': 21,\n",
       "             'IN': 22,\n",
       "             'NNS': 23,\n",
       "             'POS': 24,\n",
       "             'FW': 25,\n",
       "             '<POS_UNK>': 26,\n",
       "             'WP': 27,\n",
       "             'JJS': 28,\n",
       "             'TO': 29,\n",
       "             'DT': 30,\n",
       "             'WDT': 31,\n",
       "             'VBN': 32,\n",
       "             'RBS': 33,\n",
       "             'RB': 34})"
      ]
     },
     "execution_count": 108,
     "metadata": {},
     "output_type": "execute_result"
    }
   ],
   "source": [
    "pos_to_index"
   ]
  },
  {
   "cell_type": "code",
   "execution_count": 109,
   "id": "medium-clause",
   "metadata": {},
   "outputs": [
    {
     "data": {
      "text/plain": [
       "35"
      ]
     },
     "execution_count": 109,
     "metadata": {},
     "output_type": "execute_result"
    }
   ],
   "source": [
    "len(sorted(list(pos_vocab)))"
   ]
  },
  {
   "cell_type": "code",
   "execution_count": 110,
   "id": "public-grammar",
   "metadata": {},
   "outputs": [
    {
     "data": {
      "text/plain": [
       "[19159, 19159, 0, 0, 0, 22, 11787, 0, 0, 23, 30841, 0, 0, 23, 5]"
      ]
     },
     "execution_count": 110,
     "metadata": {},
     "output_type": "execute_result"
    }
   ],
   "source": [
    "def build_features(row, mode='train'):\n",
    "    features = []\n",
    "    \n",
    "    features.append(word_to_index.get(row[1][0].lower(), word_to_index[UNK]))\n",
    "    features.append(word_to_index.get(row[1][0][-3:], word_to_index[UNK]))\n",
    "#    features.append(row[1][0][-2:])\n",
    "    features.append(int(row[1][0].istitle()))\n",
    "    features.append(int(row[1][0].isupper()))    \n",
    "    features.append(int(row[1][0].isdigit()))    \n",
    "    features.append(pos_to_index.get(row[1][1], pos_to_index[POS_UNK]))\n",
    "#    features.append(row[1][1][:2])    \n",
    "    \n",
    "    \n",
    "    features.append(word_to_index.get(row[0][0].lower(), word_to_index[UNK]))\n",
    "    features.append(int(row[0][0].istitle()))\n",
    "    features.append(int(row[0][0].isupper()))   \n",
    "    features.append(pos_to_index.get(row[0][1], pos_to_index[POS_UNK]))\n",
    "#    features.append(row[0][1][:2])    \n",
    "\n",
    "    features.append(word_to_index.get(row[2][0].lower(), word_to_index[UNK]))\n",
    "    features.append(int(row[2][0].istitle()))\n",
    "    features.append(int(row[2][0].isupper()))\n",
    "    features.append(pos_to_index.get(row[2][1], pos_to_index[POS_UNK]))\n",
    "#    features.append(row[2][1][:2])    \n",
    "\n",
    "    if mode=='train':\n",
    "        features.append(tag_to_index[row[1][2]])\n",
    "        \n",
    "    return features\n",
    "    \n",
    "build_features(matrix[0])"
   ]
  },
  {
   "cell_type": "code",
   "execution_count": 111,
   "id": "stone-mount",
   "metadata": {},
   "outputs": [],
   "source": [
    "transformed_matrix = []\n",
    "\n",
    "for row in matrix:\n",
    "    features = build_features(row)    \n",
    "    transformed_matrix.append(features)  "
   ]
  },
  {
   "cell_type": "code",
   "execution_count": 112,
   "id": "beginning-straight",
   "metadata": {},
   "outputs": [
    {
     "data": {
      "text/plain": [
       "15"
      ]
     },
     "execution_count": 112,
     "metadata": {},
     "output_type": "execute_result"
    }
   ],
   "source": [
    "len(transformed_matrix[0])"
   ]
  },
  {
   "cell_type": "code",
   "execution_count": 113,
   "id": "valid-satisfaction",
   "metadata": {},
   "outputs": [],
   "source": [
    "def get_model(vocab_size, d_model):\n",
    "\n",
    "    model = keras.Sequential()\n",
    "    model.add(layers.Embedding(input_dim=vocab_size, output_dim=d_model, input_length=14))\n",
    "    model.add(layers.Flatten())\n",
    "    model.add(layers.Dense(100, activation='relu'))\n",
    "    model.add(layers.Dropout(.1))\n",
    "    model.add(layers.Dense(len(tag_vocab), activation='sigmoid'))\n",
    "\n",
    "    return model"
   ]
  },
  {
   "cell_type": "code",
   "execution_count": 114,
   "id": "wired-miniature",
   "metadata": {},
   "outputs": [
    {
     "name": "stdout",
     "output_type": "stream",
     "text": [
      "Model: \"sequential_1\"\n",
      "_________________________________________________________________\n",
      "Layer (type)                 Output Shape              Param #   \n",
      "=================================================================\n",
      "embedding_1 (Embedding)      (None, 14, 100)           3480300   \n",
      "_________________________________________________________________\n",
      "flatten_1 (Flatten)          (None, 1400)              0         \n",
      "_________________________________________________________________\n",
      "dense_2 (Dense)              (None, 100)               140100    \n",
      "_________________________________________________________________\n",
      "dropout_1 (Dropout)          (None, 100)               0         \n",
      "_________________________________________________________________\n",
      "dense_3 (Dense)              (None, 17)                1717      \n",
      "=================================================================\n",
      "Total params: 3,622,117\n",
      "Trainable params: 3,622,117\n",
      "Non-trainable params: 0\n",
      "_________________________________________________________________\n"
     ]
    }
   ],
   "source": [
    "model = get_model(len(word_vocab)+len(pos_vocab)+len(tag_vocab), 100)\n",
    "model.summary()"
   ]
  },
  {
   "cell_type": "code",
   "execution_count": 115,
   "id": "liked-choir",
   "metadata": {},
   "outputs": [],
   "source": [
    "model.compile(optimizer=keras.optimizers.Adam(), loss=keras.losses.CategoricalCrossentropy()\n",
    "              , metrics=[keras.metrics.CategoricalAccuracy()])"
   ]
  },
  {
   "cell_type": "code",
   "execution_count": 116,
   "id": "neural-federation",
   "metadata": {},
   "outputs": [
    {
     "data": {
      "text/plain": [
       "((960742, 14), (960742, 17))"
      ]
     },
     "execution_count": 116,
     "metadata": {},
     "output_type": "execute_result"
    }
   ],
   "source": [
    "X, y = np.array(transformed_matrix)[:, :-1], keras.utils.to_categorical(np.array(transformed_matrix)[:, -1], num_classes=len(tag_vocab))\n",
    "X.shape, y.shape"
   ]
  },
  {
   "cell_type": "code",
   "execution_count": 117,
   "id": "prescription-wednesday",
   "metadata": {},
   "outputs": [],
   "source": [
    "max_train_size = 10000\n",
    "X_train = X[:max_train_size]\n",
    "X_test = X[max_train_size:max_train_size+int(.1*max_train_size)]\n",
    "\n",
    "y_train = y[:max_train_size]\n",
    "y_test = y[max_train_size:max_train_size+int(.1*max_train_size)]"
   ]
  },
  {
   "cell_type": "code",
   "execution_count": 118,
   "id": "changed-weather",
   "metadata": {},
   "outputs": [],
   "source": [
    "CHECKPOINT_DIR = 'data/model/ner_checkpoint'"
   ]
  },
  {
   "cell_type": "code",
   "execution_count": 119,
   "id": "municipal-flashing",
   "metadata": {},
   "outputs": [
    {
     "name": "stdout",
     "output_type": "stream",
     "text": [
      "Epoch 1/10\n",
      "313/313 [==============================] - 9s 28ms/step - loss: 0.8153 - categorical_accuracy: 0.8467 - val_loss: 0.1822 - val_categorical_accuracy: 0.9430\n",
      "INFO:tensorflow:Assets written to: data/model/ner_checkpoint/assets\n",
      "Epoch 2/10\n",
      "313/313 [==============================] - 9s 27ms/step - loss: 0.1851 - categorical_accuracy: 0.9556 - val_loss: 0.1219 - val_categorical_accuracy: 0.9630\n",
      "INFO:tensorflow:Assets written to: data/model/ner_checkpoint/assets\n",
      "Epoch 3/10\n",
      "313/313 [==============================] - 9s 28ms/step - loss: 0.0822 - categorical_accuracy: 0.9784 - val_loss: 0.1193 - val_categorical_accuracy: 0.9690\n",
      "INFO:tensorflow:Assets written to: data/model/ner_checkpoint/assets\n",
      "Epoch 4/10\n",
      "313/313 [==============================] - 9s 28ms/step - loss: 0.0409 - categorical_accuracy: 0.9884 - val_loss: 0.1371 - val_categorical_accuracy: 0.9650\n",
      "Epoch 5/10\n",
      "313/313 [==============================] - 9s 27ms/step - loss: 0.0214 - categorical_accuracy: 0.9943 - val_loss: 0.1351 - val_categorical_accuracy: 0.9660\n"
     ]
    },
    {
     "data": {
      "image/png": "[encoded data removed]",
      "text/plain": [
       "<Figure size 432x288 with 1 Axes>"
      ]
     },
     "metadata": {
      "needs_background": "light"
     },
     "output_type": "display_data"
    }
   ],
   "source": [
    "history = model.fit(X_train, \n",
    "                    y_train, \n",
    "                    validation_data=(X_test, y_test), \n",
    "                    batch_size=32, \n",
    "                    epochs=10, \n",
    "                    callbacks=[tf.keras.callbacks.EarlyStopping(monitor='val_categorical_accuracy', patience=2), \n",
    "                               tf.keras.callbacks.ModelCheckpoint(CHECKPOINT_DIR, monitor='val_categorical_accuracy',\n",
    "                                                                save_best_only=True)])\n",
    "\n",
    "for key in ['categorical_accuracy', 'val_categorical_accuracy']:\n",
    "    plt.plot(history.history[key], label=key)\n",
    "plt.legend()\n",
    "plt.show()"
   ]
  },
  {
   "cell_type": "code",
   "execution_count": 16,
   "id": "suitable-promotion",
   "metadata": {},
   "outputs": [],
   "source": [
    "#model.save('data/ner_model/')\n",
    "#model = keras.models.load_model('data/model/ner_checkpoint')"
   ]
  },
  {
   "cell_type": "code",
   "execution_count": 120,
   "id": "necessary-fabric",
   "metadata": {},
   "outputs": [
    {
     "name": "stdout",
     "output_type": "stream",
     "text": [
      "1.0\n",
      "0.9702970297029703\n",
      "0.9701492537313433\n",
      "0.973421926910299\n",
      "0.9750623441396509\n",
      "0.9660678642714571\n",
      "0.9650582362728786\n",
      "0.9671897289586305\n",
      "0.968789013732834\n",
      "0.9644839067702553\n"
     ]
    }
   ],
   "source": [
    "results = []\n",
    "for a in range(1000):\n",
    "    results.append(np.argmax(model.predict(X_test[a].reshape(1,-1)))==np.argmax(y_test[a]))\n",
    "    if not a%100:\n",
    "        print(np.mean(results))"
   ]
  },
  {
   "cell_type": "code",
   "execution_count": 121,
   "id": "latter-village",
   "metadata": {},
   "outputs": [],
   "source": [
    "it = train[['Word', 'POS', 'Tag']].itertuples(index=False, name=None)\n",
    "row = []\n",
    "for a in range (5):\n",
    "    row.append(next(it))"
   ]
  },
  {
   "cell_type": "code",
   "execution_count": 122,
   "id": "subjective-harris",
   "metadata": {},
   "outputs": [
    {
     "data": {
      "text/plain": [
       "[('thousands', 'NNS', 'O'),\n",
       " ('of', 'IN', 'O'),\n",
       " ('demonstrators', 'NNS', 'O'),\n",
       " ('have', 'VBP', 'O'),\n",
       " ('marched', 'VBN', 'O')]"
      ]
     },
     "execution_count": 122,
     "metadata": {},
     "output_type": "execute_result"
    }
   ],
   "source": [
    "row"
   ]
  },
  {
   "cell_type": "code",
   "execution_count": 123,
   "id": "fuzzy-corps",
   "metadata": {},
   "outputs": [
    {
     "data": {
      "text/plain": [
       "[19159, 19159, 0, 0, 0, 22, 11787, 0, 0, 23, 30841, 0, 0, 23]"
      ]
     },
     "execution_count": 123,
     "metadata": {},
     "output_type": "execute_result"
    }
   ],
   "source": [
    "features = build_features(row, mode='predict')\n",
    "features"
   ]
  },
  {
   "cell_type": "code",
   "execution_count": 124,
   "id": "saving-charles",
   "metadata": {},
   "outputs": [
    {
     "data": {
      "text/plain": [
       "5"
      ]
     },
     "execution_count": 124,
     "metadata": {},
     "output_type": "execute_result"
    }
   ],
   "source": [
    "prediction = model.predict(np.array(features).reshape(1,-1))\n",
    "np.argmax(prediction)"
   ]
  },
  {
   "cell_type": "code",
   "execution_count": 125,
   "id": "medical-structure",
   "metadata": {},
   "outputs": [
    {
     "data": {
      "text/plain": [
       "'I-gpe'"
      ]
     },
     "execution_count": 125,
     "metadata": {},
     "output_type": "execute_result"
    }
   ],
   "source": [
    "index_to_tag[10]"
   ]
  },
  {
   "cell_type": "code",
   "execution_count": 2,
   "id": "embedded-pavilion",
   "metadata": {},
   "outputs": [],
   "source": [
    "#model = keras.models.load_model('data/ner_model/')"
   ]
  },
  {
   "cell_type": "code",
   "execution_count": 126,
   "id": "annoying-stability",
   "metadata": {},
   "outputs": [],
   "source": [
    "bleak_pos = pd.read_csv('data/pos_tagged_bleak_house_FULL.csv')"
   ]
  },
  {
   "cell_type": "code",
   "execution_count": 127,
   "id": "enabling-corruption",
   "metadata": {},
   "outputs": [],
   "source": [
    "bleak_pos = bleak_pos.drop(bleak_pos.columns[0], axis='columns')"
   ]
  },
  {
   "cell_type": "code",
   "execution_count": 128,
   "id": "occasional-beijing",
   "metadata": {},
   "outputs": [],
   "source": [
    "matrix = create_windowed_dataset(list(bleak_pos.itertuples(index=False, name=None)))"
   ]
  },
  {
   "cell_type": "code",
   "execution_count": 129,
   "id": "neutral-packet",
   "metadata": {},
   "outputs": [
    {
     "data": {
      "text/plain": [
       "[[('In', 'IN'), ('Chancery', 'NNP'), ('London', 'NNP')],\n",
       " [('Chancery', 'NNP'), ('London', 'NNP'), ('Michaelmas', 'NNP')],\n",
       " [('London', 'NNP'), ('Michaelmas', 'NNP'), ('term', 'NN')],\n",
       " [('Michaelmas', 'NNP'), ('term', 'NN'), ('lately', 'RB')],\n",
       " [('term', 'NN'), ('lately', 'RB'), ('over', 'IN')]]"
      ]
     },
     "execution_count": 129,
     "metadata": {},
     "output_type": "execute_result"
    }
   ],
   "source": [
    "matrix[:5]"
   ]
  },
  {
   "cell_type": "code",
   "execution_count": 130,
   "id": "fundamental-hanging",
   "metadata": {},
   "outputs": [],
   "source": [
    "feature_matrix = [build_features(row, mode='predict') for row in matrix]\n",
    "# for row in matrix:\n",
    "# #     print(row)\n",
    "#     features = build_features(row, mode='predict')\n",
    "#     print(index_to_tag[np.argmax(model.predict(np.array(features).reshape(1,-1)))])"
   ]
  },
  {
   "cell_type": "code",
   "execution_count": 131,
   "id": "limiting-messaging",
   "metadata": {},
   "outputs": [
    {
     "data": {
      "text/plain": [
       "array([[18916, 30837,     1, ...,     1,     0,    10],\n",
       "       [15765, 23632,     1, ...,     1,     0,    10],\n",
       "       [18916,  7163,     1, ...,     0,     0,    11],\n",
       "       ...,\n",
       "       [20600,   378,     0, ...,     0,     0,    11],\n",
       "       [20031,  9714,     0, ...,     0,     0,    22],\n",
       "       [18514, 18514,     0, ...,     0,     0,    20]])"
      ]
     },
     "execution_count": 131,
     "metadata": {},
     "output_type": "execute_result"
    }
   ],
   "source": [
    "arr = np.array(feature_matrix)\n",
    "arr"
   ]
  },
  {
   "cell_type": "code",
   "execution_count": 132,
   "id": "explicit-agency",
   "metadata": {},
   "outputs": [],
   "source": [
    "pred_numbers = model.predict(arr)"
   ]
  },
  {
   "cell_type": "code",
   "execution_count": 133,
   "id": "approved-vanilla",
   "metadata": {},
   "outputs": [],
   "source": [
    "predictions = np.argmax(pred_numbers, axis=1)"
   ]
  },
  {
   "cell_type": "code",
   "execution_count": 189,
   "id": "antique-liberty",
   "metadata": {},
   "outputs": [],
   "source": [
    "ner_tagged_book = [(index_to_tag[a], b[1]) for a, b in zip(predictions, matrix)]"
   ]
  },
  {
   "cell_type": "code",
   "execution_count": 190,
   "id": "indie-doctrine",
   "metadata": {},
   "outputs": [
    {
     "data": {
      "text/plain": [
       "358606"
      ]
     },
     "execution_count": 190,
     "metadata": {},
     "output_type": "execute_result"
    }
   ],
   "source": [
    "len(predictions)"
   ]
  },
  {
   "cell_type": "code",
   "execution_count": 191,
   "id": "vietnamese-airport",
   "metadata": {},
   "outputs": [
    {
     "data": {
      "text/plain": [
       "358606"
      ]
     },
     "execution_count": 191,
     "metadata": {},
     "output_type": "execute_result"
    }
   ],
   "source": [
    "len(matrix)"
   ]
  },
  {
   "cell_type": "code",
   "execution_count": 192,
   "id": "important-shock",
   "metadata": {},
   "outputs": [
    {
     "data": {
      "text/plain": [
       "('B-geo', ('Chancery', 'NNP'))"
      ]
     },
     "execution_count": 192,
     "metadata": {},
     "output_type": "execute_result"
    }
   ],
   "source": [
    "ner_tagged_book[0]"
   ]
  },
  {
   "cell_type": "code",
   "execution_count": 193,
   "id": "metropolitan-prerequisite",
   "metadata": {},
   "outputs": [],
   "source": [
    "named_entities = []\n",
    "current_chain = None\n",
    "\n",
    "for i in range(len(ner_tagged_book)):\n",
    "    current_line = ner_tagged_book[i]\n",
    "    if re.match('O', current_line[0]):\n",
    "        continue\n",
    "        \n",
    "    if re.match('B-', current_line[0]):\n",
    "        if current_chain:\n",
    "            named_entities.append((i, current_chain, len(current_chain)))\n",
    "        current_chain = [current_line]\n",
    "    else:\n",
    "        current_chain.append(current_line)"
   ]
  },
  {
   "cell_type": "code",
   "execution_count": 215,
   "id": "nasty-waters",
   "metadata": {},
   "outputs": [
    {
     "data": {
      "text/plain": [
       "[(1, [('B-geo', ('Chancery', 'NNP'))], 1),\n",
       " (8, [('B-geo', ('London', 'NNP')), ('I-geo', ('Michaelmas', 'NNP'))], 2),\n",
       " (12, [('B-org', ('Lord', 'NNP')), ('I-org', ('Chancellor', 'NNP'))], 2),\n",
       " (14, [('B-geo', ('Lincoln', 'NNP'))], 1),\n",
       " (17,\n",
       "  [('B-geo', ('Inn', 'NNP')),\n",
       "   ('I-per', ('Hall', 'NNP')),\n",
       "   ('I-per', ('Implacable', 'NNP'))],\n",
       "  3),\n",
       " (48, [('B-tim', ('November', 'NNP'))], 1),\n",
       " (60, [('B-art', ('Megalosaurus', 'NNP'))], 1),\n",
       " (212,\n",
       "  [('B-geo', ('Holborn', 'NNP')),\n",
       "   ('I-per', ('Hill', 'NNP')),\n",
       "   ('I-per', ('Smoke', 'NNP'))],\n",
       "  3),\n",
       " (217, [('B-org', ('Essex', 'NNP'))], 1),\n",
       " (219, [('B-gpe', ('Kentish', 'JJ'))], 1)]"
      ]
     },
     "execution_count": 215,
     "metadata": {},
     "output_type": "execute_result"
    }
   ],
   "source": [
    "named_entities[:10]"
   ]
  },
  {
   "cell_type": "code",
   "execution_count": 214,
   "id": "subtle-landscape",
   "metadata": {},
   "outputs": [
    {
     "data": {
      "text/plain": [
       "[('Richard', 387),\n",
       " ('Mr. Bucket', 340),\n",
       " ('Mr. Guppy', 302),\n",
       " ('Sir Leicester', 285),\n",
       " ('Mr. Tulkinghorn', 263),\n",
       " ('Mr. George', 224),\n",
       " ('Mr. Jarndyce', 219),\n",
       " ('Ada', 208),\n",
       " ('Mr. Snagsby', 201),\n",
       " ('Charley', 196)]"
      ]
     },
     "execution_count": 214,
     "metadata": {},
     "output_type": "execute_result"
    }
   ],
   "source": [
    "Counter([' '.join([word[1][0] for word in named_entity[1]]) for named_entity in named_entities]).most_common(10)"
   ]
  },
  {
   "cell_type": "code",
   "execution_count": null,
   "id": "infrared-focus",
   "metadata": {},
   "outputs": [],
   "source": []
  }
 ],
 "metadata": {
  "kernelspec": {
   "display_name": "Python 3",
   "language": "python",
   "name": "python3"
  },
  "language_info": {
   "codemirror_mode": {
    "name": "ipython",
    "version": 3
   },
   "file_extension": ".py",
   "mimetype": "text/x-python",
   "name": "python",
   "nbconvert_exporter": "python",
   "pygments_lexer": "ipython3",
   "version": "3.8.7"
  }
 },
 "nbformat": 4,
 "nbformat_minor": 5
}
