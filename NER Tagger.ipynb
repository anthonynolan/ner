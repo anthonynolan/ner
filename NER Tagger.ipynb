{
 "cells": [
  {
   "cell_type": "code",
   "execution_count": 3,
   "id": "peripheral-collar",
   "metadata": {},
   "outputs": [],
   "source": [
    "import pandas as pd\n",
    "import numpy as np\n",
    "import tensorflow as tf\n",
    "import itertools\n",
    "from tensorflow import keras\n",
    "from tensorflow.keras import layers\n",
    "from sklearn.model_selection import train_test_split\n",
    "import matplotlib.pyplot as plt"
   ]
  },
  {
   "cell_type": "code",
   "execution_count": 4,
   "id": "matched-kenya",
   "metadata": {},
   "outputs": [
    {
     "data": {
      "text/html": [
       "<div>\n",
       "<style scoped>\n",
       "    .dataframe tbody tr th:only-of-type {\n",
       "        vertical-align: middle;\n",
       "    }\n",
       "\n",
       "    .dataframe tbody tr th {\n",
       "        vertical-align: top;\n",
       "    }\n",
       "\n",
       "    .dataframe thead th {\n",
       "        text-align: right;\n",
       "    }\n",
       "</style>\n",
       "<table border=\"1\" class=\"dataframe\">\n",
       "  <thead>\n",
       "    <tr style=\"text-align: right;\">\n",
       "      <th></th>\n",
       "      <th>Sentence #</th>\n",
       "      <th>Word</th>\n",
       "      <th>POS</th>\n",
       "      <th>Tag</th>\n",
       "    </tr>\n",
       "  </thead>\n",
       "  <tbody>\n",
       "    <tr>\n",
       "      <th>0</th>\n",
       "      <td>Sentence: 1</td>\n",
       "      <td>thousands</td>\n",
       "      <td>NNS</td>\n",
       "      <td>O</td>\n",
       "    </tr>\n",
       "    <tr>\n",
       "      <th>1</th>\n",
       "      <td>NaN</td>\n",
       "      <td>of</td>\n",
       "      <td>IN</td>\n",
       "      <td>O</td>\n",
       "    </tr>\n",
       "    <tr>\n",
       "      <th>2</th>\n",
       "      <td>NaN</td>\n",
       "      <td>demonstrators</td>\n",
       "      <td>NNS</td>\n",
       "      <td>O</td>\n",
       "    </tr>\n",
       "    <tr>\n",
       "      <th>3</th>\n",
       "      <td>NaN</td>\n",
       "      <td>have</td>\n",
       "      <td>VBP</td>\n",
       "      <td>O</td>\n",
       "    </tr>\n",
       "    <tr>\n",
       "      <th>4</th>\n",
       "      <td>NaN</td>\n",
       "      <td>marched</td>\n",
       "      <td>VBN</td>\n",
       "      <td>O</td>\n",
       "    </tr>\n",
       "  </tbody>\n",
       "</table>\n",
       "</div>"
      ],
      "text/plain": [
       "    Sentence #           Word  POS Tag\n",
       "0  Sentence: 1      thousands  NNS   O\n",
       "1          NaN             of   IN   O\n",
       "2          NaN  demonstrators  NNS   O\n",
       "3          NaN           have  VBP   O\n",
       "4          NaN        marched  VBN   O"
      ]
     },
     "execution_count": 4,
     "metadata": {},
     "output_type": "execute_result"
    }
   ],
   "source": [
    "train = pd.read_csv('data/ner_dataset.csv')\n",
    "train['Word'] = train['Word'].map(str.lower)\n",
    "train.head()"
   ]
  },
  {
   "cell_type": "code",
   "execution_count": 5,
   "id": "classical-promotion",
   "metadata": {},
   "outputs": [],
   "source": [
    "with open('data/penn_trebank.txt', 'tr') as f:\n",
    "    content = f.readlines()\n",
    "\n",
    "tidy = {}\n",
    "for i in range(0, len(content)-1, 2):\n",
    "    tidy[content[i].strip()] = content[i+1].strip()"
   ]
  },
  {
   "cell_type": "code",
   "execution_count": 6,
   "id": "partial-topic",
   "metadata": {},
   "outputs": [
    {
     "name": "stdout",
     "output_type": "stream",
     "text": [
      "tags in training, but not in the original treebank set: {';', '``', '.', 'RRB', '$', ',', 'LRB', ':'}\n"
     ]
    }
   ],
   "source": [
    "tags_for_removal = set(train['POS'].values)- set(tidy.keys())\n",
    "print(f'tags in training, but not in the original treebank set: {tags_for_removal}')"
   ]
  },
  {
   "cell_type": "code",
   "execution_count": 7,
   "id": "digital-highlight",
   "metadata": {},
   "outputs": [],
   "source": [
    "train = train[train['POS'].map(lambda x: x not in tags_for_removal)]"
   ]
  },
  {
   "cell_type": "code",
   "execution_count": 10,
   "id": "preceding-latin",
   "metadata": {},
   "outputs": [
    {
     "data": {
      "text/plain": [
       "[('thousands', 'NNS', 'O'),\n",
       " ('of', 'IN', 'O'),\n",
       " ('demonstrators', 'NNS', 'O'),\n",
       " ('have', 'VBP', 'O'),\n",
       " ('marched', 'VBN', 'O'),\n",
       " ('through', 'IN', 'O'),\n",
       " ('london', 'NNP', 'B-geo'),\n",
       " ('to', 'TO', 'O'),\n",
       " ('protest', 'VB', 'O'),\n",
       " ('the', 'DT', 'O'),\n",
       " ('war', 'NN', 'O'),\n",
       " ('in', 'IN', 'O'),\n",
       " ('iraq', 'NNP', 'B-geo'),\n",
       " ('and', 'CC', 'O'),\n",
       " ('demand', 'VB', 'O'),\n",
       " ('the', 'DT', 'O'),\n",
       " ('withdrawal', 'NN', 'O'),\n",
       " ('of', 'IN', 'O'),\n",
       " ('british', 'JJ', 'B-gpe'),\n",
       " ('troops', 'NNS', 'O')]"
      ]
     },
     "execution_count": 10,
     "metadata": {},
     "output_type": "execute_result"
    }
   ],
   "source": [
    "# Decide on the features to determine the window size for training\n",
    "input_data = []\n",
    "for tup in train[['Word', 'POS', 'Tag']].itertuples(index = False, name=None):\n",
    "    input_data.append(tup)\n",
    "input_data[:20]"
   ]
  },
  {
   "cell_type": "code",
   "execution_count": 11,
   "id": "center-hacker",
   "metadata": {},
   "outputs": [],
   "source": [
    "sequence_length = 3\n",
    "\n",
    "matrix = []\n",
    "for index in range(len(input_data)):\n",
    "    if index+sequence_length>len(input_data):\n",
    "        break\n",
    "    matrix.append(input_data[index:index+sequence_length])\n",
    "    index+=sequence_length"
   ]
  },
  {
   "cell_type": "code",
   "execution_count": 12,
   "id": "round-wyoming",
   "metadata": {},
   "outputs": [
    {
     "data": {
      "text/plain": [
       "[[('thousands', 'NNS', 'O'), ('of', 'IN', 'O'), ('demonstrators', 'NNS', 'O')],\n",
       " [('of', 'IN', 'O'), ('demonstrators', 'NNS', 'O'), ('have', 'VBP', 'O')],\n",
       " [('demonstrators', 'NNS', 'O'),\n",
       "  ('have', 'VBP', 'O'),\n",
       "  ('marched', 'VBN', 'O')],\n",
       " [('have', 'VBP', 'O'), ('marched', 'VBN', 'O'), ('through', 'IN', 'O')],\n",
       " [('marched', 'VBN', 'O'), ('through', 'IN', 'O'), ('london', 'NNP', 'B-geo')]]"
      ]
     },
     "execution_count": 12,
     "metadata": {},
     "output_type": "execute_result"
    }
   ],
   "source": [
    "matrix[:5]"
   ]
  },
  {
   "cell_type": "code",
   "execution_count": 13,
   "id": "extended-representation",
   "metadata": {},
   "outputs": [
    {
     "name": "stdout",
     "output_type": "stream",
     "text": [
      "31797\n",
      "34750\n",
      "34750 34 17\n"
     ]
    }
   ],
   "source": [
    "suffixes = []\n",
    "for item in set(train['Word']):\n",
    "    suffixes.append(item[-3:])\n",
    "        \n",
    "pos_vocab = set(train['POS'])\n",
    "index_to_pos = {k:v for k, v in enumerate(pos_vocab)}\n",
    "pos_to_index = {v:k for k, v in index_to_pos.items()}\n",
    "\n",
    "tag_vocab = set(train['Tag'])\n",
    "index_to_tag = {k:v for k, v in enumerate(tag_vocab)}\n",
    "tag_to_index = {v:k for k, v in index_to_tag.items()}\n",
    "\n",
    "word_vocab = set(train['Word'])\n",
    "print(len(word_vocab))\n",
    "\n",
    "word_vocab.update(suffixes)\n",
    "print(len(word_vocab))\n",
    "\n",
    "index_to_word = {k+len(pos_vocab): v for k, v in enumerate(word_vocab)}\n",
    "word_to_index = {v:k for k, v in index_to_word.items()}\n",
    "\n",
    "print(len(word_vocab), len(pos_vocab), len(tag_vocab))"
   ]
  },
  {
   "cell_type": "code",
   "execution_count": 32,
   "id": "public-grammar",
   "metadata": {},
   "outputs": [
    {
     "data": {
      "text/plain": [
       "[23534, 23534, 0, 0, 0, 18, 11344, 0, 0, 20, 25591, 0, 0, 20, 10]"
      ]
     },
     "execution_count": 32,
     "metadata": {},
     "output_type": "execute_result"
    }
   ],
   "source": [
    "def build_features(row, mode='train'):\n",
    "    features = []\n",
    "    \n",
    "    features.append(word_to_index[row[1][0].lower()])\n",
    "    features.append(word_to_index[row[1][0][-3:]])\n",
    "#    features.append(row[1][0][-2:])\n",
    "    features.append(int(row[1][0].istitle()))\n",
    "    features.append(int(row[1][0].isupper()))    \n",
    "    features.append(int(row[1][0].isdigit()))    \n",
    "    features.append(pos_to_index[row[1][1]])\n",
    "#    features.append(row[1][1][:2])    \n",
    "    \n",
    "    \n",
    "    features.append(word_to_index[row[0][0].lower()])\n",
    "    features.append(int(row[0][0].istitle()))\n",
    "    features.append(int(row[0][0].isupper()))   \n",
    "    features.append(pos_to_index[row[0][1]])\n",
    "#    features.append(row[0][1][:2])    \n",
    "\n",
    "    features.append(word_to_index[row[2][0].lower()])\n",
    "    features.append(int(row[2][0].istitle()))\n",
    "    features.append(int(row[2][0].isupper()))\n",
    "    features.append(pos_to_index[row[2][1]])\n",
    "#    features.append(row[2][1][:2])    \n",
    "\n",
    "    if mode=='train':\n",
    "        features.append(tag_to_index[row[1][2]])\n",
    "        \n",
    "    return features\n",
    "    \n",
    "build_features(matrix[0])"
   ]
  },
  {
   "cell_type": "code",
   "execution_count": 33,
   "id": "stone-mount",
   "metadata": {},
   "outputs": [],
   "source": [
    "transformed_matrix = []\n",
    "\n",
    "for row in matrix:\n",
    "    features = build_features(row)    \n",
    "    transformed_matrix.append(features)  "
   ]
  },
  {
   "cell_type": "code",
   "execution_count": 37,
   "id": "beginning-straight",
   "metadata": {},
   "outputs": [
    {
     "data": {
      "text/plain": [
       "15"
      ]
     },
     "execution_count": 37,
     "metadata": {},
     "output_type": "execute_result"
    }
   ],
   "source": [
    "len(transformed_matrix[0])"
   ]
  },
  {
   "cell_type": "code",
   "execution_count": 18,
   "id": "valid-satisfaction",
   "metadata": {},
   "outputs": [],
   "source": [
    "def get_model(vocab_size, d_model):\n",
    "\n",
    "    model = keras.Sequential()\n",
    "    model.add(layers.Embedding(input_dim=vocab_size, output_dim=d_model, input_length=14))\n",
    "    model.add(layers.Flatten())\n",
    "    model.add(layers.Dense(100, activation='relu'))\n",
    "    model.add(layers.Dropout(.1))\n",
    "    model.add(layers.Dense(len(tag_vocab), activation='sigmoid'))\n",
    "\n",
    "    return model"
   ]
  },
  {
   "cell_type": "code",
   "execution_count": 19,
   "id": "wired-miniature",
   "metadata": {},
   "outputs": [
    {
     "name": "stdout",
     "output_type": "stream",
     "text": [
      "Model: \"sequential\"\n",
      "_________________________________________________________________\n",
      "Layer (type)                 Output Shape              Param #   \n",
      "=================================================================\n",
      "embedding (Embedding)        (None, 14, 100)           3480100   \n",
      "_________________________________________________________________\n",
      "flatten (Flatten)            (None, 1400)              0         \n",
      "_________________________________________________________________\n",
      "dense (Dense)                (None, 100)               140100    \n",
      "_________________________________________________________________\n",
      "dropout (Dropout)            (None, 100)               0         \n",
      "_________________________________________________________________\n",
      "dense_1 (Dense)              (None, 17)                1717      \n",
      "=================================================================\n",
      "Total params: 3,621,917\n",
      "Trainable params: 3,621,917\n",
      "Non-trainable params: 0\n",
      "_________________________________________________________________\n"
     ]
    }
   ],
   "source": [
    "model = get_model(len(word_vocab)+len(pos_vocab)+len(tag_vocab), 100)\n",
    "model.summary()"
   ]
  },
  {
   "cell_type": "code",
   "execution_count": 20,
   "id": "liked-choir",
   "metadata": {},
   "outputs": [],
   "source": [
    "model.compile(optimizer=keras.optimizers.Adam(), loss=keras.losses.CategoricalCrossentropy()\n",
    "              , metrics=[keras.metrics.CategoricalAccuracy()])"
   ]
  },
  {
   "cell_type": "code",
   "execution_count": 21,
   "id": "neural-federation",
   "metadata": {},
   "outputs": [
    {
     "data": {
      "text/plain": [
       "((960742, 14), (960742, 17))"
      ]
     },
     "execution_count": 21,
     "metadata": {},
     "output_type": "execute_result"
    }
   ],
   "source": [
    "X, y = np.array(transformed_matrix)[:, :-1], keras.utils.to_categorical(np.array(transformed_matrix)[:, -1], num_classes=len(tag_vocab))\n",
    "X.shape, y.shape"
   ]
  },
  {
   "cell_type": "code",
   "execution_count": 22,
   "id": "prescription-wednesday",
   "metadata": {},
   "outputs": [],
   "source": [
    "max_train_size = 10000\n",
    "X_train = X[:max_train_size]\n",
    "X_test = X[max_train_size:max_train_size+int(.1*max_train_size)]\n",
    "\n",
    "y_train = y[:max_train_size]\n",
    "y_test = y[max_train_size:max_train_size+int(.1*max_train_size)]"
   ]
  },
  {
   "cell_type": "code",
   "execution_count": 23,
   "id": "municipal-flashing",
   "metadata": {},
   "outputs": [
    {
     "name": "stdout",
     "output_type": "stream",
     "text": [
      "Epoch 1/10\n",
      "313/313 [==============================] - 9s 28ms/step - loss: 0.8628 - categorical_accuracy: 0.8381 - val_loss: 0.2088 - val_categorical_accuracy: 0.9310\n",
      "Epoch 2/10\n",
      "313/313 [==============================] - 8s 27ms/step - loss: 0.1886 - categorical_accuracy: 0.9501 - val_loss: 0.1340 - val_categorical_accuracy: 0.9660\n",
      "Epoch 3/10\n",
      "313/313 [==============================] - 8s 27ms/step - loss: 0.0984 - categorical_accuracy: 0.9747 - val_loss: 0.1292 - val_categorical_accuracy: 0.9620\n",
      "Epoch 4/10\n",
      "313/313 [==============================] - 8s 26ms/step - loss: 0.0537 - categorical_accuracy: 0.9870 - val_loss: 0.1244 - val_categorical_accuracy: 0.9680\n",
      "Epoch 5/10\n",
      "313/313 [==============================] - 8s 27ms/step - loss: 0.0276 - categorical_accuracy: 0.9933 - val_loss: 0.1323 - val_categorical_accuracy: 0.9640\n",
      "Epoch 6/10\n",
      "313/313 [==============================] - 8s 27ms/step - loss: 0.0119 - categorical_accuracy: 0.9982 - val_loss: 0.1419 - val_categorical_accuracy: 0.9640\n"
     ]
    },
    {
     "data": {
      "image/png": "[encoded data removed]",
      "text/plain": [
       "<Figure size 432x288 with 1 Axes>"
      ]
     },
     "metadata": {
      "needs_background": "light"
     },
     "output_type": "display_data"
    }
   ],
   "source": [
    "history = model.fit(X_train, \n",
    "                    y_train, \n",
    "                    validation_data=(X_test, y_test), \n",
    "                    batch_size=32, \n",
    "                    epochs=10, \n",
    "                    callbacks=tf.keras.callbacks.EarlyStopping(monitor='val_categorical_accuracy', patience=2))\n",
    "\n",
    "for key in ['categorical_accuracy', 'val_categorical_accuracy']:\n",
    "    plt.plot(history.history[key], label=key)\n",
    "plt.legend()\n",
    "plt.show()"
   ]
  },
  {
   "cell_type": "code",
   "execution_count": 24,
   "id": "suitable-promotion",
   "metadata": {},
   "outputs": [
    {
     "name": "stdout",
     "output_type": "stream",
     "text": [
      "INFO:tensorflow:Assets written to: data/ner_model/assets\n"
     ]
    }
   ],
   "source": [
    "model.save('data/ner_model/')"
   ]
  },
  {
   "cell_type": "code",
   "execution_count": 25,
   "id": "necessary-fabric",
   "metadata": {},
   "outputs": [
    {
     "name": "stdout",
     "output_type": "stream",
     "text": [
      "1.0\n",
      "0.9702970297029703\n",
      "0.9701492537313433\n",
      "0.973421926910299\n",
      "0.972568578553616\n",
      "0.9660678642714571\n",
      "0.9633943427620633\n",
      "0.9657631954350927\n",
      "0.9662921348314607\n",
      "0.9622641509433962\n"
     ]
    }
   ],
   "source": [
    "results = []\n",
    "for a in range(1000):\n",
    "    results.append(np.argmax(model.predict(X_test[a].reshape(1,-1)))==np.argmax(y_test[a]))\n",
    "    if not a%100:\n",
    "        print(np.mean(results))"
   ]
  },
  {
   "cell_type": "code",
   "execution_count": 26,
   "id": "latter-village",
   "metadata": {},
   "outputs": [],
   "source": [
    "it = train[['Word', 'POS', 'Tag']].itertuples(index=False, name=None)\n",
    "row = []\n",
    "for a in range (5):\n",
    "    row.append(next(it))"
   ]
  },
  {
   "cell_type": "code",
   "execution_count": 27,
   "id": "subjective-harris",
   "metadata": {},
   "outputs": [
    {
     "data": {
      "text/plain": [
       "[('thousands', 'NNS', 'O'),\n",
       " ('of', 'IN', 'O'),\n",
       " ('demonstrators', 'NNS', 'O'),\n",
       " ('have', 'VBP', 'O'),\n",
       " ('marched', 'VBN', 'O')]"
      ]
     },
     "execution_count": 27,
     "metadata": {},
     "output_type": "execute_result"
    }
   ],
   "source": [
    "row"
   ]
  },
  {
   "cell_type": "code",
   "execution_count": 38,
   "id": "fuzzy-corps",
   "metadata": {},
   "outputs": [
    {
     "data": {
      "text/plain": [
       "[6492, 6492, 0, 0, 0, 5, 30814, 0, 0, 15, 32048, 0, 0, 16]"
      ]
     },
     "execution_count": 38,
     "metadata": {},
     "output_type": "execute_result"
    }
   ],
   "source": [
    "features = build_features(row, mode='predict')\n",
    "features"
   ]
  },
  {
   "cell_type": "code",
   "execution_count": 39,
   "id": "saving-charles",
   "metadata": {},
   "outputs": [
    {
     "data": {
      "text/plain": [
       "10"
      ]
     },
     "execution_count": 39,
     "metadata": {},
     "output_type": "execute_result"
    }
   ],
   "source": [
    "prediction = model.predict(np.array(features).reshape(1,-1))\n",
    "np.argmax(prediction)"
   ]
  },
  {
   "cell_type": "code",
   "execution_count": 31,
   "id": "medical-structure",
   "metadata": {},
   "outputs": [
    {
     "data": {
      "text/plain": [
       "'O'"
      ]
     },
     "execution_count": 31,
     "metadata": {},
     "output_type": "execute_result"
    }
   ],
   "source": [
    "index_to_tag[10]"
   ]
  },
  {
   "cell_type": "code",
   "execution_count": 2,
   "id": "embedded-pavilion",
   "metadata": {},
   "outputs": [],
   "source": [
    "model = keras.models.load_model('data/ner_model/')"
   ]
  },
  {
   "cell_type": "code",
   "execution_count": null,
   "id": "annoying-stability",
   "metadata": {},
   "outputs": [],
   "source": []
  }
 ],
 "metadata": {
  "kernelspec": {
   "display_name": "Python 3",
   "language": "python",
   "name": "python3"
  },
  "language_info": {
   "codemirror_mode": {
    "name": "ipython",
    "version": 3
   },
   "file_extension": ".py",
   "mimetype": "text/x-python",
   "name": "python",
   "nbconvert_exporter": "python",
   "pygments_lexer": "ipython3",
   "version": "3.8.7"
  }
 },
 "nbformat": 4,
 "nbformat_minor": 5
}
