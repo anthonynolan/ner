{
 "cells": [
  {
   "cell_type": "code",
   "execution_count": 4,
   "id": "settled-brain",
   "metadata": {},
   "outputs": [],
   "source": [
    "import pandas as pd\n",
    "import numpy as np\n",
    "import tensorflow as tf\n",
    "import itertools\n",
    "from tensorflow import keras\n",
    "from tensorflow.keras import layers\n",
    "from sklearn.model_selection import train_test_split\n",
    "import matplotlib.pyplot as plt"
   ]
  },
  {
   "cell_type": "code",
   "execution_count": 146,
   "id": "comic-football",
   "metadata": {},
   "outputs": [
    {
     "data": {
      "text/html": [
       "<div>\n",
       "<style scoped>\n",
       "    .dataframe tbody tr th:only-of-type {\n",
       "        vertical-align: middle;\n",
       "    }\n",
       "\n",
       "    .dataframe tbody tr th {\n",
       "        vertical-align: top;\n",
       "    }\n",
       "\n",
       "    .dataframe thead th {\n",
       "        text-align: right;\n",
       "    }\n",
       "</style>\n",
       "<table border=\"1\" class=\"dataframe\">\n",
       "  <thead>\n",
       "    <tr style=\"text-align: right;\">\n",
       "      <th></th>\n",
       "      <th>word</th>\n",
       "      <th>pos</th>\n",
       "    </tr>\n",
       "  </thead>\n",
       "  <tbody>\n",
       "    <tr>\n",
       "      <th>0</th>\n",
       "      <td>an</td>\n",
       "      <td>DT</td>\n",
       "    </tr>\n",
       "    <tr>\n",
       "      <th>1</th>\n",
       "      <td>Oct.</td>\n",
       "      <td>NNP</td>\n",
       "    </tr>\n",
       "    <tr>\n",
       "      <th>2</th>\n",
       "      <td>19</td>\n",
       "      <td>CD</td>\n",
       "    </tr>\n",
       "    <tr>\n",
       "      <th>3</th>\n",
       "      <td>review</td>\n",
       "      <td>NN</td>\n",
       "    </tr>\n",
       "    <tr>\n",
       "      <th>4</th>\n",
       "      <td>of</td>\n",
       "      <td>IN</td>\n",
       "    </tr>\n",
       "    <tr>\n",
       "      <th>5</th>\n",
       "      <td>``</td>\n",
       "      <td>``</td>\n",
       "    </tr>\n",
       "    <tr>\n",
       "      <th>6</th>\n",
       "      <td>The</td>\n",
       "      <td>DT</td>\n",
       "    </tr>\n",
       "    <tr>\n",
       "      <th>7</th>\n",
       "      <td>Misanthrope</td>\n",
       "      <td>NN</td>\n",
       "    </tr>\n",
       "    <tr>\n",
       "      <th>8</th>\n",
       "      <td>''</td>\n",
       "      <td>''</td>\n",
       "    </tr>\n",
       "    <tr>\n",
       "      <th>9</th>\n",
       "      <td>at</td>\n",
       "      <td>IN</td>\n",
       "    </tr>\n",
       "    <tr>\n",
       "      <th>10</th>\n",
       "      <td>Chicago</td>\n",
       "      <td>NNP</td>\n",
       "    </tr>\n",
       "    <tr>\n",
       "      <th>11</th>\n",
       "      <td>'s</td>\n",
       "      <td>POS</td>\n",
       "    </tr>\n",
       "    <tr>\n",
       "      <th>12</th>\n",
       "      <td>Goodman</td>\n",
       "      <td>NNP</td>\n",
       "    </tr>\n",
       "    <tr>\n",
       "      <th>13</th>\n",
       "      <td>Theatre</td>\n",
       "      <td>NNP</td>\n",
       "    </tr>\n",
       "    <tr>\n",
       "      <th>14</th>\n",
       "      <td>(</td>\n",
       "      <td>(</td>\n",
       "    </tr>\n",
       "    <tr>\n",
       "      <th>15</th>\n",
       "      <td>``</td>\n",
       "      <td>``</td>\n",
       "    </tr>\n",
       "    <tr>\n",
       "      <th>16</th>\n",
       "      <td>Revitalized</td>\n",
       "      <td>VBN</td>\n",
       "    </tr>\n",
       "    <tr>\n",
       "      <th>17</th>\n",
       "      <td>Classics</td>\n",
       "      <td>NNS</td>\n",
       "    </tr>\n",
       "    <tr>\n",
       "      <th>18</th>\n",
       "      <td>Take</td>\n",
       "      <td>VBP</td>\n",
       "    </tr>\n",
       "    <tr>\n",
       "      <th>19</th>\n",
       "      <td>the</td>\n",
       "      <td>DT</td>\n",
       "    </tr>\n",
       "  </tbody>\n",
       "</table>\n",
       "</div>"
      ],
      "text/plain": [
       "           word  pos\n",
       "0            an   DT\n",
       "1          Oct.  NNP\n",
       "2            19   CD\n",
       "3        review   NN\n",
       "4            of   IN\n",
       "5            ``   ``\n",
       "6           The   DT\n",
       "7   Misanthrope   NN\n",
       "8            ''   ''\n",
       "9            at   IN\n",
       "10      Chicago  NNP\n",
       "11           's  POS\n",
       "12      Goodman  NNP\n",
       "13      Theatre  NNP\n",
       "14            (    (\n",
       "15           ``   ``\n",
       "16  Revitalized  VBN\n",
       "17     Classics  NNS\n",
       "18         Take  VBP\n",
       "19          the   DT"
      ]
     },
     "execution_count": 146,
     "metadata": {},
     "output_type": "execute_result"
    }
   ],
   "source": [
    "train = pd.read_csv('data/WSJ_02-21.pos', sep='\\t', header=0, names=['word', 'pos'])\n",
    "test = pd.read_csv('data/WSJ_24.pos', sep='\\t', header=0, names=['word', 'pos'])\n",
    "train.head(20)"
   ]
  },
  {
   "cell_type": "code",
   "execution_count": 20,
   "id": "wrapped-crisis",
   "metadata": {},
   "outputs": [
    {
     "name": "stdout",
     "output_type": "stream",
     "text": [
      "tags in training, but not in the original treebank set: {'``', ',', '#', '.', '(', '$', ':', \"''\", ')'}\n"
     ]
    }
   ],
   "source": [
    "# Strip some non pos tags from the input data\n",
    "with open('data/penn_trebank.txt', 'tr') as f:\n",
    "    content = f.readlines()\n",
    "\n",
    "tidy = {}\n",
    "for i in range(0, len(content)-1, 2):\n",
    "    tidy[content[i].strip()] = content[i+1].strip()\n",
    "    \n",
    "tags_for_removal = set(train.pos.values)- set(tidy.keys())\n",
    "print(f'tags in training, but not in the original treebank set: {tags_for_removal}')"
   ]
  },
  {
   "cell_type": "code",
   "execution_count": 147,
   "id": "horizontal-influence",
   "metadata": {},
   "outputs": [],
   "source": [
    "#from collections import Counter\n",
    "#Counter(train.itertuples(index=False, name=None)).most_common()"
   ]
  },
  {
   "cell_type": "code",
   "execution_count": 23,
   "id": "about-conviction",
   "metadata": {},
   "outputs": [],
   "source": [
    "sequence_length = 5 # centre word, 2 before and 2 afer"
   ]
  },
  {
   "cell_type": "code",
   "execution_count": 97,
   "id": "civic-denmark",
   "metadata": {},
   "outputs": [
    {
     "data": {
      "text/plain": [
       "[('an', 'DT'),\n",
       " ('Oct.', 'NNP'),\n",
       " ('19', 'CD'),\n",
       " ('review', 'NN'),\n",
       " ('of', 'IN'),\n",
       " ('The', 'DT'),\n",
       " ('Misanthrope', 'NN'),\n",
       " ('at', 'IN'),\n",
       " ('Chicago', 'NNP'),\n",
       " (\"'s\", 'POS'),\n",
       " ('Goodman', 'NNP'),\n",
       " ('Theatre', 'NNP'),\n",
       " ('Revitalized', 'VBN'),\n",
       " ('Classics', 'NNS'),\n",
       " ('Take', 'VBP'),\n",
       " ('the', 'DT'),\n",
       " ('Stage', 'NN'),\n",
       " ('in', 'IN'),\n",
       " ('Windy', 'NNP'),\n",
       " ('City', 'NNP')]"
      ]
     },
     "execution_count": 97,
     "metadata": {},
     "output_type": "execute_result"
    }
   ],
   "source": [
    "input_data = []\n",
    "for tup in train.itertuples(index=False, name=None):\n",
    "    if tup[1] not in tags_for_removal:\n",
    "        input_data.append(tup)\n",
    "input_data[:20]"
   ]
  },
  {
   "cell_type": "code",
   "execution_count": 59,
   "id": "coral-captain",
   "metadata": {},
   "outputs": [],
   "source": [
    "matrix = []\n",
    "for index in range(len(input_data)):\n",
    "    if index+sequence_length>len(input_data):\n",
    "        break\n",
    "    matrix.append(input_data[index:index+sequence_length])\n",
    "    index+=sequence_length"
   ]
  },
  {
   "cell_type": "code",
   "execution_count": 60,
   "id": "instrumental-capacity",
   "metadata": {},
   "outputs": [
    {
     "name": "stdout",
     "output_type": "stream",
     "text": [
      "44389\n",
      "47551\n",
      "47570\n",
      "47570 45\n"
     ]
    }
   ],
   "source": [
    "suffixes = []\n",
    "for item in set(train['word']):\n",
    "    suffixes.append(item[-3:])\n",
    "    \n",
    "initial_letters = []\n",
    "for item in set(train['word']):\n",
    "    initial_letters.append(item[0])\n",
    "    \n",
    "pos_vocab = set(train['pos'])\n",
    "index_to_pos = {k:v for k, v in enumerate(pos_vocab)}\n",
    "pos_to_index = {v:k for k, v in index_to_pos.items()}\n",
    "\n",
    "word_vocab = set(train['word'])\n",
    "print(len(word_vocab))\n",
    "\n",
    "word_vocab.update(suffixes)\n",
    "print(len(word_vocab))\n",
    "\n",
    "word_vocab.update(initial_letters)\n",
    "print(len(word_vocab))\n",
    "\n",
    "index_to_word = {k+len(pos_vocab): v for k, v in enumerate(word_vocab)}\n",
    "word_to_index = {v:k for k, v in index_to_word.items()}\n",
    "\n",
    "print(len(word_vocab), len(pos_vocab))"
   ]
  },
  {
   "cell_type": "code",
   "execution_count": 136,
   "id": "initial-alignment",
   "metadata": {},
   "outputs": [
    {
     "name": "stdout",
     "output_type": "stream",
     "text": [
      "There are 44389 tuples in the dict\n",
      "an DT\n",
      "Oct. NNP\n",
      "19 CD\n",
      "review VBP\n",
      "of RP\n"
     ]
    }
   ],
   "source": [
    "from collections import Counter\n",
    "\n",
    "winners = {}\n",
    "for row in Counter(list(train.itertuples(index=False, name=None))):\n",
    "    if row[0] not in winners:\n",
    "        winners[row[0]] = row[1]\n",
    "    elif winners[row[0]]< row[1]:\n",
    "        winners[row[0]] = row[1]\n",
    "        \n",
    "print(f'There are {len(winners)} tuples in the dict')\n",
    "\n",
    "for key in list(winners.keys())[:5]:\n",
    "    print(key, winners[key])"
   ]
  },
  {
   "cell_type": "code",
   "execution_count": 145,
   "id": "smooth-boundary",
   "metadata": {},
   "outputs": [],
   "source": [
    "import json\n",
    "with open('jq/word_to_index.json', 'wt') as f:\n",
    "    f.write(json.dumps(word_to_index))\n",
    "    \n",
    "with open('jq/pos_to_index.json', 'wt') as f:\n",
    "    f.write(json.dumps(pos_to_index))\n",
    "    \n",
    "with open('jq/index_to_pos.json', 'wt') as f:\n",
    "    f.write(json.dumps(index_to_pos))    \n",
    "    \n",
    "with open('jq/most_common_tag_for_word.json', 'wt') as f:\n",
    "    f.write(json.dumps(winners))"
   ]
  },
  {
   "cell_type": "code",
   "execution_count": 100,
   "id": "crazy-packaging",
   "metadata": {},
   "outputs": [],
   "source": [
    "def build_features(row):\n",
    "    features = []\n",
    "\n",
    "    features.append(pos_to_index[row[1][1]])\n",
    "    features.append(pos_to_index[row[0][1]])\n",
    "\n",
    "    features.append(word_to_index[row[2][0][-3:]])\n",
    "    features.append(word_to_index[row[2][0][0]])\n",
    "    \n",
    "    features.append(word_to_index[row[2][0]])\n",
    "    \n",
    "    features.append(word_to_index[row[1][0]])\n",
    "    \n",
    "    features.append(word_to_index[row[1][0][-3:]])\n",
    "    \n",
    "    features.append(word_to_index[row[0][0]])\n",
    "    features.append(word_to_index[row[3][0]])    \n",
    "    features.append(word_to_index[row[3][0][-3:]])    \n",
    "    features.append(word_to_index[row[4][0]])\n",
    "    features.append(pos_to_index[row[2][1]])\n",
    "    return features"
   ]
  },
  {
   "cell_type": "code",
   "execution_count": 101,
   "id": "guilty-blackjack",
   "metadata": {},
   "outputs": [],
   "source": [
    "transformed_matrix = []\n",
    "\n",
    "for row in matrix:\n",
    "    features = build_features(row)    \n",
    "    transformed_matrix.append(features)  "
   ]
  },
  {
   "cell_type": "code",
   "execution_count": 83,
   "id": "analyzed-classification",
   "metadata": {},
   "outputs": [],
   "source": [
    "def get_model(vocab_size, d_model):\n",
    "\n",
    "    model = keras.Sequential()\n",
    "    model.add(layers.Embedding(input_dim=vocab_size, output_dim=d_model, input_length=11))\n",
    "    model.add(layers.Flatten())\n",
    "    model.add(layers.Dense(100, activation='relu'))\n",
    "    model.add(layers.Dropout(.1))\n",
    "    model.add(layers.Dense(len(pos_vocab), activation='sigmoid'))\n",
    "\n",
    "    return model"
   ]
  },
  {
   "cell_type": "code",
   "execution_count": 84,
   "id": "remarkable-electronics",
   "metadata": {},
   "outputs": [
    {
     "name": "stdout",
     "output_type": "stream",
     "text": [
      "Model: \"sequential_6\"\n",
      "_________________________________________________________________\n",
      "Layer (type)                 Output Shape              Param #   \n",
      "=================================================================\n",
      "embedding_6 (Embedding)      (None, 11, 100)           4761500   \n",
      "_________________________________________________________________\n",
      "flatten_6 (Flatten)          (None, 1100)              0         \n",
      "_________________________________________________________________\n",
      "dense_7 (Dense)              (None, 100)               110100    \n",
      "_________________________________________________________________\n",
      "dropout (Dropout)            (None, 100)               0         \n",
      "_________________________________________________________________\n",
      "dense_8 (Dense)              (None, 45)                4545      \n",
      "=================================================================\n",
      "Total params: 4,876,145\n",
      "Trainable params: 4,876,145\n",
      "Non-trainable params: 0\n",
      "_________________________________________________________________\n"
     ]
    }
   ],
   "source": [
    "model = get_model(len(word_vocab)+len(pos_vocab), 100)\n",
    "model.summary()"
   ]
  },
  {
   "cell_type": "code",
   "execution_count": 85,
   "id": "premium-yeast",
   "metadata": {},
   "outputs": [],
   "source": [
    "model.compile(optimizer=keras.optimizers.Adam(), loss=keras.losses.CategoricalCrossentropy()\n",
    "              , metrics=[keras.metrics.CategoricalAccuracy()])"
   ]
  },
  {
   "cell_type": "code",
   "execution_count": 86,
   "id": "supposed-arbitration",
   "metadata": {},
   "outputs": [
    {
     "data": {
      "text/plain": [
       "((832779, 11), (832779, 45))"
      ]
     },
     "execution_count": 86,
     "metadata": {},
     "output_type": "execute_result"
    }
   ],
   "source": [
    "X, y = np.array(transformed_matrix)[:, :-1], keras.utils.to_categorical(np.array(transformed_matrix)[:, -1], num_classes=len(pos_vocab))\n",
    "X.shape, y.shape"
   ]
  },
  {
   "cell_type": "code",
   "execution_count": 95,
   "id": "rough-internet",
   "metadata": {},
   "outputs": [],
   "source": [
    "max_train_size = 50000\n",
    "X_train = X[:max_train_size]\n",
    "X_test = X[max_train_size:max_train_size+int(.1*max_train_size)]\n",
    "\n",
    "y_train = y[:max_train_size]\n",
    "y_test = y[max_train_size:max_train_size+int(.1*max_train_size)]"
   ]
  },
  {
   "cell_type": "code",
   "execution_count": 96,
   "id": "trained-straight",
   "metadata": {},
   "outputs": [
    {
     "name": "stdout",
     "output_type": "stream",
     "text": [
      "Epoch 1/10\n",
      "1563/1563 [==============================] - 63s 40ms/step - loss: 0.0454 - categorical_accuracy: 0.9883 - val_loss: 0.1446 - val_categorical_accuracy: 0.9610\n",
      "Epoch 2/10\n",
      "1563/1563 [==============================] - 65s 42ms/step - loss: 0.0075 - categorical_accuracy: 0.9977 - val_loss: 0.1670 - val_categorical_accuracy: 0.9596\n",
      "Epoch 3/10\n",
      "1563/1563 [==============================] - 63s 40ms/step - loss: 0.0027 - categorical_accuracy: 0.9993 - val_loss: 0.2114 - val_categorical_accuracy: 0.9560\n"
     ]
    },
    {
     "data": {
      "image/png": "[encoded data removed]",
      "text/plain": [
       "<Figure size 432x288 with 1 Axes>"
      ]
     },
     "metadata": {
      "needs_background": "light"
     },
     "output_type": "display_data"
    }
   ],
   "source": [
    "history = model.fit(X_train, \n",
    "                    y_train, \n",
    "                    validation_data=(X_test, y_test), \n",
    "                    batch_size=32, \n",
    "                    epochs=10, \n",
    "                    callbacks=tf.keras.callbacks.EarlyStopping(monitor='val_categorical_accuracy', patience=2))\n",
    "\n",
    "for key in ['categorical_accuracy', 'val_categorical_accuracy']:\n",
    "    plt.plot(history.history[key], label=key)\n",
    "plt.legend()\n",
    "plt.show()"
   ]
  },
  {
   "cell_type": "code",
   "execution_count": 98,
   "id": "damaged-track",
   "metadata": {},
   "outputs": [
    {
     "name": "stdout",
     "output_type": "stream",
     "text": [
      "INFO:tensorflow:Assets written to: data/model/assets\n"
     ]
    }
   ],
   "source": [
    "model.save('data/model/')"
   ]
  },
  {
   "cell_type": "code",
   "execution_count": 99,
   "id": "perfect-electron",
   "metadata": {},
   "outputs": [
    {
     "name": "stdout",
     "output_type": "stream",
     "text": [
      "1.0\n",
      "0.9108910891089109\n",
      "0.9303482587064676\n",
      "0.9401993355481728\n",
      "0.9476309226932669\n",
      "0.9461077844311377\n",
      "0.9517470881863561\n",
      "0.9557774607703281\n",
      "0.9575530586766542\n",
      "0.9567147613762487\n"
     ]
    }
   ],
   "source": [
    "results = []\n",
    "for a in range(1000):\n",
    "    results.append(np.argmax(model.predict(X_test[a].reshape(1,-1)))==np.argmax(y_test[a]))\n",
    "    if not a%100:\n",
    "        print(np.mean(results))"
   ]
  },
  {
   "cell_type": "code",
   "execution_count": 3,
   "id": "three-wyoming",
   "metadata": {},
   "outputs": [],
   "source": [
    "model = tf.keras.models.load_model('data/model')"
   ]
  },
  {
   "cell_type": "code",
   "execution_count": 5,
   "id": "blank-stevens",
   "metadata": {},
   "outputs": [
    {
     "data": {
      "text/plain": [
       "38"
      ]
     },
     "execution_count": 5,
     "metadata": {},
     "output_type": "execute_result"
    }
   ],
   "source": [
    "np.argmax(model.predict(np.array([1,2,3,4,5,6,7,8,9,0,11]).reshape(1,-1)))"
   ]
  },
  {
   "cell_type": "code",
   "execution_count": 106,
   "id": "molecular-steal",
   "metadata": {},
   "outputs": [],
   "source": [
    "it = train.itertuples(index=False, name=None)\n",
    "row = []\n",
    "for a in range (5):\n",
    "    row.append(next(it))"
   ]
  },
  {
   "cell_type": "code",
   "execution_count": 107,
   "id": "powered-buffalo",
   "metadata": {},
   "outputs": [
    {
     "data": {
      "text/plain": [
       "[('an', 'DT'), ('Oct.', 'NNP'), ('19', 'CD'), ('review', 'NN'), ('of', 'IN')]"
      ]
     },
     "execution_count": 107,
     "metadata": {},
     "output_type": "execute_result"
    }
   ],
   "source": [
    "row"
   ]
  },
  {
   "cell_type": "code",
   "execution_count": 120,
   "id": "relevant-sterling",
   "metadata": {},
   "outputs": [
    {
     "data": {
      "text/plain": [
       "[12, 13, 13231, 15686, 13231, 294, 42606, 4375, 18076, 20673, 43821]"
      ]
     },
     "execution_count": 120,
     "metadata": {},
     "output_type": "execute_result"
    }
   ],
   "source": [
    "features = build_features(row)[:-1]\n",
    "features"
   ]
  },
  {
   "cell_type": "code",
   "execution_count": 121,
   "id": "negative-effect",
   "metadata": {},
   "outputs": [
    {
     "data": {
      "text/plain": [
       "array([[5.6233226e-08, 9.9999976e-01, 1.5634298e-04, 1.8947423e-03,\n",
       "        2.3107980e-06, 1.0539307e-07, 1.3074412e-06, 7.5778413e-01,\n",
       "        4.5226748e-06, 8.5282909e-07, 1.9502640e-04, 3.1590119e-07,\n",
       "        1.3349169e-01, 4.9526247e-01, 7.1832538e-04, 8.2472759e-01,\n",
       "        3.2293812e-08, 8.0492100e-06, 8.1926584e-04, 9.6384263e-01,\n",
       "        7.6281130e-03, 1.8671662e-02, 3.6413792e-05, 1.7106421e-08,\n",
       "        4.3688919e-09, 1.2299064e-07, 1.3758950e-07, 4.3746829e-04,\n",
       "        9.4354131e-05, 2.6614368e-03, 7.8414421e-05, 4.7831237e-03,\n",
       "        1.2447116e-05, 1.8790201e-06, 6.0346377e-01, 2.2045739e-07,\n",
       "        8.4739199e-08, 3.1835029e-07, 2.3206023e-05, 1.0895926e-04,\n",
       "        1.4855266e-03, 7.5966120e-04, 4.9695373e-04, 4.4587949e-08,\n",
       "        1.7301062e-07]], dtype=float32)"
      ]
     },
     "execution_count": 121,
     "metadata": {},
     "output_type": "execute_result"
    }
   ],
   "source": [
    "prediction = model.predict(np.array(features).reshape(1,-1))\n",
    "prediction"
   ]
  }
 ],
 "metadata": {
  "kernelspec": {
   "display_name": "Python 3",
   "language": "python",
   "name": "python3"
  },
  "language_info": {
   "codemirror_mode": {
    "name": "ipython",
    "version": 3
   },
   "file_extension": ".py",
   "mimetype": "text/x-python",
   "name": "python",
   "nbconvert_exporter": "python",
   "pygments_lexer": "ipython3",
   "version": "3.8.7"
  }
 },
 "nbformat": 4,
 "nbformat_minor": 5
}
