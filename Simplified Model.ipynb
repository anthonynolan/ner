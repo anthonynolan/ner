{
 "cells": [
  {
   "cell_type": "code",
   "execution_count": 103,
   "id": "settled-brain",
   "metadata": {},
   "outputs": [],
   "source": [
    "import pandas as pd\n",
    "import numpy as np\n",
    "import tensorflow as tf\n",
    "import itertools\n",
    "from tensorflow import keras\n",
    "from tensorflow.keras import layers\n",
    "from sklearn.model_selection import train_test_split\n",
    "import matplotlib.pyplot as plt"
   ]
  },
  {
   "cell_type": "code",
   "execution_count": 104,
   "id": "comic-football",
   "metadata": {},
   "outputs": [],
   "source": [
    "train = pd.read_csv('data/WSJ_02-21.pos', sep='\\t', header=0, names=['word', 'pos'])\n",
    "test = pd.read_csv('data/WSJ_24.pos', sep='\\t', header=0, names=['word', 'pos'])\n",
    "train.head()"
   ]
  },
  {
   "cell_type": "code",
   "execution_count": 106,
   "id": "about-conviction",
   "metadata": {},
   "outputs": [],
   "source": [
    "sequence_length = 5 # centre word, 2 before and 2 afer"
   ]
  },
  {
   "cell_type": "code",
   "execution_count": 107,
   "id": "civic-denmark",
   "metadata": {},
   "outputs": [
    {
     "data": {
      "text/plain": [
       "[('an', 'DT'),\n",
       " ('Oct.', 'NNP'),\n",
       " ('19', 'CD'),\n",
       " ('review', 'NN'),\n",
       " ('of', 'IN'),\n",
       " ('``', '``'),\n",
       " ('The', 'DT'),\n",
       " ('Misanthrope', 'NN'),\n",
       " (\"''\", \"''\"),\n",
       " ('at', 'IN')]"
      ]
     },
     "execution_count": 107,
     "metadata": {},
     "output_type": "execute_result"
    }
   ],
   "source": [
    "input_data = []\n",
    "for tup in train.itertuples(index=False, name=None):\n",
    "    input_data.append(tup)\n",
    "input_data[:10]"
   ]
  },
  {
   "cell_type": "code",
   "execution_count": 108,
   "id": "coral-captain",
   "metadata": {},
   "outputs": [],
   "source": [
    "matrix = []\n",
    "for index in range(len(input_data)):\n",
    "    if index+sequence_length>len(input_data):\n",
    "        break\n",
    "    matrix.append(input_data[index:index+sequence_length])\n",
    "    index+=sequence_length"
   ]
  },
  {
   "cell_type": "code",
   "execution_count": 142,
   "id": "instrumental-capacity",
   "metadata": {},
   "outputs": [
    {
     "name": "stdout",
     "output_type": "stream",
     "text": [
      "44389\n",
      "47551\n",
      "47570\n"
     ]
    }
   ],
   "source": [
    "suffixes = []\n",
    "for item in set(train['word']):\n",
    "    suffixes.append(item[-3:])\n",
    "    \n",
    "initial_letters = []\n",
    "for item in set(train['word']):\n",
    "    initial_letters.append(item[0])\n",
    "    \n",
    "pos_vocab = set(train['pos'])\n",
    "index_to_pos = {k:v for k, v in enumerate(pos_vocab)}\n",
    "pos_to_index = {v:k for k, v in index_to_pos.items()}\n",
    "\n",
    "word_vocab = set(train['word'])\n",
    "print(len(word_vocab))\n",
    "\n",
    "word_vocab.update(suffixes)\n",
    "print(len(word_vocab))\n",
    "\n",
    "word_vocab.update(initial_letters)\n",
    "print(len(word_vocab))\n",
    "\n",
    "index_to_word = {k+len(pos_vocab): v for k, v in enumerate(word_vocab)}\n",
    "word_to_index = {v:k for k, v in index_to_word.items()}\n",
    "\n",
    "print(len(word_vocab), len(pos_vocab))"
   ]
  },
  {
   "cell_type": "code",
   "execution_count": 149,
   "id": "guilty-blackjack",
   "metadata": {},
   "outputs": [],
   "source": [
    "transformed_matrix = []\n",
    "\n",
    "for row in matrix:\n",
    "    features = []\n",
    "\n",
    "    features.append(pos_to_index[row[1][1]])\n",
    "    features.append(pos_to_index[row[0][1]])\n",
    "\n",
    "    features.append(word_to_index[row[2][0][-3:]])\n",
    "    features.append(word_to_index[row[2][0][0]])\n",
    "    features.append(word_to_index[row[2][0]])\n",
    "    features.append(word_to_index[row[1][0]])\n",
    "    features.append(word_to_index[row[1][0][-3:]])\n",
    "    features.append(word_to_index[row[0][0]])\n",
    "    features.append(word_to_index[row[3][0]])    \n",
    "    features.append(word_to_index[row[3][0][-3:]])    \n",
    "    features.append(word_to_index[row[4][0]])\n",
    "    features.append(pos_to_index[row[2][1]])\n",
    "    \n",
    "    transformed_matrix.append(features)  "
   ]
  },
  {
   "cell_type": "code",
   "execution_count": 153,
   "id": "analyzed-classification",
   "metadata": {},
   "outputs": [],
   "source": [
    "def get_model(vocab_size, d_model):\n",
    "\n",
    "    model = keras.Sequential()\n",
    "    model.add(layers.Embedding(input_dim=vocab_size, output_dim=d_model, input_length=11))\n",
    "    model.add(layers.Flatten())\n",
    "    model.add(layers.Dense(len(pos_vocab), activation='sigmoid'))\n",
    "\n",
    "    return model"
   ]
  },
  {
   "cell_type": "code",
   "execution_count": 154,
   "id": "remarkable-electronics",
   "metadata": {},
   "outputs": [
    {
     "name": "stdout",
     "output_type": "stream",
     "text": [
      "Model: \"sequential_5\"\n",
      "_________________________________________________________________\n",
      "Layer (type)                 Output Shape              Param #   \n",
      "=================================================================\n",
      "embedding_5 (Embedding)      (None, 11, 100)           4761500   \n",
      "_________________________________________________________________\n",
      "flatten_5 (Flatten)          (None, 1100)              0         \n",
      "_________________________________________________________________\n",
      "dense_4 (Dense)              (None, 45)                49545     \n",
      "=================================================================\n",
      "Total params: 4,811,045\n",
      "Trainable params: 4,811,045\n",
      "Non-trainable params: 0\n",
      "_________________________________________________________________\n"
     ]
    }
   ],
   "source": [
    "model = get_model(len(word_vocab)+len(pos_vocab), 100)\n",
    "model.summary()"
   ]
  },
  {
   "cell_type": "code",
   "execution_count": 155,
   "id": "premium-yeast",
   "metadata": {},
   "outputs": [],
   "source": [
    "model.compile(optimizer=keras.optimizers.Adam(), loss=keras.losses.CategoricalCrossentropy()\n",
    "              , metrics=[keras.metrics.CategoricalCrossentropy(), keras.metrics.CategoricalAccuracy()])"
   ]
  },
  {
   "cell_type": "code",
   "execution_count": 220,
   "id": "supposed-arbitration",
   "metadata": {},
   "outputs": [
    {
     "data": {
      "text/plain": [
       "((950023, 11), (950023, 45))"
      ]
     },
     "execution_count": 220,
     "metadata": {},
     "output_type": "execute_result"
    }
   ],
   "source": [
    "X, y = np.array(transformed_matrix)[:, :-1], keras.utils.to_categorical(np.array(transformed_matrix)[:, -1], num_classes=len(pos_vocab))\n",
    "X.shape, y.shape"
   ]
  },
  {
   "cell_type": "code",
   "execution_count": 182,
   "id": "rough-internet",
   "metadata": {},
   "outputs": [],
   "source": [
    "X_train = X[:10000]\n",
    "X_test = X[10000:11000]\n",
    "\n",
    "y_train = y[:10000]\n",
    "y_test = y[10000:11000]"
   ]
  },
  {
   "cell_type": "code",
   "execution_count": 183,
   "id": "trained-straight",
   "metadata": {},
   "outputs": [
    {
     "name": "stdout",
     "output_type": "stream",
     "text": [
      "Epoch 1/5\n",
      "313/313 [==============================] - 13s 41ms/step - loss: 0.0249 - categorical_crossentropy: 0.0249 - categorical_accuracy: 0.9972 - val_loss: 0.2598 - val_categorical_crossentropy: 0.2598 - val_categorical_accuracy: 0.9280\n",
      "Epoch 2/5\n",
      "313/313 [==============================] - 13s 43ms/step - loss: 0.0157 - categorical_crossentropy: 0.0157 - categorical_accuracy: 0.9987 - val_loss: 0.2606 - val_categorical_crossentropy: 0.2606 - val_categorical_accuracy: 0.9290\n",
      "Epoch 3/5\n",
      "313/313 [==============================] - 13s 41ms/step - loss: 0.0103 - categorical_crossentropy: 0.0103 - categorical_accuracy: 0.9993 - val_loss: 0.2623 - val_categorical_crossentropy: 0.2623 - val_categorical_accuracy: 0.9280\n",
      "Epoch 4/5\n",
      "313/313 [==============================] - 13s 41ms/step - loss: 0.0072 - categorical_crossentropy: 0.0072 - categorical_accuracy: 0.9995 - val_loss: 0.2624 - val_categorical_crossentropy: 0.2624 - val_categorical_accuracy: 0.9280\n",
      "Epoch 5/5\n",
      "313/313 [==============================] - 13s 40ms/step - loss: 0.0054 - categorical_crossentropy: 0.0054 - categorical_accuracy: 0.9999 - val_loss: 0.2659 - val_categorical_crossentropy: 0.2659 - val_categorical_accuracy: 0.9240\n"
     ]
    }
   ],
   "source": [
    "history = model.fit(X_train, y_train, validation_data=(X_test, y_test), batch_size=32, epochs=3)"
   ]
  },
  {
   "cell_type": "code",
   "execution_count": 185,
   "id": "accepting-juice",
   "metadata": {},
   "outputs": [
    {
     "data": {
      "image/png": "[encoded data removed]",
      "text/plain": [
       "<Figure size 432x288 with 1 Axes>"
      ]
     },
     "metadata": {
      "needs_background": "light"
     },
     "output_type": "display_data"
    }
   ],
   "source": [
    "for key in ['categorical_accuracy', 'val_categorical_accuracy']:\n",
    "    plt.plot(history.history[key], label=key)\n",
    "plt.legend()\n",
    "plt.show()"
   ]
  },
  {
   "cell_type": "code",
   "execution_count": 216,
   "id": "damaged-track",
   "metadata": {},
   "outputs": [
    {
     "name": "stdout",
     "output_type": "stream",
     "text": [
      "INFO:tensorflow:Assets written to: data/model/assets\n"
     ]
    }
   ],
   "source": [
    "model.save('data/model/')"
   ]
  },
  {
   "cell_type": "code",
   "execution_count": 215,
   "id": "perfect-electron",
   "metadata": {},
   "outputs": [
    {
     "name": "stdout",
     "output_type": "stream",
     "text": [
      "1.0\n",
      "0.9801980198019802\n",
      "0.9502487562189055\n",
      "0.9335548172757475\n",
      "0.9251870324189526\n",
      "0.9121756487025948\n",
      "0.9234608985024958\n",
      "0.9258202567760342\n",
      "0.9250936329588015\n",
      "0.9245283018867925\n"
     ]
    }
   ],
   "source": [
    "results = []\n",
    "for a in range(1000):\n",
    "    results.append(np.argmax(model.predict(X_test[a].reshape(1,-1)))==np.argmax(y_test[a]))\n",
    "    if not a%100:\n",
    "        print(np.mean(results))"
   ]
  }
 ],
 "metadata": {
  "kernelspec": {
   "display_name": "Python 3",
   "language": "python",
   "name": "python3"
  },
  "language_info": {
   "codemirror_mode": {
    "name": "ipython",
    "version": 3
   },
   "file_extension": ".py",
   "mimetype": "text/x-python",
   "name": "python",
   "nbconvert_exporter": "python",
   "pygments_lexer": "ipython3",
   "version": "3.8.7"
  }
 },
 "nbformat": 4,
 "nbformat_minor": 5
}
